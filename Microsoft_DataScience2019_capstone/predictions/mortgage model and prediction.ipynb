{
 "cells": [
  {
   "cell_type": "markdown",
   "metadata": {},
   "source": []
  },
  {
   "cell_type": "code",
   "execution_count": 1,
   "metadata": {},
   "outputs": [],
   "source": [
    "import pandas as pd\n",
    "import seaborn as sns\n",
    "import matplotlib.pyplot as plt\n",
    "import numpy as np\n",
    "import math\n",
    "\n",
    "%matplotlib inline"
   ]
  },
  {
   "cell_type": "code",
   "execution_count": 27,
   "metadata": {},
   "outputs": [],
   "source": [
    "def CategoricalPlots(data, cols, ref='accepted'):\n",
    "    '''\n",
    "    Plot categorical data from the DataFrame 'data' using the columns in cols.\n",
    "    Split the categorical data in line with a label reference\n",
    "    '''\n",
    "    if not('dummy' in data.columns):\n",
    "        data['dummy'] = np.ones(shape = data.shape[0])\n",
    "    for col in cols:\n",
    "        print(col)\n",
    "        counts = data[['dummy', ref, col]].groupby([ref, col], as_index = False).count()\n",
    "        _ = plt.figure(figsize = (13,4))\n",
    "        plt.subplot(1, 2, 1)\n",
    "        temp = counts[counts[ref] == 0][[col, 'dummy']]\n",
    "        plt.bar(temp[col], temp.dummy)\n",
    "        plt.xticks(rotation=90)\n",
    "        plt.title('Counts for ' + col + '\\n not accepted')\n",
    "        plt.ylabel('count')\n",
    "        plt.subplot(1, 2, 2)\n",
    "        temp = counts[counts[ref] == 1][[col, 'dummy']]\n",
    "        plt.bar(temp[col], temp.dummy)\n",
    "        plt.xticks(rotation=90)\n",
    "        plt.title('Counts for ' + col + '\\n accepted')\n",
    "        plt.ylabel('count')\n",
    "        plt.show()\n",
    "\n",
    "def BoxPlots(data, columns, ref = 'accepted'):\n",
    "    for column in columns:\n",
    "        sns.boxplot(x=ref, y=column, data=data)\n",
    "        plt.xlabel(ref)\n",
    "        plt.ylabel(column)\n",
    "        plt.show()\n",
    "        \n",
    "def DistPlots(data, columns):\n",
    "    for column in columns:\n",
    "        ax = sns.distplot(data[column])\n",
    "        plt.xlabel('value')\n",
    "        plt.ylabel('density')\n",
    "        plt.title('Histogram of ' + column)\n",
    "        plt.show()\n",
    "        \n",
    "def ReplaceWithMedian(data, ref = 'property_type', col='applicant_income'):\n",
    "    '''\n",
    "    Replacing a missing value in the \"col\" based on the median calculation from the reference column\n",
    "    '''\n",
    "    for value in data[ref].unique():\n",
    "        replace_median = data[data[ref]==value][col].median()\n",
    "        data.loc[(data[ref]==value) & (data[col].isnull()), col] = replace_median"
   ]
  },
  {
   "cell_type": "code",
   "execution_count": 3,
   "metadata": {
    "scrolled": true
   },
   "outputs": [
    {
     "name": "stdout",
     "output_type": "stream",
     "text": [
      "(500000, 21)\n"
     ]
    },
    {
     "data": {
      "text/html": [
       "<div>\n",
       "<style scoped>\n",
       "    .dataframe tbody tr th:only-of-type {\n",
       "        vertical-align: middle;\n",
       "    }\n",
       "\n",
       "    .dataframe tbody tr th {\n",
       "        vertical-align: top;\n",
       "    }\n",
       "\n",
       "    .dataframe thead th {\n",
       "        text-align: right;\n",
       "    }\n",
       "</style>\n",
       "<table border=\"1\" class=\"dataframe\">\n",
       "  <thead>\n",
       "    <tr style=\"text-align: right;\">\n",
       "      <th></th>\n",
       "      <th>loan_type</th>\n",
       "      <th>property_type</th>\n",
       "      <th>loan_purpose</th>\n",
       "      <th>occupancy</th>\n",
       "      <th>loan_amount</th>\n",
       "      <th>preapproval</th>\n",
       "      <th>msa_md</th>\n",
       "      <th>state_code</th>\n",
       "      <th>county_code</th>\n",
       "      <th>applicant_ethnicity</th>\n",
       "      <th>...</th>\n",
       "      <th>applicant_sex</th>\n",
       "      <th>applicant_income</th>\n",
       "      <th>population</th>\n",
       "      <th>minority_population_pct</th>\n",
       "      <th>ffiecmedian_family_income</th>\n",
       "      <th>tract_to_msa_md_income_pct</th>\n",
       "      <th>number_of_owner-occupied_units</th>\n",
       "      <th>number_of_1_to_4_family_units</th>\n",
       "      <th>lender</th>\n",
       "      <th>co_applicant</th>\n",
       "    </tr>\n",
       "    <tr>\n",
       "      <th>row_id</th>\n",
       "      <th></th>\n",
       "      <th></th>\n",
       "      <th></th>\n",
       "      <th></th>\n",
       "      <th></th>\n",
       "      <th></th>\n",
       "      <th></th>\n",
       "      <th></th>\n",
       "      <th></th>\n",
       "      <th></th>\n",
       "      <th></th>\n",
       "      <th></th>\n",
       "      <th></th>\n",
       "      <th></th>\n",
       "      <th></th>\n",
       "      <th></th>\n",
       "      <th></th>\n",
       "      <th></th>\n",
       "      <th></th>\n",
       "      <th></th>\n",
       "      <th></th>\n",
       "    </tr>\n",
       "  </thead>\n",
       "  <tbody>\n",
       "    <tr>\n",
       "      <th>0</th>\n",
       "      <td>3</td>\n",
       "      <td>1</td>\n",
       "      <td>1</td>\n",
       "      <td>1</td>\n",
       "      <td>70.0</td>\n",
       "      <td>3</td>\n",
       "      <td>18</td>\n",
       "      <td>37</td>\n",
       "      <td>246</td>\n",
       "      <td>2</td>\n",
       "      <td>...</td>\n",
       "      <td>1</td>\n",
       "      <td>24.0</td>\n",
       "      <td>6203.0</td>\n",
       "      <td>44.230</td>\n",
       "      <td>60588.0</td>\n",
       "      <td>50.933</td>\n",
       "      <td>716.0</td>\n",
       "      <td>2642.0</td>\n",
       "      <td>4536</td>\n",
       "      <td>False</td>\n",
       "    </tr>\n",
       "    <tr>\n",
       "      <th>1</th>\n",
       "      <td>1</td>\n",
       "      <td>1</td>\n",
       "      <td>3</td>\n",
       "      <td>1</td>\n",
       "      <td>178.0</td>\n",
       "      <td>3</td>\n",
       "      <td>369</td>\n",
       "      <td>52</td>\n",
       "      <td>299</td>\n",
       "      <td>1</td>\n",
       "      <td>...</td>\n",
       "      <td>1</td>\n",
       "      <td>57.0</td>\n",
       "      <td>5774.0</td>\n",
       "      <td>15.905</td>\n",
       "      <td>54821.0</td>\n",
       "      <td>100.000</td>\n",
       "      <td>1622.0</td>\n",
       "      <td>2108.0</td>\n",
       "      <td>2458</td>\n",
       "      <td>False</td>\n",
       "    </tr>\n",
       "    <tr>\n",
       "      <th>2</th>\n",
       "      <td>2</td>\n",
       "      <td>1</td>\n",
       "      <td>3</td>\n",
       "      <td>1</td>\n",
       "      <td>163.0</td>\n",
       "      <td>3</td>\n",
       "      <td>16</td>\n",
       "      <td>10</td>\n",
       "      <td>306</td>\n",
       "      <td>2</td>\n",
       "      <td>...</td>\n",
       "      <td>1</td>\n",
       "      <td>67.0</td>\n",
       "      <td>6094.0</td>\n",
       "      <td>61.270</td>\n",
       "      <td>67719.0</td>\n",
       "      <td>100.000</td>\n",
       "      <td>760.0</td>\n",
       "      <td>1048.0</td>\n",
       "      <td>5710</td>\n",
       "      <td>False</td>\n",
       "    </tr>\n",
       "    <tr>\n",
       "      <th>3</th>\n",
       "      <td>1</td>\n",
       "      <td>1</td>\n",
       "      <td>1</td>\n",
       "      <td>1</td>\n",
       "      <td>155.0</td>\n",
       "      <td>1</td>\n",
       "      <td>305</td>\n",
       "      <td>47</td>\n",
       "      <td>180</td>\n",
       "      <td>2</td>\n",
       "      <td>...</td>\n",
       "      <td>1</td>\n",
       "      <td>105.0</td>\n",
       "      <td>6667.0</td>\n",
       "      <td>6.246</td>\n",
       "      <td>78439.0</td>\n",
       "      <td>100.000</td>\n",
       "      <td>2025.0</td>\n",
       "      <td>2299.0</td>\n",
       "      <td>5888</td>\n",
       "      <td>True</td>\n",
       "    </tr>\n",
       "    <tr>\n",
       "      <th>4</th>\n",
       "      <td>1</td>\n",
       "      <td>1</td>\n",
       "      <td>1</td>\n",
       "      <td>1</td>\n",
       "      <td>305.0</td>\n",
       "      <td>3</td>\n",
       "      <td>24</td>\n",
       "      <td>37</td>\n",
       "      <td>20</td>\n",
       "      <td>2</td>\n",
       "      <td>...</td>\n",
       "      <td>2</td>\n",
       "      <td>71.0</td>\n",
       "      <td>6732.0</td>\n",
       "      <td>100.000</td>\n",
       "      <td>63075.0</td>\n",
       "      <td>82.200</td>\n",
       "      <td>1464.0</td>\n",
       "      <td>1847.0</td>\n",
       "      <td>289</td>\n",
       "      <td>False</td>\n",
       "    </tr>\n",
       "  </tbody>\n",
       "</table>\n",
       "<p>5 rows × 21 columns</p>\n",
       "</div>"
      ],
      "text/plain": [
       "        loan_type  property_type  loan_purpose  occupancy  loan_amount  \\\n",
       "row_id                                                                   \n",
       "0               3              1             1          1         70.0   \n",
       "1               1              1             3          1        178.0   \n",
       "2               2              1             3          1        163.0   \n",
       "3               1              1             1          1        155.0   \n",
       "4               1              1             1          1        305.0   \n",
       "\n",
       "        preapproval  msa_md  state_code  county_code  applicant_ethnicity  \\\n",
       "row_id                                                                      \n",
       "0                 3      18          37          246                    2   \n",
       "1                 3     369          52          299                    1   \n",
       "2                 3      16          10          306                    2   \n",
       "3                 1     305          47          180                    2   \n",
       "4                 3      24          37           20                    2   \n",
       "\n",
       "        ...  applicant_sex  applicant_income  population  \\\n",
       "row_id  ...                                                \n",
       "0       ...              1              24.0      6203.0   \n",
       "1       ...              1              57.0      5774.0   \n",
       "2       ...              1              67.0      6094.0   \n",
       "3       ...              1             105.0      6667.0   \n",
       "4       ...              2              71.0      6732.0   \n",
       "\n",
       "        minority_population_pct  ffiecmedian_family_income  \\\n",
       "row_id                                                       \n",
       "0                        44.230                    60588.0   \n",
       "1                        15.905                    54821.0   \n",
       "2                        61.270                    67719.0   \n",
       "3                         6.246                    78439.0   \n",
       "4                       100.000                    63075.0   \n",
       "\n",
       "        tract_to_msa_md_income_pct  number_of_owner-occupied_units  \\\n",
       "row_id                                                               \n",
       "0                           50.933                           716.0   \n",
       "1                          100.000                          1622.0   \n",
       "2                          100.000                           760.0   \n",
       "3                          100.000                          2025.0   \n",
       "4                           82.200                          1464.0   \n",
       "\n",
       "        number_of_1_to_4_family_units  lender  co_applicant  \n",
       "row_id                                                       \n",
       "0                              2642.0    4536         False  \n",
       "1                              2108.0    2458         False  \n",
       "2                              1048.0    5710         False  \n",
       "3                              2299.0    5888          True  \n",
       "4                              1847.0     289         False  \n",
       "\n",
       "[5 rows x 21 columns]"
      ]
     },
     "execution_count": 3,
     "metadata": {},
     "output_type": "execute_result"
    }
   ],
   "source": [
    "data = pd.read_csv('train_values.csv', index_col=0)\n",
    "print(data.shape)\n",
    "data.head()"
   ]
  },
  {
   "cell_type": "code",
   "execution_count": null,
   "metadata": {},
   "outputs": [],
   "source": [
    "#data['missing_census'] = data[['number_of_owner-occupied_units', 'number_of_1_to_4_family_units',\n",
    "#                               'ffiecmedian_family_income', 'minority_population_pct', \n",
    "#                               'tract_to_msa_md_income_pct','population']].isna().all(axis=1)\n",
    "\n",
    "print(data['state_code'].unique().shape)\n",
    "print(data['county_code'].unique().shape)\n",
    "data['state_code'].value_counts().sort_index()"
   ]
  },
  {
   "cell_type": "code",
   "execution_count": 4,
   "metadata": {},
   "outputs": [
    {
     "name": "stdout",
     "output_type": "stream",
     "text": [
      "(500000, 1)\n"
     ]
    },
    {
     "data": {
      "text/html": [
       "<div>\n",
       "<style scoped>\n",
       "    .dataframe tbody tr th:only-of-type {\n",
       "        vertical-align: middle;\n",
       "    }\n",
       "\n",
       "    .dataframe tbody tr th {\n",
       "        vertical-align: top;\n",
       "    }\n",
       "\n",
       "    .dataframe thead th {\n",
       "        text-align: right;\n",
       "    }\n",
       "</style>\n",
       "<table border=\"1\" class=\"dataframe\">\n",
       "  <thead>\n",
       "    <tr style=\"text-align: right;\">\n",
       "      <th></th>\n",
       "      <th>accepted</th>\n",
       "    </tr>\n",
       "    <tr>\n",
       "      <th>row_id</th>\n",
       "      <th></th>\n",
       "    </tr>\n",
       "  </thead>\n",
       "  <tbody>\n",
       "    <tr>\n",
       "      <th>0</th>\n",
       "      <td>1</td>\n",
       "    </tr>\n",
       "    <tr>\n",
       "      <th>1</th>\n",
       "      <td>0</td>\n",
       "    </tr>\n",
       "    <tr>\n",
       "      <th>2</th>\n",
       "      <td>1</td>\n",
       "    </tr>\n",
       "    <tr>\n",
       "      <th>3</th>\n",
       "      <td>1</td>\n",
       "    </tr>\n",
       "    <tr>\n",
       "      <th>4</th>\n",
       "      <td>1</td>\n",
       "    </tr>\n",
       "  </tbody>\n",
       "</table>\n",
       "</div>"
      ],
      "text/plain": [
       "        accepted\n",
       "row_id          \n",
       "0              1\n",
       "1              0\n",
       "2              1\n",
       "3              1\n",
       "4              1"
      ]
     },
     "execution_count": 4,
     "metadata": {},
     "output_type": "execute_result"
    }
   ],
   "source": [
    "labels = pd.read_csv('train_labels.csv', index_col=0)\n",
    "print(labels.shape)\n",
    "labels.head()"
   ]
  },
  {
   "cell_type": "code",
   "execution_count": 5,
   "metadata": {},
   "outputs": [],
   "source": [
    "cols_numerical = ['loan_amount', 'applicant_income', 'number_of_owner-occupied_units', 'number_of_1_to_4_family_units',\n",
    "                  'ffiecmedian_family_income', 'minority_population_pct', 'tract_to_msa_md_income_pct','population']\n",
    "cols_categorical = ['loan_type', 'property_type', 'loan_purpose', 'occupancy', 'preapproval', \n",
    "                    'applicant_ethnicity', 'applicant_race', 'applicant_sex','co_applicant']\n",
    "\n",
    "cols_property_location = ['msa_md', 'state_code', 'county_code']\n",
    "\n",
    "cols_lender = ['lender']"
   ]
  },
  {
   "cell_type": "code",
   "execution_count": 6,
   "metadata": {},
   "outputs": [
    {
     "name": "stdout",
     "output_type": "stream",
     "text": [
      "<class 'pandas.core.frame.DataFrame'>\n",
      "Int64Index: 500000 entries, 0 to 499999\n",
      "Data columns (total 17 columns):\n",
      "loan_type                         500000 non-null int64\n",
      "property_type                     500000 non-null int64\n",
      "loan_purpose                      500000 non-null int64\n",
      "occupancy                         500000 non-null int64\n",
      "loan_amount                       500000 non-null float64\n",
      "preapproval                       500000 non-null int64\n",
      "applicant_ethnicity               500000 non-null int64\n",
      "applicant_race                    500000 non-null int64\n",
      "applicant_sex                     500000 non-null int64\n",
      "applicant_income                  460052 non-null float64\n",
      "population                        477535 non-null float64\n",
      "minority_population_pct           477534 non-null float64\n",
      "ffiecmedian_family_income         477560 non-null float64\n",
      "tract_to_msa_md_income_pct        477486 non-null float64\n",
      "number_of_owner-occupied_units    477435 non-null float64\n",
      "number_of_1_to_4_family_units     477470 non-null float64\n",
      "co_applicant                      500000 non-null bool\n",
      "dtypes: bool(1), float64(8), int64(8)\n",
      "memory usage: 65.3 MB\n"
     ]
    }
   ],
   "source": [
    "#data[cols_categorical] = data[cols_categorical].astype('category')\n",
    "\n",
    "# let's drop the property location data and the lender information. This information is basically noise and\n",
    "# does not contribute to meaningfull split between accepted and not accepted state\n",
    "\n",
    "data.drop(['msa_md', 'state_code', 'county_code', 'lender'], inplace=True, axis = 1)\n",
    "\n",
    "data.info()"
   ]
  },
  {
   "cell_type": "code",
   "execution_count": null,
   "metadata": {},
   "outputs": [],
   "source": [
    "cols_categorical"
   ]
  },
  {
   "cell_type": "code",
   "execution_count": null,
   "metadata": {},
   "outputs": [],
   "source": [
    "codes = [['loan_type', {1: 'Conventional',\n",
    "                        2: 'FHA_insured',\n",
    "                        3: 'VA_guaranteed',\n",
    "                        4: 'FSA/RHS'}],\n",
    "         ['property_type', {1: 'One to four_family',\n",
    "                            2: 'Manufactured housing',\n",
    "                            3: 'Multifamily'}],\n",
    "         ['loan_purpose', {1: 'Home purchase',\n",
    "                           2: 'Home improvement',\n",
    "                           3: 'Refinancing'}],\n",
    "         ['occupancy', {1: 'Owner_occupied',\n",
    "                        2: 'Not owner_occupied',\n",
    "                        3: 'Not applicable'}],\n",
    "         ['preapproval',{1: 'Preapproval was requested',\n",
    "                         2: 'Preapproval was not requested',\n",
    "                         3: 'Not applicable'}],\n",
    "         ['applicant_ethnicity',{1: 'Hispanic or Latino',\n",
    "                                   2: 'Not Hispanic or Latino',\n",
    "                                   3: 'Information not provided',\n",
    "                                   4: 'Not applicable',\n",
    "                                   5: 'No co-applicant'}],\n",
    "         ['applicant_race', {1: 'American Indian or Alaska Native',\n",
    "                             2: 'Asian',\n",
    "                             3: 'Black or African American',\n",
    "                             4: 'Native Hawaiian or Other Pacific Islander',\n",
    "                             5: 'White',\n",
    "                             6: 'Information not provided',\n",
    "                             7: 'Not applicable',\n",
    "                             8: 'No co-applicant'}],\n",
    "         ['applicant_sex', {1: 'Male',\n",
    "                            2: 'Female',\n",
    "                            3: 'Information not provided',\n",
    "                            4: 'Not applicable',\n",
    "                            5: 'Not applicable'}]\n",
    "]\n",
    "for code in codes:\n",
    "    col = code[0]\n",
    "    dic = code[1]\n",
    "    data[col] = [dic[x] for x in data[col]]"
   ]
  },
  {
   "cell_type": "code",
   "execution_count": 7,
   "metadata": {},
   "outputs": [],
   "source": [
    "# we can remove it entirely. It is roughly 22000 rows which is 4.4% of the entire dataset\n",
    "# but before this we need to merge the values with labels.\n",
    "\n",
    "data = data.merge(labels, on='row_id')\n",
    "\n",
    "data.drop(data[data[['number_of_owner-occupied_units', 'number_of_1_to_4_family_units',\n",
    "                               'ffiecmedian_family_income', 'minority_population_pct', \n",
    "                               'tract_to_msa_md_income_pct','population']].isna().all(axis=1)].index, inplace=True)"
   ]
  },
  {
   "cell_type": "code",
   "execution_count": 8,
   "metadata": {},
   "outputs": [
    {
     "name": "stdout",
     "output_type": "stream",
     "text": [
      "<class 'pandas.core.frame.DataFrame'>\n",
      "Int64Index: 477560 entries, 0 to 499999\n",
      "Data columns (total 18 columns):\n",
      "loan_type                         477560 non-null int64\n",
      "property_type                     477560 non-null int64\n",
      "loan_purpose                      477560 non-null int64\n",
      "occupancy                         477560 non-null int64\n",
      "loan_amount                       477560 non-null float64\n",
      "preapproval                       477560 non-null int64\n",
      "applicant_ethnicity               477560 non-null int64\n",
      "applicant_race                    477560 non-null int64\n",
      "applicant_sex                     477560 non-null int64\n",
      "applicant_income                  438420 non-null float64\n",
      "population                        477535 non-null float64\n",
      "minority_population_pct           477534 non-null float64\n",
      "ffiecmedian_family_income         477560 non-null float64\n",
      "tract_to_msa_md_income_pct        477486 non-null float64\n",
      "number_of_owner-occupied_units    477435 non-null float64\n",
      "number_of_1_to_4_family_units     477470 non-null float64\n",
      "co_applicant                      477560 non-null bool\n",
      "accepted                          477560 non-null int64\n",
      "dtypes: bool(1), float64(8), int64(9)\n",
      "memory usage: 66.0 MB\n"
     ]
    }
   ],
   "source": [
    "data.info()"
   ]
  },
  {
   "cell_type": "code",
   "execution_count": 15,
   "metadata": {},
   "outputs": [
    {
     "name": "stdout",
     "output_type": "stream",
     "text": [
      "[False  True]\n"
     ]
    }
   ],
   "source": [
    "ref = 'co_applicant'\n",
    "col = 'applicant_income'\n",
    "\n",
    "print(data[ref].unique())\n",
    "\n",
    "for value in data[ref].unique():\n",
    "    replace_median = data[data[ref]==value][col].median()\n",
    "    data.loc[(data[ref]==value) & (data[col].isnull()), col] = replace_median"
   ]
  },
  {
   "cell_type": "code",
   "execution_count": 16,
   "metadata": {},
   "outputs": [
    {
     "name": "stdout",
     "output_type": "stream",
     "text": [
      "<class 'pandas.core.frame.DataFrame'>\n",
      "Int64Index: 477560 entries, 0 to 499999\n",
      "Data columns (total 18 columns):\n",
      "loan_type                         477560 non-null int64\n",
      "property_type                     477560 non-null int64\n",
      "loan_purpose                      477560 non-null int64\n",
      "occupancy                         477560 non-null int64\n",
      "loan_amount                       477560 non-null float64\n",
      "preapproval                       477560 non-null int64\n",
      "applicant_ethnicity               477560 non-null int64\n",
      "applicant_race                    477560 non-null int64\n",
      "applicant_sex                     477560 non-null int64\n",
      "applicant_income                  477560 non-null float64\n",
      "population                        477535 non-null float64\n",
      "minority_population_pct           477534 non-null float64\n",
      "ffiecmedian_family_income         477560 non-null float64\n",
      "tract_to_msa_md_income_pct        477486 non-null float64\n",
      "number_of_owner-occupied_units    477435 non-null float64\n",
      "number_of_1_to_4_family_units     477470 non-null float64\n",
      "co_applicant                      477560 non-null bool\n",
      "accepted                          477560 non-null int64\n",
      "dtypes: bool(1), float64(8), int64(9)\n",
      "memory usage: 66.0 MB\n"
     ]
    }
   ],
   "source": [
    "data.info()"
   ]
  },
  {
   "cell_type": "code",
   "execution_count": null,
   "metadata": {},
   "outputs": [],
   "source": []
  },
  {
   "cell_type": "markdown",
   "metadata": {},
   "source": [
    "Encoding"
   ]
  },
  {
   "cell_type": "code",
   "execution_count": 17,
   "metadata": {},
   "outputs": [],
   "source": [
    "from sklearn import preprocessing\n",
    "import sklearn.model_selection as ms\n",
    "from sklearn import linear_model\n",
    "import sklearn.metrics as sklm\n",
    "from sklearn.ensemble import AdaBoostClassifier\n",
    "from sklearn.ensemble import RandomForestClassifier\n",
    "from sklearn.naive_bayes import GaussianNB, BernoulliNB\n",
    "from sklearn.neural_network import MLPClassifier\n",
    "from sklearn.model_selection import train_test_split\n",
    "from sklearn import metrics\n",
    "from sklearn import feature_selection as fs\n"
   ]
  },
  {
   "cell_type": "code",
   "execution_count": 29,
   "metadata": {},
   "outputs": [
    {
     "name": "stdout",
     "output_type": "stream",
     "text": [
      "<class 'pandas.core.frame.DataFrame'>\n",
      "Int64Index: 477560 entries, 0 to 499999\n",
      "Data columns (total 18 columns):\n",
      "loan_type                         477560 non-null int64\n",
      "property_type                     477560 non-null int64\n",
      "loan_purpose                      477560 non-null int64\n",
      "occupancy                         477560 non-null int64\n",
      "loan_amount                       477560 non-null float64\n",
      "preapproval                       477560 non-null int64\n",
      "applicant_ethnicity               477560 non-null int64\n",
      "applicant_race                    477560 non-null int64\n",
      "applicant_sex                     477560 non-null int64\n",
      "applicant_income                  477560 non-null float64\n",
      "population                        477560 non-null float64\n",
      "minority_population_pct           477560 non-null float64\n",
      "ffiecmedian_family_income         477560 non-null float64\n",
      "tract_to_msa_md_income_pct        477560 non-null float64\n",
      "number_of_owner-occupied_units    477560 non-null float64\n",
      "number_of_1_to_4_family_units     477560 non-null float64\n",
      "co_applicant                      477560 non-null bool\n",
      "accepted                          477560 non-null int64\n",
      "dtypes: bool(1), float64(8), int64(9)\n",
      "memory usage: 66.0 MB\n"
     ]
    }
   ],
   "source": [
    "data.info()"
   ]
  },
  {
   "cell_type": "code",
   "execution_count": 28,
   "metadata": {},
   "outputs": [],
   "source": [
    " [ 'number_of_owner-occupied_units', 'number_of_1_to_4_family_units',\n",
    "               'minority_population_pct', 'tract_to_msa_md_income_pct','population']\n",
    "\n",
    "for col in  [ 'number_of_owner-occupied_units', 'number_of_1_to_4_family_units',\n",
    "               'minority_population_pct', 'tract_to_msa_md_income_pct','population']:\n",
    "    replace_median = data[col].median()\n",
    "    data.loc[(data[col].isnull()), col] = replace_median"
   ]
  },
  {
   "cell_type": "code",
   "execution_count": null,
   "metadata": {},
   "outputs": [],
   "source": [
    "data.shape"
   ]
  },
  {
   "cell_type": "code",
   "execution_count": 80,
   "metadata": {},
   "outputs": [],
   "source": [
    "def encode_category(numeric_category):\n",
    "    ## First encode the strings to numeric categories\n",
    "    #enc = preprocessing.LabelEncoder()\n",
    "    #enc.fit(cat_features)\n",
    "    #enc_cat_features = enc.transform(cat_features)\n",
    "    ## Now, apply one hot encoding\n",
    "    ohe = preprocessing.OneHotEncoder(categories='auto')\n",
    "    encoded = ohe.fit(numeric_category.values.reshape(-1,1))\n",
    "    return encoded.transform(numeric_category.values.reshape(-1,1)).toarray()\n",
    "\n",
    "features = np.array([])\n",
    "\n",
    "for col in cols_categorical:\n",
    "    temp = encode_category(data[col])\n",
    "    if features.shape[0] == 0:\n",
    "        features = temp\n",
    "    else:\n",
    "        features = np.concatenate([features, temp], axis = 1)"
   ]
  },
  {
   "cell_type": "code",
   "execution_count": 81,
   "metadata": {},
   "outputs": [
    {
     "name": "stdout",
     "output_type": "stream",
     "text": [
      "(477560, 33)\n"
     ]
    },
    {
     "data": {
      "text/plain": [
       "array([0., 0., 1., 0., 1., 0., 0., 1., 0., 0., 1., 0., 0., 0., 0., 1., 0.,\n",
       "       1., 0., 0., 0., 0., 0., 0., 1., 0., 0., 1., 0., 0., 0., 1., 0.])"
      ]
     },
     "execution_count": 81,
     "metadata": {},
     "output_type": "execute_result"
    }
   ],
   "source": [
    "print(features.shape)\n",
    "features[0,:]"
   ]
  },
  {
   "cell_type": "code",
   "execution_count": 82,
   "metadata": {},
   "outputs": [],
   "source": [
    "features = np.concatenate([features, np.array(data[cols_numerical])], axis = 1)"
   ]
  },
  {
   "cell_type": "code",
   "execution_count": null,
   "metadata": {},
   "outputs": [],
   "source": [
    "features = np.concatenate([features, np.array(data[cols_property_location_lender])], axis = 1)"
   ]
  },
  {
   "cell_type": "code",
   "execution_count": 90,
   "metadata": {},
   "outputs": [
    {
     "data": {
      "text/plain": [
       "array([0.0000e+00, 0.0000e+00, 1.0000e+00, 0.0000e+00, 1.0000e+00,\n",
       "       0.0000e+00, 0.0000e+00, 1.0000e+00, 0.0000e+00, 0.0000e+00,\n",
       "       1.0000e+00, 0.0000e+00, 0.0000e+00, 0.0000e+00, 0.0000e+00,\n",
       "       1.0000e+00, 0.0000e+00, 1.0000e+00, 0.0000e+00, 0.0000e+00,\n",
       "       0.0000e+00, 0.0000e+00, 0.0000e+00, 0.0000e+00, 1.0000e+00,\n",
       "       0.0000e+00, 0.0000e+00, 1.0000e+00, 0.0000e+00, 0.0000e+00,\n",
       "       0.0000e+00, 1.0000e+00, 0.0000e+00, 7.0000e+01, 2.4000e+01,\n",
       "       7.1600e+02, 2.6420e+03, 6.0588e+04, 4.4230e+01, 5.0933e+01,\n",
       "       6.2030e+03])"
      ]
     },
     "execution_count": 90,
     "metadata": {},
     "output_type": "execute_result"
    }
   ],
   "source": [
    "features[0,:]"
   ]
  },
  {
   "cell_type": "code",
   "execution_count": 91,
   "metadata": {},
   "outputs": [
    {
     "name": "stdout",
     "output_type": "stream",
     "text": [
      "(477560, 41)\n",
      "[ True  True False False False False False  True False  True  True  True\n",
      " False False  True  True  True  True  True False False False False False\n",
      "  True  True False  True  True False False  True  True  True  True  True\n",
      "  True  True  True  True  True]\n",
      "(477560, 25)\n"
     ]
    }
   ],
   "source": [
    "print(features.shape)\n",
    "\n",
    "## Define the variance threhold and fit the threshold to the feature array. \n",
    "sel = fs.VarianceThreshold(threshold=(.9 * (1 - .9)))\n",
    "features_reduced = sel.fit_transform(features)\n",
    "\n",
    "## Print the support and shape for the transformed features\n",
    "print(sel.get_support())\n",
    "print(features_reduced.shape)"
   ]
  },
  {
   "cell_type": "markdown",
   "metadata": {},
   "source": [
    "*Training*"
   ]
  },
  {
   "cell_type": "code",
   "execution_count": 92,
   "metadata": {},
   "outputs": [],
   "source": [
    "X_train, X_test, y_train, y_test = train_test_split(features_reduced, data['accepted'], test_size=0.3) # 70% training and 30% test"
   ]
  },
  {
   "cell_type": "code",
   "execution_count": null,
   "metadata": {},
   "outputs": [],
   "source": [
    "n_est = [50,150,250,500]\n",
    "n_lrn = [0.01, 0.1, 0.5, 0.9]\n",
    "\n",
    "for est in n_est:\n",
    "    for lrn in n_lrn:\n",
    "        # Create adaboost classifer object\n",
    "        abc = AdaBoostClassifier(n_estimators=est, learning_rate=lrn)\n",
    "        # Train Adaboost Classifer\n",
    "        model = abc.fit(X_train, y_train)\n",
    "\n",
    "        #Predict the response for test dataset\n",
    "        y_pred = model.predict(X_test)\n",
    "        \n",
    "        print(\"Estimators:\", est, \"Learners:\", lrn, \"Accuracy:\", metrics.accuracy_score(y_test, y_pred))"
   ]
  },
  {
   "cell_type": "code",
   "execution_count": null,
   "metadata": {},
   "outputs": [],
   "source": [
    "scale = preprocessing.StandardScaler()\n",
    "scale.fit(X_train)\n",
    "X_train = scale.transform(X_train)"
   ]
  },
  {
   "cell_type": "code",
   "execution_count": null,
   "metadata": {},
   "outputs": [],
   "source": [
    "X_test = scale.transform(X_test)"
   ]
  },
  {
   "cell_type": "code",
   "execution_count": null,
   "metadata": {},
   "outputs": [],
   "source": [
    "for est in [5,50, 100]:\n",
    "        # Create adaboost classifer object\n",
    "        abc = RandomForestClassifier(n_estimators=est)\n",
    "        # Train Adaboost Classifer\n",
    "        model = abc.fit(X_train, y_train)\n",
    "\n",
    "        #Predict the response for test dataset\n",
    "        y_pred = model.predict(X_test)\n",
    "        \n",
    "        print(\"Estimators:\", est, \"Accuracy:\", metrics.accuracy_score(y_test, y_pred))"
   ]
  },
  {
   "cell_type": "code",
   "execution_count": 86,
   "metadata": {},
   "outputs": [
    {
     "name": "stdout",
     "output_type": "stream",
     "text": [
      "Accuracy: 0.6349917636876343\n"
     ]
    }
   ],
   "source": [
    "abc = AdaBoostClassifier(n_estimators=250, learning_rate=0.1)\n",
    "model_abc = abc.fit(X_train, y_train)\n",
    "y_pred = model_abc.predict(X_test)\n",
    "        \n",
    "print(\"Accuracy:\", metrics.accuracy_score(y_test, y_pred))"
   ]
  },
  {
   "cell_type": "code",
   "execution_count": 93,
   "metadata": {},
   "outputs": [
    {
     "name": "stdout",
     "output_type": "stream",
     "text": [
      "Accuracy: 0.6476882485970349\n"
     ]
    }
   ],
   "source": [
    "rfc = RandomForestClassifier(n_estimators=60)\n",
    "model_rfc = rfc.fit(X_train, y_train)\n",
    "y_pred = model_rfc.predict(X_test)\n",
    "        \n",
    "print(\"Accuracy:\", metrics.accuracy_score(y_test, y_pred))"
   ]
  },
  {
   "cell_type": "code",
   "execution_count": null,
   "metadata": {},
   "outputs": [],
   "source": [
    "nn_mod = MLPClassifier(hidden_layer_sizes = (50,))\n",
    "nn_model = nn_mod.fit(X_train, y_train)\n",
    "y_pred = nn_model.predict(X_test)\n",
    "        \n",
    "print(\"Accuracy:\", metrics.accuracy_score(y_test, y_pred))\n"
   ]
  },
  {
   "cell_type": "code",
   "execution_count": 87,
   "metadata": {},
   "outputs": [
    {
     "name": "stdout",
     "output_type": "stream",
     "text": [
      "Accuracy: 0.6090613395873468\n"
     ]
    }
   ],
   "source": [
    "nb = BernoulliNB()\n",
    "model_nb = nb.fit(X_train, y_train)\n",
    "y_pred = model_nb.predict(X_test)\n",
    "\n",
    "print(\"Accuracy:\", metrics.accuracy_score(y_test, y_pred))"
   ]
  },
  {
   "cell_type": "code",
   "execution_count": 88,
   "metadata": {},
   "outputs": [
    {
     "name": "stdout",
     "output_type": "stream",
     "text": [
      "Accuracy: 0.6055434570176174\n"
     ]
    }
   ],
   "source": [
    "ng = GaussianNB()\n",
    "model_ng = ng.fit(X_train, y_train)\n",
    "y_pred = model_ng.predict(X_test)\n",
    "\n",
    "print(\"Accuracy:\", metrics.accuracy_score(y_test, y_pred))"
   ]
  },
  {
   "cell_type": "markdown",
   "metadata": {},
   "source": [
    "Score model"
   ]
  },
  {
   "cell_type": "code",
   "execution_count": null,
   "metadata": {},
   "outputs": [],
   "source": [
    "def score_model(probs, threshold):\n",
    "    return np.array([1 if x > threshold else 0 for x in probs[:,1]])\n",
    "scores = score_model(probabilities, 0.5)\n",
    "print(np.array(scores[:15]))\n",
    "print(y_test[:15])"
   ]
  },
  {
   "cell_type": "code",
   "execution_count": null,
   "metadata": {},
   "outputs": [],
   "source": [
    "def print_metrics(labels, scores):\n",
    "    metrics = sklm.precision_recall_fscore_support(labels, scores)\n",
    "    conf = sklm.confusion_matrix(labels, scores)\n",
    "    print('                 Confusion matrix')\n",
    "    print('                 Score positive    Score negative')\n",
    "    print('Actual positive    %6d' % conf[0,0] + '             %5d' % conf[0,1])\n",
    "    print('Actual negative    %6d' % conf[1,0] + '             %5d' % conf[1,1])\n",
    "    print('')\n",
    "    print('Accuracy  %0.2f' % sklm.accuracy_score(labels, scores))\n",
    "    print(' ')\n",
    "    print('           Positive      Negative')\n",
    "    print('Num case   %6d' % metrics[3][0] + '        %6d' % metrics[3][1])\n",
    "    print('Precision  %6.2f' % metrics[0][0] + '        %6.2f' % metrics[0][1])\n",
    "    print('Recall     %6.2f' % metrics[1][0] + '        %6.2f' % metrics[1][1])\n",
    "    print('F1         %6.2f' % metrics[2][0] + '        %6.2f' % metrics[2][1])\n",
    "\n",
    "\n",
    "    \n",
    "print_metrics(y_test, scores) "
   ]
  },
  {
   "cell_type": "code",
   "execution_count": 68,
   "metadata": {},
   "outputs": [
    {
     "name": "stdout",
     "output_type": "stream",
     "text": [
      "(500000, 21)\n"
     ]
    },
    {
     "data": {
      "text/html": [
       "<div>\n",
       "<style scoped>\n",
       "    .dataframe tbody tr th:only-of-type {\n",
       "        vertical-align: middle;\n",
       "    }\n",
       "\n",
       "    .dataframe tbody tr th {\n",
       "        vertical-align: top;\n",
       "    }\n",
       "\n",
       "    .dataframe thead th {\n",
       "        text-align: right;\n",
       "    }\n",
       "</style>\n",
       "<table border=\"1\" class=\"dataframe\">\n",
       "  <thead>\n",
       "    <tr style=\"text-align: right;\">\n",
       "      <th></th>\n",
       "      <th>loan_type</th>\n",
       "      <th>property_type</th>\n",
       "      <th>loan_purpose</th>\n",
       "      <th>occupancy</th>\n",
       "      <th>loan_amount</th>\n",
       "      <th>preapproval</th>\n",
       "      <th>msa_md</th>\n",
       "      <th>state_code</th>\n",
       "      <th>county_code</th>\n",
       "      <th>applicant_ethnicity</th>\n",
       "      <th>...</th>\n",
       "      <th>applicant_sex</th>\n",
       "      <th>applicant_income</th>\n",
       "      <th>population</th>\n",
       "      <th>minority_population_pct</th>\n",
       "      <th>ffiecmedian_family_income</th>\n",
       "      <th>tract_to_msa_md_income_pct</th>\n",
       "      <th>number_of_owner-occupied_units</th>\n",
       "      <th>number_of_1_to_4_family_units</th>\n",
       "      <th>lender</th>\n",
       "      <th>co_applicant</th>\n",
       "    </tr>\n",
       "    <tr>\n",
       "      <th>row_id</th>\n",
       "      <th></th>\n",
       "      <th></th>\n",
       "      <th></th>\n",
       "      <th></th>\n",
       "      <th></th>\n",
       "      <th></th>\n",
       "      <th></th>\n",
       "      <th></th>\n",
       "      <th></th>\n",
       "      <th></th>\n",
       "      <th></th>\n",
       "      <th></th>\n",
       "      <th></th>\n",
       "      <th></th>\n",
       "      <th></th>\n",
       "      <th></th>\n",
       "      <th></th>\n",
       "      <th></th>\n",
       "      <th></th>\n",
       "      <th></th>\n",
       "      <th></th>\n",
       "    </tr>\n",
       "  </thead>\n",
       "  <tbody>\n",
       "    <tr>\n",
       "      <th>0</th>\n",
       "      <td>2</td>\n",
       "      <td>1</td>\n",
       "      <td>3</td>\n",
       "      <td>1</td>\n",
       "      <td>115.0</td>\n",
       "      <td>3</td>\n",
       "      <td>101</td>\n",
       "      <td>16</td>\n",
       "      <td>276</td>\n",
       "      <td>2</td>\n",
       "      <td>...</td>\n",
       "      <td>1</td>\n",
       "      <td>NaN</td>\n",
       "      <td>6329.0</td>\n",
       "      <td>59.536</td>\n",
       "      <td>69889.0</td>\n",
       "      <td>85.78</td>\n",
       "      <td>1874.0</td>\n",
       "      <td>2410.0</td>\n",
       "      <td>3791</td>\n",
       "      <td>True</td>\n",
       "    </tr>\n",
       "    <tr>\n",
       "      <th>1</th>\n",
       "      <td>1</td>\n",
       "      <td>1</td>\n",
       "      <td>1</td>\n",
       "      <td>1</td>\n",
       "      <td>252.0</td>\n",
       "      <td>2</td>\n",
       "      <td>87</td>\n",
       "      <td>20</td>\n",
       "      <td>68</td>\n",
       "      <td>2</td>\n",
       "      <td>...</td>\n",
       "      <td>1</td>\n",
       "      <td>107.0</td>\n",
       "      <td>2473.0</td>\n",
       "      <td>8.050</td>\n",
       "      <td>65313.0</td>\n",
       "      <td>100.00</td>\n",
       "      <td>947.0</td>\n",
       "      <td>1214.0</td>\n",
       "      <td>2839</td>\n",
       "      <td>True</td>\n",
       "    </tr>\n",
       "    <tr>\n",
       "      <th>2</th>\n",
       "      <td>1</td>\n",
       "      <td>1</td>\n",
       "      <td>1</td>\n",
       "      <td>1</td>\n",
       "      <td>270.0</td>\n",
       "      <td>1</td>\n",
       "      <td>-1</td>\n",
       "      <td>-1</td>\n",
       "      <td>-1</td>\n",
       "      <td>2</td>\n",
       "      <td>...</td>\n",
       "      <td>2</td>\n",
       "      <td>119.0</td>\n",
       "      <td>NaN</td>\n",
       "      <td>NaN</td>\n",
       "      <td>NaN</td>\n",
       "      <td>NaN</td>\n",
       "      <td>NaN</td>\n",
       "      <td>NaN</td>\n",
       "      <td>4701</td>\n",
       "      <td>False</td>\n",
       "    </tr>\n",
       "    <tr>\n",
       "      <th>3</th>\n",
       "      <td>2</td>\n",
       "      <td>1</td>\n",
       "      <td>1</td>\n",
       "      <td>1</td>\n",
       "      <td>179.0</td>\n",
       "      <td>2</td>\n",
       "      <td>376</td>\n",
       "      <td>20</td>\n",
       "      <td>11</td>\n",
       "      <td>2</td>\n",
       "      <td>...</td>\n",
       "      <td>2</td>\n",
       "      <td>44.0</td>\n",
       "      <td>4795.0</td>\n",
       "      <td>29.676</td>\n",
       "      <td>57766.0</td>\n",
       "      <td>100.00</td>\n",
       "      <td>1426.0</td>\n",
       "      <td>1765.0</td>\n",
       "      <td>2153</td>\n",
       "      <td>True</td>\n",
       "    </tr>\n",
       "    <tr>\n",
       "      <th>4</th>\n",
       "      <td>2</td>\n",
       "      <td>1</td>\n",
       "      <td>1</td>\n",
       "      <td>1</td>\n",
       "      <td>36.0</td>\n",
       "      <td>2</td>\n",
       "      <td>254</td>\n",
       "      <td>48</td>\n",
       "      <td>156</td>\n",
       "      <td>3</td>\n",
       "      <td>...</td>\n",
       "      <td>3</td>\n",
       "      <td>32.0</td>\n",
       "      <td>5246.0</td>\n",
       "      <td>5.110</td>\n",
       "      <td>63332.0</td>\n",
       "      <td>100.00</td>\n",
       "      <td>1452.0</td>\n",
       "      <td>2092.0</td>\n",
       "      <td>5710</td>\n",
       "      <td>False</td>\n",
       "    </tr>\n",
       "  </tbody>\n",
       "</table>\n",
       "<p>5 rows × 21 columns</p>\n",
       "</div>"
      ],
      "text/plain": [
       "        loan_type  property_type  loan_purpose  occupancy  loan_amount  \\\n",
       "row_id                                                                   \n",
       "0               2              1             3          1        115.0   \n",
       "1               1              1             1          1        252.0   \n",
       "2               1              1             1          1        270.0   \n",
       "3               2              1             1          1        179.0   \n",
       "4               2              1             1          1         36.0   \n",
       "\n",
       "        preapproval  msa_md  state_code  county_code  applicant_ethnicity  \\\n",
       "row_id                                                                      \n",
       "0                 3     101          16          276                    2   \n",
       "1                 2      87          20           68                    2   \n",
       "2                 1      -1          -1           -1                    2   \n",
       "3                 2     376          20           11                    2   \n",
       "4                 2     254          48          156                    3   \n",
       "\n",
       "        ...  applicant_sex  applicant_income  population  \\\n",
       "row_id  ...                                                \n",
       "0       ...              1               NaN      6329.0   \n",
       "1       ...              1             107.0      2473.0   \n",
       "2       ...              2             119.0         NaN   \n",
       "3       ...              2              44.0      4795.0   \n",
       "4       ...              3              32.0      5246.0   \n",
       "\n",
       "        minority_population_pct  ffiecmedian_family_income  \\\n",
       "row_id                                                       \n",
       "0                        59.536                    69889.0   \n",
       "1                         8.050                    65313.0   \n",
       "2                           NaN                        NaN   \n",
       "3                        29.676                    57766.0   \n",
       "4                         5.110                    63332.0   \n",
       "\n",
       "        tract_to_msa_md_income_pct  number_of_owner-occupied_units  \\\n",
       "row_id                                                               \n",
       "0                            85.78                          1874.0   \n",
       "1                           100.00                           947.0   \n",
       "2                              NaN                             NaN   \n",
       "3                           100.00                          1426.0   \n",
       "4                           100.00                          1452.0   \n",
       "\n",
       "        number_of_1_to_4_family_units  lender  co_applicant  \n",
       "row_id                                                       \n",
       "0                              2410.0    3791          True  \n",
       "1                              1214.0    2839          True  \n",
       "2                                 NaN    4701         False  \n",
       "3                              1765.0    2153          True  \n",
       "4                              2092.0    5710         False  \n",
       "\n",
       "[5 rows x 21 columns]"
      ]
     },
     "execution_count": 68,
     "metadata": {},
     "output_type": "execute_result"
    }
   ],
   "source": [
    "test_data = pd.read_csv('test_values.csv', index_col=0)\n",
    "print(test_data.shape)\n",
    "test_data.head()"
   ]
  },
  {
   "cell_type": "code",
   "execution_count": 69,
   "metadata": {},
   "outputs": [],
   "source": [
    "test_data.drop(['msa_md', 'state_code', 'county_code', 'lender'], inplace=True, axis = 1)"
   ]
  },
  {
   "cell_type": "code",
   "execution_count": 70,
   "metadata": {},
   "outputs": [
    {
     "name": "stdout",
     "output_type": "stream",
     "text": [
      "<class 'pandas.core.frame.DataFrame'>\n",
      "Int64Index: 500000 entries, 0 to 499999\n",
      "Data columns (total 17 columns):\n",
      "loan_type                         500000 non-null int64\n",
      "property_type                     500000 non-null int64\n",
      "loan_purpose                      500000 non-null int64\n",
      "occupancy                         500000 non-null int64\n",
      "loan_amount                       500000 non-null float64\n",
      "preapproval                       500000 non-null int64\n",
      "applicant_ethnicity               500000 non-null int64\n",
      "applicant_race                    500000 non-null int64\n",
      "applicant_sex                     500000 non-null int64\n",
      "applicant_income                  459859 non-null float64\n",
      "population                        477520 non-null float64\n",
      "minority_population_pct           477518 non-null float64\n",
      "ffiecmedian_family_income         477547 non-null float64\n",
      "tract_to_msa_md_income_pct        477483 non-null float64\n",
      "number_of_owner-occupied_units    477426 non-null float64\n",
      "number_of_1_to_4_family_units     477450 non-null float64\n",
      "co_applicant                      500000 non-null bool\n",
      "dtypes: bool(1), float64(8), int64(8)\n",
      "memory usage: 65.3 MB\n"
     ]
    }
   ],
   "source": [
    "test_data.info()"
   ]
  },
  {
   "cell_type": "code",
   "execution_count": 71,
   "metadata": {},
   "outputs": [],
   "source": [
    "for col in  [  'number_of_owner-occupied_units', 'number_of_1_to_4_family_units', 'ffiecmedian_family_income', \n",
    "               'minority_population_pct', 'tract_to_msa_md_income_pct','population']:\n",
    "    replace_median = test_data[col].median()\n",
    "    test_data.loc[(test_data[col].isnull()), col] = replace_median"
   ]
  },
  {
   "cell_type": "code",
   "execution_count": 72,
   "metadata": {},
   "outputs": [],
   "source": [
    "ReplaceWithMedian(test_data, ref = 'property_type', col='applicant_income')"
   ]
  },
  {
   "cell_type": "code",
   "execution_count": 77,
   "metadata": {},
   "outputs": [
    {
     "name": "stdout",
     "output_type": "stream",
     "text": [
      "<class 'pandas.core.frame.DataFrame'>\n",
      "Int64Index: 500000 entries, 0 to 499999\n",
      "Data columns (total 17 columns):\n",
      "loan_type                         500000 non-null int64\n",
      "property_type                     500000 non-null int64\n",
      "loan_purpose                      500000 non-null int64\n",
      "occupancy                         500000 non-null int64\n",
      "loan_amount                       500000 non-null float64\n",
      "preapproval                       500000 non-null int64\n",
      "applicant_ethnicity               500000 non-null int64\n",
      "applicant_race                    500000 non-null int64\n",
      "applicant_sex                     500000 non-null int64\n",
      "applicant_income                  500000 non-null float64\n",
      "population                        500000 non-null float64\n",
      "minority_population_pct           500000 non-null float64\n",
      "ffiecmedian_family_income         500000 non-null float64\n",
      "tract_to_msa_md_income_pct        500000 non-null float64\n",
      "number_of_owner-occupied_units    500000 non-null float64\n",
      "number_of_1_to_4_family_units     500000 non-null float64\n",
      "co_applicant                      500000 non-null bool\n",
      "dtypes: bool(1), float64(8), int64(8)\n",
      "memory usage: 65.3 MB\n"
     ]
    }
   ],
   "source": [
    "test_data.info()"
   ]
  },
  {
   "cell_type": "code",
   "execution_count": 76,
   "metadata": {},
   "outputs": [],
   "source": [
    "ReplaceWithMedian(test_data, ref = 'co_applicant', col='applicant_income')"
   ]
  },
  {
   "cell_type": "code",
   "execution_count": 78,
   "metadata": {},
   "outputs": [],
   "source": [
    "def encode_category(numeric_category):\n",
    "    ## First encode the strings to numeric categories\n",
    "    #enc = preprocessing.LabelEncoder()\n",
    "    #enc.fit(cat_features)\n",
    "    #enc_cat_features = enc.transform(cat_features)\n",
    "    ## Now, apply one hot encoding\n",
    "    ohe = preprocessing.OneHotEncoder(categories='auto')\n",
    "    encoded = ohe.fit(numeric_category.values.reshape(-1,1))\n",
    "    return encoded.transform(numeric_category.values.reshape(-1,1)).toarray()\n",
    "\n",
    "test_features = np.array([])\n",
    "\n",
    "for col in cols_categorical:\n",
    "    temp = encode_category(test_data[col])\n",
    "    if test_features.shape[0] == 0:\n",
    "        test_features = temp\n",
    "    else:\n",
    "        test_features = np.concatenate([test_features, temp], axis = 1)"
   ]
  },
  {
   "cell_type": "code",
   "execution_count": 79,
   "metadata": {},
   "outputs": [],
   "source": [
    "test_features = np.concatenate([test_features, np.array(test_data[cols_numerical])], axis = 1)"
   ]
  },
  {
   "cell_type": "code",
   "execution_count": 96,
   "metadata": {},
   "outputs": [
    {
     "name": "stdout",
     "output_type": "stream",
     "text": [
      "[0.0000e+00 1.0000e+00 0.0000e+00 0.0000e+00 1.0000e+00 0.0000e+00\n",
      " 0.0000e+00 0.0000e+00 0.0000e+00 1.0000e+00 1.0000e+00 0.0000e+00\n",
      " 0.0000e+00 0.0000e+00 0.0000e+00 1.0000e+00 0.0000e+00 1.0000e+00\n",
      " 0.0000e+00 0.0000e+00 0.0000e+00 0.0000e+00 0.0000e+00 0.0000e+00\n",
      " 1.0000e+00 0.0000e+00 0.0000e+00 1.0000e+00 0.0000e+00 0.0000e+00\n",
      " 0.0000e+00 0.0000e+00 1.0000e+00 1.1500e+02 7.5000e+01 1.8740e+03\n",
      " 2.4100e+03 6.9889e+04 5.9536e+01 8.5780e+01 6.3290e+03]\n",
      "[ True  True False False False False False  True False  True  True  True\n",
      " False False  True  True  True  True  True False False False False False\n",
      "  True  True False  True  True False False  True  True  True  True  True\n",
      "  True  True  True  True  True]\n",
      "41\n",
      "41\n"
     ]
    }
   ],
   "source": [
    "print(test_features[0])\n",
    "print(sel.get_support())\n",
    "print(test_features.shape[1])\n",
    "print(sel.get_support().shape[0])"
   ]
  },
  {
   "cell_type": "code",
   "execution_count": 125,
   "metadata": {},
   "outputs": [
    {
     "name": "stdout",
     "output_type": "stream",
     "text": [
      "0\n",
      "1\n",
      "2\n",
      "3\n",
      "4\n",
      "5\n",
      "6\n",
      "7\n",
      "8\n",
      "9\n",
      "10\n",
      "11\n",
      "12\n",
      "13\n",
      "14\n",
      "15\n",
      "16\n",
      "17\n",
      "18\n",
      "19\n",
      "20\n",
      "21\n",
      "22\n",
      "23\n",
      "24\n",
      "25\n",
      "26\n",
      "27\n",
      "28\n",
      "29\n",
      "30\n",
      "31\n",
      "32\n",
      "33\n",
      "34\n",
      "35\n",
      "36\n",
      "37\n",
      "38\n",
      "39\n",
      "40\n",
      "(500000, 25)\n"
     ]
    }
   ],
   "source": [
    "reduced_test_features = np.array([])\n",
    "\n",
    "for i,x in enumerate(sel.get_support()):\n",
    "    if x:\n",
    "        if reduced_test_features.shape[0]==0:\n",
    "            reduced_test_features = test_features[:,i].reshape(-1,1)\n",
    "        else:\n",
    "            reduced_test_features = np.concatenate([reduced_test_features, test_features[:,i].reshape(-1,1)], axis=1)"
   ]
  },
  {
   "cell_type": "code",
   "execution_count": 127,
   "metadata": {},
   "outputs": [],
   "source": [
    "test_result = model_rfc.predict(reduced_test_features)"
   ]
  },
  {
   "cell_type": "code",
   "execution_count": 152,
   "metadata": {},
   "outputs": [],
   "source": []
  },
  {
   "cell_type": "code",
   "execution_count": 153,
   "metadata": {},
   "outputs": [
    {
     "name": "stdout",
     "output_type": "stream",
     "text": [
      "Int64Index([     0,      1,      2,      3,      4,      5,      6,      7,\n",
      "                 8,      9,\n",
      "            ...\n",
      "            499990, 499991, 499992, 499993, 499994, 499995, 499996, 499997,\n",
      "            499998, 499999],\n",
      "           dtype='int64', name='row_id', length=500000)\n"
     ]
    }
   ],
   "source": []
  },
  {
   "cell_type": "code",
   "execution_count": 150,
   "metadata": {},
   "outputs": [],
   "source": [
    "series = pd.Series(test_output)"
   ]
  },
  {
   "cell_type": "code",
   "execution_count": 156,
   "metadata": {},
   "outputs": [],
   "source": [
    "test_output = pd.DataFrame(columns=['row_id', 'accepted'])"
   ]
  },
  {
   "cell_type": "code",
   "execution_count": 157,
   "metadata": {},
   "outputs": [],
   "source": [
    "test_output['accepted'] = series"
   ]
  },
  {
   "cell_type": "code",
   "execution_count": 158,
   "metadata": {},
   "outputs": [],
   "source": [
    "test_output['row_id'] = test_data.index.copy()\n",
    "test_output.index = test_output['row_id']\n",
    "test_output.drop(columns=['row_id'])"
   ]
  },
  {
   "cell_type": "code",
   "execution_count": 166,
   "metadata": {},
   "outputs": [],
   "source": [
    "test_output.drop(columns=['row_id'], inplace=True)"
   ]
  },
  {
   "cell_type": "code",
   "execution_count": 167,
   "metadata": {},
   "outputs": [
    {
     "data": {
      "text/html": [
       "<div>\n",
       "<style scoped>\n",
       "    .dataframe tbody tr th:only-of-type {\n",
       "        vertical-align: middle;\n",
       "    }\n",
       "\n",
       "    .dataframe tbody tr th {\n",
       "        vertical-align: top;\n",
       "    }\n",
       "\n",
       "    .dataframe thead th {\n",
       "        text-align: right;\n",
       "    }\n",
       "</style>\n",
       "<table border=\"1\" class=\"dataframe\">\n",
       "  <thead>\n",
       "    <tr style=\"text-align: right;\">\n",
       "      <th></th>\n",
       "      <th>accepted</th>\n",
       "    </tr>\n",
       "    <tr>\n",
       "      <th>row_id</th>\n",
       "      <th></th>\n",
       "    </tr>\n",
       "  </thead>\n",
       "  <tbody>\n",
       "    <tr>\n",
       "      <th>0</th>\n",
       "      <td>0</td>\n",
       "    </tr>\n",
       "    <tr>\n",
       "      <th>1</th>\n",
       "      <td>1</td>\n",
       "    </tr>\n",
       "    <tr>\n",
       "      <th>2</th>\n",
       "      <td>2</td>\n",
       "    </tr>\n",
       "    <tr>\n",
       "      <th>3</th>\n",
       "      <td>3</td>\n",
       "    </tr>\n",
       "    <tr>\n",
       "      <th>4</th>\n",
       "      <td>4</td>\n",
       "    </tr>\n",
       "  </tbody>\n",
       "</table>\n",
       "</div>"
      ],
      "text/plain": [
       "        accepted\n",
       "row_id          \n",
       "0              0\n",
       "1              1\n",
       "2              2\n",
       "3              3\n",
       "4              4"
      ]
     },
     "execution_count": 167,
     "metadata": {},
     "output_type": "execute_result"
    }
   ],
   "source": [
    "test_output.head()"
   ]
  },
  {
   "cell_type": "code",
   "execution_count": 168,
   "metadata": {},
   "outputs": [],
   "source": [
    "test_output.to_csv('submission-v1.csv')"
   ]
  },
  {
   "cell_type": "code",
   "execution_count": 161,
   "metadata": {},
   "outputs": [],
   "source": [
    "test_output.index = test_output['row_id']"
   ]
  },
  {
   "cell_type": "code",
   "execution_count": null,
   "metadata": {},
   "outputs": [],
   "source": []
  }
 ],
 "metadata": {
  "kernelspec": {
   "display_name": "Python 3",
   "language": "python",
   "name": "python3"
  },
  "language_info": {
   "codemirror_mode": {
    "name": "ipython",
    "version": 3
   },
   "file_extension": ".py",
   "mimetype": "text/x-python",
   "name": "python",
   "nbconvert_exporter": "python",
   "pygments_lexer": "ipython3",
   "version": "3.7.3"
  }
 },
 "nbformat": 4,
 "nbformat_minor": 2
}
