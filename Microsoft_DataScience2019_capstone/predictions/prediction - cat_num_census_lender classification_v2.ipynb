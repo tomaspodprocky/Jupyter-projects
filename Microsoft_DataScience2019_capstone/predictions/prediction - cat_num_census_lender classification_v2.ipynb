{
 "cells": [
  {
   "cell_type": "code",
   "execution_count": 3,
   "metadata": {},
   "outputs": [],
   "source": [
    "import pandas as pd\n",
    "import numpy as np\n",
    "import seaborn as sns\n",
    "import matplotlib.pyplot as plt\n",
    "import math\n",
    "\n",
    "#sns.set(rc={'figure.figsize':(11.7,8.27)})\n",
    "\n",
    "%matplotlib inline"
   ]
  },
  {
   "cell_type": "code",
   "execution_count": 2,
   "metadata": {},
   "outputs": [],
   "source": [
    "def CategoricalPlots(data, cols, ref='accepted'):\n",
    "    '''\n",
    "    Plot categorical data from the DataFrame 'data' using the columns in cols.\n",
    "    Split the categorical data in line with a label reference\n",
    "    '''\n",
    "    if not('dummy' in data.columns):\n",
    "        data['dummy'] = np.ones(shape = data.shape[0])\n",
    "    for col in cols:\n",
    "        print(col)\n",
    "        counts = data[['dummy', ref, col]].groupby([ref, col], as_index = False).count()\n",
    "        _ = plt.figure(figsize = (13,4))\n",
    "        plt.subplot(1, 2, 1)\n",
    "        temp = counts[counts[ref] == 0][[col, 'dummy']]\n",
    "        plt.bar(temp[col], temp.dummy)\n",
    "        plt.xticks(rotation=90)\n",
    "        plt.title('Counts for ' + col + '\\n not accepted')\n",
    "        plt.ylabel('count')\n",
    "        plt.subplot(1, 2, 2)\n",
    "        temp = counts[counts[ref] == 1][[col, 'dummy']]\n",
    "        plt.bar(temp[col], temp.dummy)\n",
    "        plt.xticks(rotation=90)\n",
    "        plt.title('Counts for ' + col + '\\n accepted')\n",
    "        plt.ylabel('count')\n",
    "        plt.show()\n",
    "\n",
    "def BoxPlots(data, columns, ref = ['accepted'], hue='accepted'):\n",
    "    for column in columns:\n",
    "        for r in ref:\n",
    "            fig, ax = plt.subplots(figsize=(11.7,8.27))\n",
    "            sns.boxplot(x=r, ax=ax, y=column, data=data, hue=hue)\n",
    "            plt.xlabel(r)\n",
    "            plt.ylabel(column)\n",
    "            plt.show()\n",
    "        \n",
    "def DistPlots(data, columns):\n",
    "    for column in columns:\n",
    "        fig, ax = plt.subplots(figsize=(11.7,8.27))\n",
    "        ax = sns.distplot(data[column], ax=ax)\n",
    "        plt.xlabel('value')\n",
    "        plt.ylabel('density')\n",
    "        plt.title('Histogram of ' + column)\n",
    "        plt.show()\n",
    "        \n",
    "def DistPlotsSplit(data, columns, ref=''):\n",
    "    '''\n",
    "    Plot several distributions with a reference column\n",
    "    '''\n",
    "    if ref != '':\n",
    "        unique = data[ref].unique()\n",
    "    for column in columns:\n",
    "        if ref != '':\n",
    "            ax = sns.distplot(data.loc[data[ref]==unique[0], column])\n",
    "            ax = sns.distplot(data.loc[data[ref]==unique[1], column], ax=ax)\n",
    "        else:\n",
    "            ax = sns.distplot(data[column])\n",
    "        plt.xlabel('value')\n",
    "        plt.ylabel('density')\n",
    "        plt.title('Histogram of ' + column)\n",
    "        plt.show()\n",
    "    "
   ]
  },
  {
   "cell_type": "code",
   "execution_count": 14,
   "metadata": {},
   "outputs": [],
   "source": [
    "def ReplaceNaN(data, ref, col, how='mean'):\n",
    "    '''\n",
    "    Replacing a NaN value with a random number from a normal distribution.\n",
    "    Parameter how defines whether the value will be coming from a normal distribution \"mean\"\n",
    "    or a simple \"median\" value of the reference column.\n",
    "    '''\n",
    "    if ref == col:\n",
    "        replace_mean = data[col].mean()\n",
    "        replace_std = data[col].std()\n",
    "        replace_value = np.random.normal(loc=replace_mean, scale=replace_std)\n",
    "        data.loc[(data[col].isnull()), col] = replace_value\n",
    "    else:\n",
    "        unique_values = data[ref].unique()\n",
    "        if unique_values.shape[0] < 500:\n",
    "            for value in unique_values:\n",
    "                if how =='mean':\n",
    "                    replace_mean = data[data[ref]==value][col].mean()\n",
    "                    replace_std = data[data[ref]==value][col].std()\n",
    "                    replace_value = np.random.normal(loc=replace_mean, scale=replace_std)\n",
    "                elif how == 'median':\n",
    "                    replace_value = data[data[ref]==value][col].median()\n",
    "                data.loc[(data[ref]==value) & (data[col].isnull()), col] = replace_value               \n",
    "        else:\n",
    "            raise('ReplaceNaN: too many unique values to fill')    \n",
    "\n",
    "from sklearn import preprocessing\n",
    "            \n",
    "def encode_category(numeric_category):\n",
    "    ## First encode the strings to numeric categories\n",
    "    #enc = preprocessing.LabelEncoder()\n",
    "    #enc.fit(cat_features)\n",
    "    #enc_cat_features = enc.transform(cat_features)\n",
    "    ## Now, apply one hot encoding\n",
    "    ohe = preprocessing.OneHotEncoder(categories='auto')\n",
    "    encoded = ohe.fit(numeric_category.values.reshape(-1,1))\n",
    "    return encoded.transform(numeric_category.values.reshape(-1,1)).toarray()\n",
    "            \n",
    "def PrepareFeatures(data, cols):\n",
    "    '''\n",
    "    Use one-hot-encoder to encode the categorical features.\n",
    "    The columns to encode in the dataset are defined by the cols_categorical list\n",
    "    '''\n",
    "    features = np.array([])\n",
    "    for col in cols:\n",
    "        temp = encode_category(data[col])\n",
    "        if features.shape[0] == 0:\n",
    "            features = temp\n",
    "        else:\n",
    "            features = np.concatenate([features, temp], axis = 1)\n",
    "    return features"
   ]
  },
  {
   "cell_type": "code",
   "execution_count": 4,
   "metadata": {},
   "outputs": [
    {
     "name": "stdout",
     "output_type": "stream",
     "text": [
      "(500000, 22)\n"
     ]
    },
    {
     "data": {
      "text/html": [
       "<div>\n",
       "<style scoped>\n",
       "    .dataframe tbody tr th:only-of-type {\n",
       "        vertical-align: middle;\n",
       "    }\n",
       "\n",
       "    .dataframe tbody tr th {\n",
       "        vertical-align: top;\n",
       "    }\n",
       "\n",
       "    .dataframe thead th {\n",
       "        text-align: right;\n",
       "    }\n",
       "</style>\n",
       "<table border=\"1\" class=\"dataframe\">\n",
       "  <thead>\n",
       "    <tr style=\"text-align: right;\">\n",
       "      <th></th>\n",
       "      <th>loan_type</th>\n",
       "      <th>property_type</th>\n",
       "      <th>loan_purpose</th>\n",
       "      <th>occupancy</th>\n",
       "      <th>loan_amount</th>\n",
       "      <th>preapproval</th>\n",
       "      <th>msa_md</th>\n",
       "      <th>state_code</th>\n",
       "      <th>county_code</th>\n",
       "      <th>applicant_ethnicity</th>\n",
       "      <th>...</th>\n",
       "      <th>applicant_income</th>\n",
       "      <th>population</th>\n",
       "      <th>minority_population_pct</th>\n",
       "      <th>ffiecmedian_family_income</th>\n",
       "      <th>tract_to_msa_md_income_pct</th>\n",
       "      <th>number_of_owner-occupied_units</th>\n",
       "      <th>number_of_1_to_4_family_units</th>\n",
       "      <th>lender</th>\n",
       "      <th>co_applicant</th>\n",
       "      <th>lender_classification</th>\n",
       "    </tr>\n",
       "    <tr>\n",
       "      <th>row_id</th>\n",
       "      <th></th>\n",
       "      <th></th>\n",
       "      <th></th>\n",
       "      <th></th>\n",
       "      <th></th>\n",
       "      <th></th>\n",
       "      <th></th>\n",
       "      <th></th>\n",
       "      <th></th>\n",
       "      <th></th>\n",
       "      <th></th>\n",
       "      <th></th>\n",
       "      <th></th>\n",
       "      <th></th>\n",
       "      <th></th>\n",
       "      <th></th>\n",
       "      <th></th>\n",
       "      <th></th>\n",
       "      <th></th>\n",
       "      <th></th>\n",
       "      <th></th>\n",
       "    </tr>\n",
       "  </thead>\n",
       "  <tbody>\n",
       "    <tr>\n",
       "      <th>0</th>\n",
       "      <td>3</td>\n",
       "      <td>1</td>\n",
       "      <td>1</td>\n",
       "      <td>1</td>\n",
       "      <td>70.0</td>\n",
       "      <td>3</td>\n",
       "      <td>18</td>\n",
       "      <td>37</td>\n",
       "      <td>246</td>\n",
       "      <td>2</td>\n",
       "      <td>...</td>\n",
       "      <td>24.0</td>\n",
       "      <td>6203.0</td>\n",
       "      <td>44.230</td>\n",
       "      <td>60588.0</td>\n",
       "      <td>50.933</td>\n",
       "      <td>716.0</td>\n",
       "      <td>2642.0</td>\n",
       "      <td>4536</td>\n",
       "      <td>False</td>\n",
       "      <td>0.837209</td>\n",
       "    </tr>\n",
       "    <tr>\n",
       "      <th>1</th>\n",
       "      <td>1</td>\n",
       "      <td>1</td>\n",
       "      <td>3</td>\n",
       "      <td>1</td>\n",
       "      <td>178.0</td>\n",
       "      <td>3</td>\n",
       "      <td>369</td>\n",
       "      <td>52</td>\n",
       "      <td>299</td>\n",
       "      <td>1</td>\n",
       "      <td>...</td>\n",
       "      <td>57.0</td>\n",
       "      <td>5774.0</td>\n",
       "      <td>15.905</td>\n",
       "      <td>54821.0</td>\n",
       "      <td>100.000</td>\n",
       "      <td>1622.0</td>\n",
       "      <td>2108.0</td>\n",
       "      <td>2458</td>\n",
       "      <td>False</td>\n",
       "      <td>0.168919</td>\n",
       "    </tr>\n",
       "    <tr>\n",
       "      <th>2</th>\n",
       "      <td>2</td>\n",
       "      <td>1</td>\n",
       "      <td>3</td>\n",
       "      <td>1</td>\n",
       "      <td>163.0</td>\n",
       "      <td>3</td>\n",
       "      <td>16</td>\n",
       "      <td>10</td>\n",
       "      <td>306</td>\n",
       "      <td>2</td>\n",
       "      <td>...</td>\n",
       "      <td>67.0</td>\n",
       "      <td>6094.0</td>\n",
       "      <td>61.270</td>\n",
       "      <td>67719.0</td>\n",
       "      <td>100.000</td>\n",
       "      <td>760.0</td>\n",
       "      <td>1048.0</td>\n",
       "      <td>5710</td>\n",
       "      <td>False</td>\n",
       "      <td>0.489632</td>\n",
       "    </tr>\n",
       "    <tr>\n",
       "      <th>3</th>\n",
       "      <td>1</td>\n",
       "      <td>1</td>\n",
       "      <td>1</td>\n",
       "      <td>1</td>\n",
       "      <td>155.0</td>\n",
       "      <td>1</td>\n",
       "      <td>305</td>\n",
       "      <td>47</td>\n",
       "      <td>180</td>\n",
       "      <td>2</td>\n",
       "      <td>...</td>\n",
       "      <td>105.0</td>\n",
       "      <td>6667.0</td>\n",
       "      <td>6.246</td>\n",
       "      <td>78439.0</td>\n",
       "      <td>100.000</td>\n",
       "      <td>2025.0</td>\n",
       "      <td>2299.0</td>\n",
       "      <td>5888</td>\n",
       "      <td>True</td>\n",
       "      <td>0.691964</td>\n",
       "    </tr>\n",
       "    <tr>\n",
       "      <th>4</th>\n",
       "      <td>1</td>\n",
       "      <td>1</td>\n",
       "      <td>1</td>\n",
       "      <td>1</td>\n",
       "      <td>305.0</td>\n",
       "      <td>3</td>\n",
       "      <td>24</td>\n",
       "      <td>37</td>\n",
       "      <td>20</td>\n",
       "      <td>2</td>\n",
       "      <td>...</td>\n",
       "      <td>71.0</td>\n",
       "      <td>6732.0</td>\n",
       "      <td>100.000</td>\n",
       "      <td>63075.0</td>\n",
       "      <td>82.200</td>\n",
       "      <td>1464.0</td>\n",
       "      <td>1847.0</td>\n",
       "      <td>289</td>\n",
       "      <td>False</td>\n",
       "      <td>0.542994</td>\n",
       "    </tr>\n",
       "  </tbody>\n",
       "</table>\n",
       "<p>5 rows × 22 columns</p>\n",
       "</div>"
      ],
      "text/plain": [
       "        loan_type  property_type  loan_purpose  occupancy  loan_amount  \\\n",
       "row_id                                                                   \n",
       "0               3              1             1          1         70.0   \n",
       "1               1              1             3          1        178.0   \n",
       "2               2              1             3          1        163.0   \n",
       "3               1              1             1          1        155.0   \n",
       "4               1              1             1          1        305.0   \n",
       "\n",
       "        preapproval  msa_md  state_code  county_code  applicant_ethnicity  \\\n",
       "row_id                                                                      \n",
       "0                 3      18          37          246                    2   \n",
       "1                 3     369          52          299                    1   \n",
       "2                 3      16          10          306                    2   \n",
       "3                 1     305          47          180                    2   \n",
       "4                 3      24          37           20                    2   \n",
       "\n",
       "        ...  applicant_income  population  minority_population_pct  \\\n",
       "row_id  ...                                                          \n",
       "0       ...              24.0      6203.0                   44.230   \n",
       "1       ...              57.0      5774.0                   15.905   \n",
       "2       ...              67.0      6094.0                   61.270   \n",
       "3       ...             105.0      6667.0                    6.246   \n",
       "4       ...              71.0      6732.0                  100.000   \n",
       "\n",
       "        ffiecmedian_family_income  tract_to_msa_md_income_pct  \\\n",
       "row_id                                                          \n",
       "0                         60588.0                      50.933   \n",
       "1                         54821.0                     100.000   \n",
       "2                         67719.0                     100.000   \n",
       "3                         78439.0                     100.000   \n",
       "4                         63075.0                      82.200   \n",
       "\n",
       "        number_of_owner-occupied_units  number_of_1_to_4_family_units  lender  \\\n",
       "row_id                                                                          \n",
       "0                                716.0                         2642.0    4536   \n",
       "1                               1622.0                         2108.0    2458   \n",
       "2                                760.0                         1048.0    5710   \n",
       "3                               2025.0                         2299.0    5888   \n",
       "4                               1464.0                         1847.0     289   \n",
       "\n",
       "        co_applicant  lender_classification  \n",
       "row_id                                       \n",
       "0              False               0.837209  \n",
       "1              False               0.168919  \n",
       "2              False               0.489632  \n",
       "3               True               0.691964  \n",
       "4              False               0.542994  \n",
       "\n",
       "[5 rows x 22 columns]"
      ]
     },
     "execution_count": 4,
     "metadata": {},
     "output_type": "execute_result"
    }
   ],
   "source": [
    "train_data = pd.read_csv('train_values.csv', index_col=0)\n",
    "lender_classification = pd.read_csv('lender_classification.csv', index_col='lender')\n",
    "train_data['lender_classification'] = train_data['lender'].apply(lambda x: lender_classification.loc[x, 'accept_rate'])\n",
    "print(train_data.shape)\n",
    "train_data.head()"
   ]
  },
  {
   "cell_type": "code",
   "execution_count": 5,
   "metadata": {},
   "outputs": [
    {
     "name": "stdout",
     "output_type": "stream",
     "text": [
      "<class 'pandas.core.frame.DataFrame'>\n",
      "Int64Index: 500000 entries, 0 to 499999\n",
      "Data columns (total 22 columns):\n",
      "loan_type                         500000 non-null int64\n",
      "property_type                     500000 non-null int64\n",
      "loan_purpose                      500000 non-null int64\n",
      "occupancy                         500000 non-null int64\n",
      "loan_amount                       500000 non-null float64\n",
      "preapproval                       500000 non-null int64\n",
      "msa_md                            500000 non-null int64\n",
      "state_code                        500000 non-null int64\n",
      "county_code                       500000 non-null int64\n",
      "applicant_ethnicity               500000 non-null int64\n",
      "applicant_race                    500000 non-null int64\n",
      "applicant_sex                     500000 non-null int64\n",
      "applicant_income                  460052 non-null float64\n",
      "population                        477535 non-null float64\n",
      "minority_population_pct           477534 non-null float64\n",
      "ffiecmedian_family_income         477560 non-null float64\n",
      "tract_to_msa_md_income_pct        477486 non-null float64\n",
      "number_of_owner-occupied_units    477435 non-null float64\n",
      "number_of_1_to_4_family_units     477470 non-null float64\n",
      "lender                            500000 non-null int64\n",
      "co_applicant                      500000 non-null bool\n",
      "lender_classification             500000 non-null float64\n",
      "dtypes: bool(1), float64(9), int64(12)\n",
      "memory usage: 84.4 MB\n"
     ]
    }
   ],
   "source": [
    "train_data.info()"
   ]
  },
  {
   "cell_type": "code",
   "execution_count": 6,
   "metadata": {},
   "outputs": [],
   "source": [
    "cols_numerical = ['loan_amount', 'applicant_income', 'number_of_owner-occupied_units', 'number_of_1_to_4_family_units',\n",
    "                  'ffiecmedian_family_income', 'minority_population_pct', 'tract_to_msa_md_income_pct','population',\n",
    "                 'lender_classification']\n",
    "cols_categorical = ['loan_type', 'property_type', 'loan_purpose', 'occupancy', 'preapproval', \n",
    "                    'applicant_ethnicity', 'applicant_race', 'applicant_sex','co_applicant']\n",
    "\n",
    "cols_property_location = ['msa_md', 'state_code', 'county_code']\n",
    "\n",
    "cols_lender = ['lender']"
   ]
  },
  {
   "cell_type": "code",
   "execution_count": 8,
   "metadata": {},
   "outputs": [],
   "source": [
    "#train_data['income_approximated'] = train_data[['loan_amount','applicant_income']].apply(lambda x: 30.29 + 0.3458 * x[0] if (np.all(pd.isnull(x[1]))) else x[1], axis = 1)\n",
    "#ReplaceNaN(train_data, 'msa_md', 'applicant_income', how='mean')\n",
    "\n",
    "#train_data['is_minority'] = train_data['applicant_race'].apply(lambda x: 0 if x==5 else 1)\n",
    "\n",
    "#train_data['number_of_1_to_4_family_units'].fillna(method='ffill', inplace=True)\n",
    "#train_data['number_of_owner-occupied_units'].fillna(method='ffill', inplace=True)\n",
    "\n",
    "#train_data['number_of_1_to_4_family_units'].fillna(value = -1000, inplace=True)\n",
    "#train_data['number_of_owner-occupied_units'].fillna(value = -1000, inplace=True)\n",
    "#train_data.fillna(value=-1, inplace=True)\n",
    "\n",
    "for col in train_data.columns:\n",
    "    train_data[col].fillna(train_data[col].mean(), inplace=True)"
   ]
  },
  {
   "cell_type": "code",
   "execution_count": 69,
   "metadata": {},
   "outputs": [],
   "source": [
    "train_data['state_code'].replace(to_replace=-1, value=-1000, inplace=True)\n",
    "train_data['county_code'].replace(to_replace=-1, value=-1000, inplace=True)\n",
    "train_data['msa_md'].replace(to_replace=-1, value=-1000, inplace=True)"
   ]
  },
  {
   "cell_type": "code",
   "execution_count": 9,
   "metadata": {},
   "outputs": [
    {
     "data": {
      "text/html": [
       "<div>\n",
       "<style scoped>\n",
       "    .dataframe tbody tr th:only-of-type {\n",
       "        vertical-align: middle;\n",
       "    }\n",
       "\n",
       "    .dataframe tbody tr th {\n",
       "        vertical-align: top;\n",
       "    }\n",
       "\n",
       "    .dataframe thead th {\n",
       "        text-align: right;\n",
       "    }\n",
       "</style>\n",
       "<table border=\"1\" class=\"dataframe\">\n",
       "  <thead>\n",
       "    <tr style=\"text-align: right;\">\n",
       "      <th></th>\n",
       "      <th>applicant_income</th>\n",
       "      <th>income_approximated</th>\n",
       "      <th>is_minority</th>\n",
       "    </tr>\n",
       "    <tr>\n",
       "      <th>row_id</th>\n",
       "      <th></th>\n",
       "      <th></th>\n",
       "      <th></th>\n",
       "    </tr>\n",
       "  </thead>\n",
       "  <tbody>\n",
       "    <tr>\n",
       "      <th>0</th>\n",
       "      <td>24.0</td>\n",
       "      <td>24.0000</td>\n",
       "      <td>0</td>\n",
       "    </tr>\n",
       "    <tr>\n",
       "      <th>1</th>\n",
       "      <td>57.0</td>\n",
       "      <td>57.0000</td>\n",
       "      <td>0</td>\n",
       "    </tr>\n",
       "    <tr>\n",
       "      <th>2</th>\n",
       "      <td>67.0</td>\n",
       "      <td>67.0000</td>\n",
       "      <td>0</td>\n",
       "    </tr>\n",
       "    <tr>\n",
       "      <th>3</th>\n",
       "      <td>105.0</td>\n",
       "      <td>105.0000</td>\n",
       "      <td>0</td>\n",
       "    </tr>\n",
       "    <tr>\n",
       "      <th>4</th>\n",
       "      <td>71.0</td>\n",
       "      <td>71.0000</td>\n",
       "      <td>1</td>\n",
       "    </tr>\n",
       "    <tr>\n",
       "      <th>5</th>\n",
       "      <td>51.0</td>\n",
       "      <td>51.0000</td>\n",
       "      <td>0</td>\n",
       "    </tr>\n",
       "    <tr>\n",
       "      <th>6</th>\n",
       "      <td>104.0</td>\n",
       "      <td>104.0000</td>\n",
       "      <td>0</td>\n",
       "    </tr>\n",
       "    <tr>\n",
       "      <th>7</th>\n",
       "      <td>55.0</td>\n",
       "      <td>55.0000</td>\n",
       "      <td>0</td>\n",
       "    </tr>\n",
       "    <tr>\n",
       "      <th>8</th>\n",
       "      <td>244.0</td>\n",
       "      <td>244.0000</td>\n",
       "      <td>0</td>\n",
       "    </tr>\n",
       "    <tr>\n",
       "      <th>9</th>\n",
       "      <td>86.0</td>\n",
       "      <td>86.0000</td>\n",
       "      <td>0</td>\n",
       "    </tr>\n",
       "    <tr>\n",
       "      <th>10</th>\n",
       "      <td>78.0</td>\n",
       "      <td>78.0000</td>\n",
       "      <td>1</td>\n",
       "    </tr>\n",
       "    <tr>\n",
       "      <th>11</th>\n",
       "      <td>63.0</td>\n",
       "      <td>63.0000</td>\n",
       "      <td>0</td>\n",
       "    </tr>\n",
       "    <tr>\n",
       "      <th>12</th>\n",
       "      <td>NaN</td>\n",
       "      <td>78.0104</td>\n",
       "      <td>0</td>\n",
       "    </tr>\n",
       "    <tr>\n",
       "      <th>13</th>\n",
       "      <td>90.0</td>\n",
       "      <td>90.0000</td>\n",
       "      <td>0</td>\n",
       "    </tr>\n",
       "    <tr>\n",
       "      <th>14</th>\n",
       "      <td>172.0</td>\n",
       "      <td>172.0000</td>\n",
       "      <td>0</td>\n",
       "    </tr>\n",
       "    <tr>\n",
       "      <th>15</th>\n",
       "      <td>53.0</td>\n",
       "      <td>53.0000</td>\n",
       "      <td>1</td>\n",
       "    </tr>\n",
       "    <tr>\n",
       "      <th>16</th>\n",
       "      <td>NaN</td>\n",
       "      <td>91.4966</td>\n",
       "      <td>0</td>\n",
       "    </tr>\n",
       "    <tr>\n",
       "      <th>17</th>\n",
       "      <td>NaN</td>\n",
       "      <td>78.0104</td>\n",
       "      <td>0</td>\n",
       "    </tr>\n",
       "    <tr>\n",
       "      <th>18</th>\n",
       "      <td>111.0</td>\n",
       "      <td>111.0000</td>\n",
       "      <td>0</td>\n",
       "    </tr>\n",
       "    <tr>\n",
       "      <th>19</th>\n",
       "      <td>63.0</td>\n",
       "      <td>63.0000</td>\n",
       "      <td>0</td>\n",
       "    </tr>\n",
       "  </tbody>\n",
       "</table>\n",
       "</div>"
      ],
      "text/plain": [
       "        applicant_income  income_approximated  is_minority\n",
       "row_id                                                    \n",
       "0                   24.0              24.0000            0\n",
       "1                   57.0              57.0000            0\n",
       "2                   67.0              67.0000            0\n",
       "3                  105.0             105.0000            0\n",
       "4                   71.0              71.0000            1\n",
       "5                   51.0              51.0000            0\n",
       "6                  104.0             104.0000            0\n",
       "7                   55.0              55.0000            0\n",
       "8                  244.0             244.0000            0\n",
       "9                   86.0              86.0000            0\n",
       "10                  78.0              78.0000            1\n",
       "11                  63.0              63.0000            0\n",
       "12                   NaN              78.0104            0\n",
       "13                  90.0              90.0000            0\n",
       "14                 172.0             172.0000            0\n",
       "15                  53.0              53.0000            1\n",
       "16                   NaN              91.4966            0\n",
       "17                   NaN              78.0104            0\n",
       "18                 111.0             111.0000            0\n",
       "19                  63.0              63.0000            0"
      ]
     },
     "execution_count": 9,
     "metadata": {},
     "output_type": "execute_result"
    }
   ],
   "source": [
    "train_data[['applicant_income', 'income_approximated', 'is_minority']].head(20)"
   ]
  },
  {
   "cell_type": "code",
   "execution_count": 9,
   "metadata": {},
   "outputs": [],
   "source": [
    "train_labels = pd.read_csv('train_labels.csv', index_col=0)\n",
    "data = train_data.merge(train_labels, on='row_id')"
   ]
  },
  {
   "cell_type": "code",
   "execution_count": 172,
   "metadata": {},
   "outputs": [
    {
     "name": "stdout",
     "output_type": "stream",
     "text": [
      "<class 'pandas.core.frame.DataFrame'>\n",
      "Int64Index: 500000 entries, 0 to 499999\n",
      "Data columns (total 24 columns):\n",
      "loan_type                         500000 non-null int64\n",
      "property_type                     500000 non-null int64\n",
      "loan_purpose                      500000 non-null int64\n",
      "occupancy                         500000 non-null int64\n",
      "loan_amount                       500000 non-null float64\n",
      "preapproval                       500000 non-null int64\n",
      "msa_md                            500000 non-null int64\n",
      "state_code                        500000 non-null int64\n",
      "county_code                       500000 non-null int64\n",
      "applicant_ethnicity               500000 non-null int64\n",
      "applicant_race                    500000 non-null int64\n",
      "applicant_sex                     500000 non-null int64\n",
      "applicant_income                  500000 non-null float64\n",
      "population                        500000 non-null float64\n",
      "minority_population_pct           500000 non-null float64\n",
      "ffiecmedian_family_income         500000 non-null float64\n",
      "tract_to_msa_md_income_pct        500000 non-null float64\n",
      "number_of_owner-occupied_units    500000 non-null float64\n",
      "number_of_1_to_4_family_units     500000 non-null float64\n",
      "lender                            500000 non-null int64\n",
      "co_applicant                      500000 non-null bool\n",
      "lender_classification             500000 non-null float64\n",
      "income_approximated               500000 non-null float64\n",
      "accepted                          500000 non-null int64\n",
      "dtypes: bool(1), float64(10), int64(13)\n",
      "memory usage: 92.0 MB\n"
     ]
    }
   ],
   "source": [
    "data.info()"
   ]
  },
  {
   "cell_type": "code",
   "execution_count": 90,
   "metadata": {},
   "outputs": [],
   "source": [
    "data['co_applicant'] = data['co_applicant'].astype('int')"
   ]
  },
  {
   "cell_type": "code",
   "execution_count": null,
   "metadata": {},
   "outputs": [],
   "source": [
    "DistPlots(data, ['log_loan_amount', 'applicant_income'])"
   ]
  },
  {
   "cell_type": "code",
   "execution_count": null,
   "metadata": {},
   "outputs": [],
   "source": []
  },
  {
   "cell_type": "code",
   "execution_count": null,
   "metadata": {},
   "outputs": [],
   "source": [
    "data.head()"
   ]
  },
  {
   "cell_type": "markdown",
   "metadata": {},
   "source": [
    "## Model fitting\n",
    "\n",
    "In this section the actual model fitting takes place."
   ]
  },
  {
   "cell_type": "code",
   "execution_count": 1,
   "metadata": {},
   "outputs": [],
   "source": [
    "from sklearn import preprocessing\n",
    "import sklearn.model_selection as ms\n",
    "from sklearn import linear_model\n",
    "import sklearn.metrics as sklm\n",
    "import sklearn.ensemble as ensemble\n",
    "from sklearn.ensemble import AdaBoostClassifier\n",
    "from sklearn.ensemble import RandomForestClassifier\n",
    "from sklearn.ensemble import ExtraTreesClassifier\n",
    "from sklearn.naive_bayes import GaussianNB, BernoulliNB\n",
    "from sklearn.neural_network import MLPClassifier\n",
    "from sklearn.model_selection import train_test_split\n",
    "from sklearn import metrics\n",
    "from sklearn import feature_selection as fs\n",
    "import sklearn.tree as tree\n",
    "\n",
    "import category_encoders as ce"
   ]
  },
  {
   "cell_type": "code",
   "execution_count": 4,
   "metadata": {},
   "outputs": [
    {
     "name": "stdout",
     "output_type": "stream",
     "text": [
      "(500000, 21)\n"
     ]
    },
    {
     "data": {
      "text/html": [
       "<div>\n",
       "<style scoped>\n",
       "    .dataframe tbody tr th:only-of-type {\n",
       "        vertical-align: middle;\n",
       "    }\n",
       "\n",
       "    .dataframe tbody tr th {\n",
       "        vertical-align: top;\n",
       "    }\n",
       "\n",
       "    .dataframe thead th {\n",
       "        text-align: right;\n",
       "    }\n",
       "</style>\n",
       "<table border=\"1\" class=\"dataframe\">\n",
       "  <thead>\n",
       "    <tr style=\"text-align: right;\">\n",
       "      <th></th>\n",
       "      <th>loan_type</th>\n",
       "      <th>property_type</th>\n",
       "      <th>loan_purpose</th>\n",
       "      <th>occupancy</th>\n",
       "      <th>loan_amount</th>\n",
       "      <th>preapproval</th>\n",
       "      <th>msa_md</th>\n",
       "      <th>state_code</th>\n",
       "      <th>county_code</th>\n",
       "      <th>applicant_ethnicity</th>\n",
       "      <th>...</th>\n",
       "      <th>applicant_sex</th>\n",
       "      <th>applicant_income</th>\n",
       "      <th>population</th>\n",
       "      <th>minority_population_pct</th>\n",
       "      <th>ffiecmedian_family_income</th>\n",
       "      <th>tract_to_msa_md_income_pct</th>\n",
       "      <th>number_of_owner-occupied_units</th>\n",
       "      <th>number_of_1_to_4_family_units</th>\n",
       "      <th>lender</th>\n",
       "      <th>co_applicant</th>\n",
       "    </tr>\n",
       "    <tr>\n",
       "      <th>row_id</th>\n",
       "      <th></th>\n",
       "      <th></th>\n",
       "      <th></th>\n",
       "      <th></th>\n",
       "      <th></th>\n",
       "      <th></th>\n",
       "      <th></th>\n",
       "      <th></th>\n",
       "      <th></th>\n",
       "      <th></th>\n",
       "      <th></th>\n",
       "      <th></th>\n",
       "      <th></th>\n",
       "      <th></th>\n",
       "      <th></th>\n",
       "      <th></th>\n",
       "      <th></th>\n",
       "      <th></th>\n",
       "      <th></th>\n",
       "      <th></th>\n",
       "      <th></th>\n",
       "    </tr>\n",
       "  </thead>\n",
       "  <tbody>\n",
       "    <tr>\n",
       "      <th>0</th>\n",
       "      <td>3</td>\n",
       "      <td>1</td>\n",
       "      <td>1</td>\n",
       "      <td>1</td>\n",
       "      <td>70.0</td>\n",
       "      <td>3</td>\n",
       "      <td>18</td>\n",
       "      <td>37</td>\n",
       "      <td>246</td>\n",
       "      <td>2</td>\n",
       "      <td>...</td>\n",
       "      <td>1</td>\n",
       "      <td>24.0</td>\n",
       "      <td>6203.0</td>\n",
       "      <td>44.230</td>\n",
       "      <td>60588.0</td>\n",
       "      <td>50.933</td>\n",
       "      <td>716.0</td>\n",
       "      <td>2642.0</td>\n",
       "      <td>4536</td>\n",
       "      <td>False</td>\n",
       "    </tr>\n",
       "    <tr>\n",
       "      <th>1</th>\n",
       "      <td>1</td>\n",
       "      <td>1</td>\n",
       "      <td>3</td>\n",
       "      <td>1</td>\n",
       "      <td>178.0</td>\n",
       "      <td>3</td>\n",
       "      <td>369</td>\n",
       "      <td>52</td>\n",
       "      <td>299</td>\n",
       "      <td>1</td>\n",
       "      <td>...</td>\n",
       "      <td>1</td>\n",
       "      <td>57.0</td>\n",
       "      <td>5774.0</td>\n",
       "      <td>15.905</td>\n",
       "      <td>54821.0</td>\n",
       "      <td>100.000</td>\n",
       "      <td>1622.0</td>\n",
       "      <td>2108.0</td>\n",
       "      <td>2458</td>\n",
       "      <td>False</td>\n",
       "    </tr>\n",
       "    <tr>\n",
       "      <th>2</th>\n",
       "      <td>2</td>\n",
       "      <td>1</td>\n",
       "      <td>3</td>\n",
       "      <td>1</td>\n",
       "      <td>163.0</td>\n",
       "      <td>3</td>\n",
       "      <td>16</td>\n",
       "      <td>10</td>\n",
       "      <td>306</td>\n",
       "      <td>2</td>\n",
       "      <td>...</td>\n",
       "      <td>1</td>\n",
       "      <td>67.0</td>\n",
       "      <td>6094.0</td>\n",
       "      <td>61.270</td>\n",
       "      <td>67719.0</td>\n",
       "      <td>100.000</td>\n",
       "      <td>760.0</td>\n",
       "      <td>1048.0</td>\n",
       "      <td>5710</td>\n",
       "      <td>False</td>\n",
       "    </tr>\n",
       "    <tr>\n",
       "      <th>3</th>\n",
       "      <td>1</td>\n",
       "      <td>1</td>\n",
       "      <td>1</td>\n",
       "      <td>1</td>\n",
       "      <td>155.0</td>\n",
       "      <td>1</td>\n",
       "      <td>305</td>\n",
       "      <td>47</td>\n",
       "      <td>180</td>\n",
       "      <td>2</td>\n",
       "      <td>...</td>\n",
       "      <td>1</td>\n",
       "      <td>105.0</td>\n",
       "      <td>6667.0</td>\n",
       "      <td>6.246</td>\n",
       "      <td>78439.0</td>\n",
       "      <td>100.000</td>\n",
       "      <td>2025.0</td>\n",
       "      <td>2299.0</td>\n",
       "      <td>5888</td>\n",
       "      <td>True</td>\n",
       "    </tr>\n",
       "    <tr>\n",
       "      <th>4</th>\n",
       "      <td>1</td>\n",
       "      <td>1</td>\n",
       "      <td>1</td>\n",
       "      <td>1</td>\n",
       "      <td>305.0</td>\n",
       "      <td>3</td>\n",
       "      <td>24</td>\n",
       "      <td>37</td>\n",
       "      <td>20</td>\n",
       "      <td>2</td>\n",
       "      <td>...</td>\n",
       "      <td>2</td>\n",
       "      <td>71.0</td>\n",
       "      <td>6732.0</td>\n",
       "      <td>100.000</td>\n",
       "      <td>63075.0</td>\n",
       "      <td>82.200</td>\n",
       "      <td>1464.0</td>\n",
       "      <td>1847.0</td>\n",
       "      <td>289</td>\n",
       "      <td>False</td>\n",
       "    </tr>\n",
       "  </tbody>\n",
       "</table>\n",
       "<p>5 rows × 21 columns</p>\n",
       "</div>"
      ],
      "text/plain": [
       "        loan_type  property_type  loan_purpose  occupancy  loan_amount  \\\n",
       "row_id                                                                   \n",
       "0               3              1             1          1         70.0   \n",
       "1               1              1             3          1        178.0   \n",
       "2               2              1             3          1        163.0   \n",
       "3               1              1             1          1        155.0   \n",
       "4               1              1             1          1        305.0   \n",
       "\n",
       "        preapproval  msa_md  state_code  county_code  applicant_ethnicity  \\\n",
       "row_id                                                                      \n",
       "0                 3      18          37          246                    2   \n",
       "1                 3     369          52          299                    1   \n",
       "2                 3      16          10          306                    2   \n",
       "3                 1     305          47          180                    2   \n",
       "4                 3      24          37           20                    2   \n",
       "\n",
       "        ...  applicant_sex  applicant_income  population  \\\n",
       "row_id  ...                                                \n",
       "0       ...              1              24.0      6203.0   \n",
       "1       ...              1              57.0      5774.0   \n",
       "2       ...              1              67.0      6094.0   \n",
       "3       ...              1             105.0      6667.0   \n",
       "4       ...              2              71.0      6732.0   \n",
       "\n",
       "        minority_population_pct  ffiecmedian_family_income  \\\n",
       "row_id                                                       \n",
       "0                        44.230                    60588.0   \n",
       "1                        15.905                    54821.0   \n",
       "2                        61.270                    67719.0   \n",
       "3                         6.246                    78439.0   \n",
       "4                       100.000                    63075.0   \n",
       "\n",
       "        tract_to_msa_md_income_pct  number_of_owner-occupied_units  \\\n",
       "row_id                                                               \n",
       "0                           50.933                           716.0   \n",
       "1                          100.000                          1622.0   \n",
       "2                          100.000                           760.0   \n",
       "3                          100.000                          2025.0   \n",
       "4                           82.200                          1464.0   \n",
       "\n",
       "        number_of_1_to_4_family_units  lender  co_applicant  \n",
       "row_id                                                       \n",
       "0                              2642.0    4536         False  \n",
       "1                              2108.0    2458         False  \n",
       "2                              1048.0    5710         False  \n",
       "3                              2299.0    5888          True  \n",
       "4                              1847.0     289         False  \n",
       "\n",
       "[5 rows x 21 columns]"
      ]
     },
     "execution_count": 4,
     "metadata": {},
     "output_type": "execute_result"
    }
   ],
   "source": [
    "train_data = pd.read_csv('train_values.csv', index_col=0)\n",
    "print(train_data.shape)\n",
    "train_data.head()"
   ]
  },
  {
   "cell_type": "code",
   "execution_count": 5,
   "metadata": {},
   "outputs": [],
   "source": [
    "train_data['income_approximated'] = train_data[['loan_amount',\n",
    "                                               'applicant_income']].apply(lambda x: 30.29 + 0.3458 * x[0] if (np.all(pd.isnull(x[1]))) else x[1], axis = 1)\n",
    "#train_data['state_code'].replace(to_replace=-1, value='XX', inplace=True)\n",
    "#train_data['county_code'].replace(to_replace=-1, value='XX', inplace=True)\n",
    "#train_data['state_county'] = train_data['state_code'].map(str) + train_data['county_code'].map(str)\n",
    "#train_data['msa_md'].replace(to_replace=-1, value=-1000, inplace=True)\n",
    "#for col in train_data.columns:\n",
    "#    train_data[col].fillna(train_data[col].mean(), inplace=True)\n"
   ]
  },
  {
   "cell_type": "code",
   "execution_count": 6,
   "metadata": {},
   "outputs": [],
   "source": [
    "train_data.fillna(value = -1, inplace=True)"
   ]
  },
  {
   "cell_type": "code",
   "execution_count": 7,
   "metadata": {},
   "outputs": [],
   "source": [
    "lender_classification = pd.read_csv('lender_classification.csv', index_col='lender')\n",
    "train_data['lender_classification'] = train_data['lender'].apply(lambda x: lender_classification.loc[x, 'accept_rate'])"
   ]
  },
  {
   "cell_type": "code",
   "execution_count": 8,
   "metadata": {},
   "outputs": [],
   "source": [
    "train_labels = pd.read_csv('train_labels.csv', index_col=0)\n",
    "data = train_data.merge(train_labels, on='row_id')"
   ]
  },
  {
   "cell_type": "code",
   "execution_count": 11,
   "metadata": {},
   "outputs": [],
   "source": [
    "#smpl = data.sample(50000)\n",
    "#smpl = data[data['state_code']==-1]\n",
    "smpl = data.copy()"
   ]
  },
  {
   "cell_type": "code",
   "execution_count": 9,
   "metadata": {},
   "outputs": [],
   "source": [
    "data_state = data.groupby('state_code').agg('mean')\n",
    "data['state_rate'] = data['state_code'].apply(lambda x: data_state.loc[x]['accepted'])"
   ]
  },
  {
   "cell_type": "code",
   "execution_count": 10,
   "metadata": {},
   "outputs": [],
   "source": [
    "data_msa = data.groupby('msa_md').agg('mean')\n",
    "data['msa_rate'] = data['msa_md'].apply(lambda x: data_msa.loc[x]['accepted'])"
   ]
  },
  {
   "cell_type": "code",
   "execution_count": 28,
   "metadata": {},
   "outputs": [],
   "source": [
    "#if not('lender_size' in cols_categorical):\n",
    "#    cols_categorical.extend(['lender_size'])\n",
    "#cols_categorical\n",
    "\n",
    "all_features = ['state_code',\n",
    "                'lender',\n",
    "                      #'loan_type',\n",
    "                      'property_type',\n",
    "                      'loan_purpose',\n",
    "                      'co_applicant',\n",
    "                      'preapproval',\n",
    "                      #'occupancy',\n",
    "                      'applicant_race',\n",
    "                      'applicant_sex',\n",
    "                      'applicant_ethnicity',\n",
    "                       'msa_md',\n",
    "                       'applicant_income',\n",
    "                       'loan_amount',\n",
    "                       'number_of_owner-occupied_units',\n",
    "                       'minority_population_pct',\n",
    "                       'ffiecmedian_family_income',\n",
    "                       'tract_to_msa_md_income_pct',\n",
    "                       'number_of_1_to_4_family_units',\n",
    "                       'population']\n",
    "\n",
    "cat_features_to_add= [#'state_code',\n",
    "                      #'loan_type',\n",
    "                      'property_type',\n",
    "                      'loan_purpose',\n",
    "                      'co_applicant',\n",
    "                      'preapproval',\n",
    "                      #'occupancy',\n",
    "                      'applicant_race',\n",
    "                      'applicant_sex',\n",
    "                      'applicant_ethnicity',\n",
    "                      #'msa_md'\n",
    "                     ]\n",
    "\n",
    "cat_features_to_add_test= ['state_county',\n",
    "                      #'loan_type',\n",
    "                      'property_type',\n",
    "                      'loan_purpose',\n",
    "                      'co_applicant',\n",
    "                      'preapproval',\n",
    "                      #'occupancy',\n",
    "                      'applicant_race',\n",
    "                      'applicant_sex',\n",
    "                      'applicant_ethnicity',\n",
    "                      #'msa_md'\n",
    "                     ]\n",
    "\n",
    "\n",
    "num_features_to_add= ['lender_classification',\n",
    "                      'state_rate',\n",
    "                      #'msa_rate',\n",
    "                       'income_approximated',\n",
    "                       'loan_amount',\n",
    "                       'number_of_owner-occupied_units',\n",
    "                       'minority_population_pct',\n",
    "                       'ffiecmedian_family_income',\n",
    "                       'tract_to_msa_md_income_pct',\n",
    "                       'number_of_1_to_4_family_units',\n",
    "                       'population'\n",
    "                      ]\n"
   ]
  },
  {
   "cell_type": "code",
   "execution_count": 30,
   "metadata": {},
   "outputs": [],
   "source": [
    "np.random.seed(23423)\n",
    "inside = ms.KFold(n_splits=10, shuffle=True)\n",
    "np.random.seed(73743)\n",
    "outside = ms.KFold(n_splits=10, shuffle=True)\n",
    "\n",
    "np.random.seed(34543)\n",
    "# Hyperparameters for AdaBoostClassifier\n",
    "parameter_grid = {'n_estimators': [300, 350, 400, 500],\n",
    "                  'max_features': [0.1, 0.25, 0.35, 0.5]}\n",
    "rfc_mdl = RandomForestClassifier(criterion=\"entropy\", n_jobs=7)\n",
    "\n",
    "clf = ms.GridSearchCV(estimator=rfc_mdl, \n",
    "                      param_grid = parameter_grid, \n",
    "                      cv=inside, \n",
    "                      scoring = 'accuracy',\n",
    "                      return_train_score = True\n",
    "                     )"
   ]
  },
  {
   "cell_type": "code",
   "execution_count": 29,
   "metadata": {},
   "outputs": [
    {
     "name": "stdout",
     "output_type": "stream",
     "text": [
      "Using One hot encoder\n"
     ]
    }
   ],
   "source": [
    "use_hasher = False\n",
    "use_state_county = False\n",
    "use_category = True\n",
    "\n",
    "if use_category:\n",
    "    if use_state_county:\n",
    "        enc = preprocessing.LabelEncoder()\n",
    "        smpl['state_county'] = enc.fit_transform(train_data['state_county'])\n",
    "\n",
    "    if use_hasher:\n",
    "        print('Using hashing encoder')\n",
    "        hasher = ce.HashingEncoder(n_components = 100, cols=cat_features_to_add)\n",
    "        features_to_test = np.array(hasher.fit_transform(smpl))[:,0:hasher.n_components]\n",
    "        print(features_to_test.shape)\n",
    "    else:\n",
    "        print('Using One hot encoder')\n",
    "        features_to_test = PrepareFeatures(smpl, cat_features_to_add)\n",
    "    \n",
    "if features_to_test.shape[0]!=0:\n",
    "    features_to_test = np.concatenate([features_to_test, np.array(smpl[num_features_to_add])], axis = 1)\n",
    "else:\n",
    "    features_to_test = np.array(smpl[num_features_to_add])\n",
    "\n",
    "scaler = preprocessing.RobustScaler().fit(features_to_test)\n",
    "features_to_test = scaler.transform(features_to_test)\n",
    "\n",
    "X_train, X_test, y_train, y_test = train_test_split(features_to_test, smpl['accepted'], test_size=0.3) # 70% training and 30% test"
   ]
  },
  {
   "cell_type": "code",
   "execution_count": 93,
   "metadata": {},
   "outputs": [
    {
     "data": {
      "text/plain": [
       "['state_county',\n",
       " 'property_type',\n",
       " 'loan_purpose',\n",
       " 'co_applicant',\n",
       " 'preapproval',\n",
       " 'applicant_race',\n",
       " 'applicant_sex',\n",
       " 'applicant_ethnicity']"
      ]
     },
     "execution_count": 93,
     "metadata": {},
     "output_type": "execute_result"
    }
   ],
   "source": [
    "cat_features_to_add"
   ]
  },
  {
   "cell_type": "code",
   "execution_count": 23,
   "metadata": {},
   "outputs": [
    {
     "data": {
      "text/plain": [
       "GridSearchCV(cv=KFold(n_splits=10, random_state=None, shuffle=True),\n",
       "       error_score='raise-deprecating',\n",
       "       estimator=RandomForestClassifier(bootstrap=True, class_weight=None, criterion='entropy',\n",
       "            max_depth=None, max_features='auto', max_leaf_nodes=None,\n",
       "            min_impurity_decrease=0.0, min_impurity_split=None,\n",
       "            min_samples_leaf=1, min_samples_split=2,\n",
       "            min_weight_fraction_leaf=0.0, n_estimators='warn', n_jobs=7,\n",
       "            oob_score=False, random_state=None, verbose=0,\n",
       "            warm_start=False),\n",
       "       fit_params=None, iid='warn', n_jobs=None,\n",
       "       param_grid={'n_estimators': [300, 350, 400, 500], 'max_features': [0.1, 0.25, 0.35, 0.5]},\n",
       "       pre_dispatch='2*n_jobs', refit=True, return_train_score=True,\n",
       "       scoring='accuracy', verbose=0)"
      ]
     },
     "execution_count": 23,
     "metadata": {},
     "output_type": "execute_result"
    }
   ],
   "source": [
    "clf.fit(features_to_test, smpl['accepted'])"
   ]
  },
  {
   "cell_type": "code",
   "execution_count": 54,
   "metadata": {},
   "outputs": [
    {
     "name": "stdout",
     "output_type": "stream",
     "text": [
      "mean_fit_time\n",
      "[10.56322031 12.09673476 13.86964216 17.28435831 19.02165823 22.05941133\n",
      " 25.36156864 31.40228996 24.0245012  28.16746585 32.19186604 40.11702437\n",
      " 32.95224035 39.65093555 47.77127199 59.90778198]\n",
      "std_fit_time\n",
      "[0.25770759 0.12642421 0.13523209 0.12853242 0.14626131 0.12086862\n",
      " 0.30365895 0.17392282 0.11480374 0.28857329 0.22841778 0.30904675\n",
      " 0.20331127 1.64536847 0.22602618 1.28489783]\n",
      "mean_score_time\n",
      "[0.20632565 0.20613983 0.20633359 0.30719647 0.2069396  0.20630217\n",
      " 0.20655944 0.30819671 0.20675678 0.20635631 0.20627239 0.21633933\n",
      " 0.20707338 0.20641468 0.20673318 0.26725059]\n",
      "std_score_time\n",
      "[0.00059943 0.00062993 0.0003023  0.00044937 0.0011233  0.00054983\n",
      " 0.00029598 0.00119628 0.00056494 0.00031286 0.0003867  0.03073703\n",
      " 0.00062957 0.00056821 0.00086957 0.04984197]\n",
      "param_max_features\n",
      "[0.1 0.1 0.1 0.1 0.25 0.25 0.25 0.25 0.35 0.35 0.35 0.35 0.5 0.5 0.5 0.5]\n",
      "param_n_estimators\n",
      "[300 350 400 500 300 350 400 500 300 350 400 500 300 350 400 500]\n",
      "params\n",
      "[{'max_features': 0.1, 'n_estimators': 300}, {'max_features': 0.1, 'n_estimators': 350}, {'max_features': 0.1, 'n_estimators': 400}, {'max_features': 0.1, 'n_estimators': 500}, {'max_features': 0.25, 'n_estimators': 300}, {'max_features': 0.25, 'n_estimators': 350}, {'max_features': 0.25, 'n_estimators': 400}, {'max_features': 0.25, 'n_estimators': 500}, {'max_features': 0.35, 'n_estimators': 300}, {'max_features': 0.35, 'n_estimators': 350}, {'max_features': 0.35, 'n_estimators': 400}, {'max_features': 0.35, 'n_estimators': 500}, {'max_features': 0.5, 'n_estimators': 300}, {'max_features': 0.5, 'n_estimators': 350}, {'max_features': 0.5, 'n_estimators': 400}, {'max_features': 0.5, 'n_estimators': 500}]\n",
      "split0_test_score\n",
      "[0.7188 0.7165 0.7176 0.7178 0.714  0.7146 0.7155 0.7161 0.7162 0.7154\n",
      " 0.7147 0.713  0.715  0.7158 0.7161 0.7146]\n",
      "split1_test_score\n",
      "[0.7225 0.7219 0.7231 0.7202 0.7226 0.7223 0.7217 0.7248 0.722  0.722\n",
      " 0.7214 0.7258 0.7214 0.7207 0.7224 0.722 ]\n",
      "split2_test_score\n",
      "[0.7177 0.7214 0.7195 0.7212 0.7231 0.7253 0.724  0.7242 0.7258 0.7226\n",
      " 0.7241 0.7238 0.7236 0.7236 0.7198 0.7226]\n",
      "split3_test_score\n",
      "[0.7146 0.7172 0.7132 0.7117 0.7157 0.7141 0.7153 0.7159 0.7143 0.7154\n",
      " 0.7128 0.7148 0.7116 0.7136 0.713  0.7108]\n",
      "split4_test_score\n",
      "[0.7078 0.7104 0.7097 0.7099 0.7117 0.7119 0.7096 0.7116 0.7118 0.7134\n",
      " 0.7126 0.7126 0.7116 0.7118 0.7113 0.7121]\n",
      "split5_test_score\n",
      "[0.718  0.7183 0.7158 0.718  0.7171 0.7198 0.7162 0.7176 0.7174 0.7174\n",
      " 0.7209 0.717  0.718  0.717  0.7176 0.7171]\n",
      "split6_test_score\n",
      "[0.7123 0.712  0.7122 0.7142 0.7134 0.7137 0.7138 0.7142 0.7139 0.7141\n",
      " 0.7131 0.715  0.7129 0.7133 0.7133 0.7137]\n",
      "split7_test_score\n",
      "[0.7085 0.7059 0.7074 0.7082 0.7094 0.7101 0.7116 0.7116 0.71   0.7135\n",
      " 0.7112 0.7123 0.7158 0.7133 0.7114 0.7146]\n",
      "split8_test_score\n",
      "[0.7177 0.7143 0.7157 0.7165 0.7194 0.7193 0.7185 0.7202 0.7173 0.7204\n",
      " 0.7193 0.7165 0.7208 0.7181 0.7204 0.7205]\n",
      "split9_test_score\n",
      "[0.719  0.7154 0.7179 0.7176 0.7212 0.7215 0.7191 0.7191 0.7189 0.7172\n",
      " 0.7176 0.7162 0.7184 0.7204 0.7206 0.7177]\n",
      "mean_test_score\n",
      "[0.71569 0.71533 0.71521 0.71553 0.71676 0.71726 0.71653 0.71753 0.71676\n",
      " 0.71714 0.71677 0.7167  0.71691 0.71676 0.71659 0.71657]\n",
      "std_test_score\n",
      "[0.00455026 0.00468061 0.00445701 0.00415092 0.00448223 0.00477874\n",
      " 0.00418905 0.00439387 0.00446435 0.00326595 0.00425724 0.00435844\n",
      " 0.0040101  0.00369951 0.00393127 0.00390027]\n",
      "rank_test_score\n",
      "[13 15 16 14  6  2 12  1  6  3  5  9  4  6 10 11]\n",
      "split0_train_score\n",
      "[1. 1. 1. 1. 1. 1. 1. 1. 1. 1. 1. 1. 1. 1. 1. 1.]\n",
      "split1_train_score\n",
      "[1. 1. 1. 1. 1. 1. 1. 1. 1. 1. 1. 1. 1. 1. 1. 1.]\n",
      "split2_train_score\n",
      "[1. 1. 1. 1. 1. 1. 1. 1. 1. 1. 1. 1. 1. 1. 1. 1.]\n",
      "split3_train_score\n",
      "[1. 1. 1. 1. 1. 1. 1. 1. 1. 1. 1. 1. 1. 1. 1. 1.]\n",
      "split4_train_score\n",
      "[1. 1. 1. 1. 1. 1. 1. 1. 1. 1. 1. 1. 1. 1. 1. 1.]\n",
      "split5_train_score\n",
      "[1. 1. 1. 1. 1. 1. 1. 1. 1. 1. 1. 1. 1. 1. 1. 1.]\n",
      "split6_train_score\n",
      "[1. 1. 1. 1. 1. 1. 1. 1. 1. 1. 1. 1. 1. 1. 1. 1.]\n",
      "split7_train_score\n",
      "[1. 1. 1. 1. 1. 1. 1. 1. 1. 1. 1. 1. 1. 1. 1. 1.]\n",
      "split8_train_score\n",
      "[1. 1. 1. 1. 1. 1. 1. 1. 1. 1. 1. 1. 1. 1. 1. 1.]\n",
      "split9_train_score\n",
      "[1. 1. 1. 1. 1. 1. 1. 1. 1. 1. 1. 1. 1. 1. 1. 1.]\n",
      "mean_train_score\n",
      "[1. 1. 1. 1. 1. 1. 1. 1. 1. 1. 1. 1. 1. 1. 1. 1.]\n",
      "std_train_score\n",
      "[0. 0. 0. 0. 0. 0. 0. 0. 0. 0. 0. 0. 0. 0. 0. 0.]\n",
      "n_estimators 500\n",
      "max_features 0.25\n"
     ]
    }
   ],
   "source": [
    "keys = list(clf.cv_results_.keys())\n",
    "for key in keys:\n",
    "    print(key)\n",
    "    print(clf.cv_results_[key])\n",
    "## And print the best parameter value\n",
    "print('n_estimators', clf.best_estimator_.n_estimators)\n",
    "print('max_features', clf.best_estimator_.max_features)"
   ]
  },
  {
   "cell_type": "code",
   "execution_count": 62,
   "metadata": {},
   "outputs": [],
   "source": [
    "plot_scores = clf.cv_results_['mean_test_score'].reshape(4,4)"
   ]
  },
  {
   "cell_type": "code",
   "execution_count": 80,
   "metadata": {},
   "outputs": [
    {
     "data": {
      "text/plain": [
       "Text(33.0, 0.5, 'n_estimators')"
      ]
     },
     "execution_count": 80,
     "metadata": {},
     "output_type": "execute_result"
    },
    {
     "data": {
      "image/png": "[encoded data removed]",
      "text/plain": [
       "<Figure size 432x288 with 2 Axes>"
      ]
     },
     "metadata": {
      "needs_background": "light"
     },
     "output_type": "display_data"
    }
   ],
   "source": [
    "ax = sns.heatmap(plot_scores, annot=True, fmt='.4f', \n",
    "                 xticklabels=parameter_grid['max_features'], \n",
    "                 yticklabels=parameter_grid['n_estimators'])\n",
    "ax.set_xlabel('max_features')\n",
    "ax.set_ylabel('n_estimators')"
   ]
  },
  {
   "cell_type": "code",
   "execution_count": 63,
   "metadata": {
    "scrolled": false
   },
   "outputs": [
    {
     "data": {
      "text/plain": [
       "(10000, 88)"
      ]
     },
     "execution_count": 63,
     "metadata": {},
     "output_type": "execute_result"
    }
   ],
   "source": [
    "features_to_test.shape"
   ]
  },
  {
   "cell_type": "code",
   "execution_count": 30,
   "metadata": {},
   "outputs": [
    {
     "name": "stdout",
     "output_type": "stream",
     "text": [
      "Accuracy: 0.7091933333333333\n"
     ]
    }
   ],
   "source": [
    "lr = linear_model.LogisticRegression(C=1, solver='liblinear') \n",
    "model_rl = lr.fit(X_train, y_train)\n",
    "\n",
    "y_pred = model_rl.predict(X_test)\n",
    "\n",
    "print(\"Accuracy:\", metrics.accuracy_score(y_test, y_pred))"
   ]
  },
  {
   "cell_type": "markdown",
   "metadata": {},
   "source": [
    "With 'income approximated' and 'lender classification - accuracy 0.6786 (not really higher than with lender only)\n",
    "Accuracy: 0.6786333333333333\n",
    "Accuracy: 0.6779066666666667\n",
    "\n",
    "Added loan purpose:\n",
    "Accuracy: 0.6800333333333334\n",
    "\n",
    "Added state code - removed loan purpose\n",
    "Accuracy: 0.6787866666666666\n",
    "\n",
    "state_code encoded using a hasher:\n",
    "Accuracy: 0.6817066666666667\n",
    "\n",
    "added_county_code to hasher - only sample of 10000\n",
    "Accuracy: 0.6626666666666666\n",
    "\n",
    "added loan purpose:\n",
    "Accuracy: 0.672"
   ]
  },
  {
   "cell_type": "code",
   "execution_count": 18,
   "metadata": {},
   "outputs": [
    {
     "name": "stdout",
     "output_type": "stream",
     "text": [
      "Accuracy: 0.7126933333333333\n"
     ]
    }
   ],
   "source": [
    "abc = AdaBoostClassifier(n_estimators=200, learning_rate=0.1)\n",
    "model_abc = abc.fit(X_train, y_train)\n",
    "y_pred = model_abc.predict(X_test)\n",
    "        \n",
    "print(\"Accuracy:\", metrics.accuracy_score(y_test, y_pred))"
   ]
  },
  {
   "cell_type": "markdown",
   "metadata": {},
   "source": [
    "Accuracy: 0.6947\n",
    "Accuracy: 0.6968466666666666 array([0.416, 0.348, 0.236])\n",
    "\n",
    "added loan purpose:\n",
    "Accuracy: 0.7007933333333334 array([0.076, 0.036, 0.   , 0.388, 0.336, 0.164])\n",
    "\n",
    "added state code - removed loan purpose:\n",
    "Accuracy: 0.7028133333333333 array([0.384, 0.252, 0.18 , 0.184])\n",
    "\n",
    "state_code encoded using a hasher:\n",
    "Accuracy: 0.7037866666666667 array([0.12 , 0.   , 0.012, 0.   , 0.004, 0.   , 0.   , 0.   , 0.392,\n",
    "       0.276, 0.196])\n",
    "       \n",
    "added county code to hasher (sample of 10000):\n",
    "Accuracy: 0.682 array([0.092, 0.   , 0.   , 0.024, 0.008, 0.   , 0.008, 0.   , 0.304,\n",
    "       0.204, 0.36 ])\n",
    "\n",
    "Accuracy: 0.6936666666666667 array([0.096, 0.   , 0.004, 0.024, 0.02 , 0.   , 0.004, 0.008, 0.356,\n",
    "       0.252, 0.236])\n",
    "       \n",
    "Accuracy: 0.7126666666666667"
   ]
  },
  {
   "cell_type": "code",
   "execution_count": 22,
   "metadata": {
    "scrolled": true
   },
   "outputs": [
    {
     "data": {
      "text/plain": [
       "array([0.065, 0.   , 0.   , 0.   , 0.   , 0.   , 0.   , 0.   , 0.   ,\n",
       "       0.   , 0.   , 0.   , 0.   , 0.   , 0.   , 0.   , 0.   , 0.   ,\n",
       "       0.   , 0.   , 0.   , 0.   , 0.   , 0.   , 0.   , 0.   , 0.   ,\n",
       "       0.   , 0.   , 0.   , 0.   , 0.   , 0.   , 0.   , 0.   , 0.   ,\n",
       "       0.   , 0.   , 0.   , 0.   , 0.   , 0.   , 0.   , 0.   , 0.   ,\n",
       "       0.   , 0.   , 0.   , 0.   , 0.   , 0.   , 0.   , 0.   , 0.   ,\n",
       "       0.025, 0.   , 0.   , 0.   , 0.015, 0.   , 0.085, 0.02 , 0.   ,\n",
       "       0.01 , 0.02 , 0.   , 0.01 , 0.   , 0.   , 0.   , 0.035, 0.   ,\n",
       "       0.04 , 0.   , 0.035, 0.   , 0.   , 0.   , 0.02 , 0.01 , 0.03 ,\n",
       "       0.   , 0.   , 0.315, 0.13 , 0.025, 0.045, 0.03 , 0.035])"
      ]
     },
     "execution_count": 22,
     "metadata": {},
     "output_type": "execute_result"
    }
   ],
   "source": [
    "model_abc.feature_importances_"
   ]
  },
  {
   "cell_type": "code",
   "execution_count": 31,
   "metadata": {},
   "outputs": [
    {
     "name": "stdout",
     "output_type": "stream",
     "text": [
      "Accuracy: 0.7234933333333333\n"
     ]
    }
   ],
   "source": [
    "rfc = RandomForestClassifier(n_estimators=400,max_features=0.25, n_jobs=7,\n",
    "                                criterion=\"entropy\", class_weight=\"balanced\")\n",
    "model_rfc = rfc.fit(X_train, y_train)\n",
    "y_pred = model_rfc.predict(X_test)\n",
    "        \n",
    "print(\"Accuracy:\", metrics.accuracy_score(y_test, y_pred))"
   ]
  },
  {
   "cell_type": "markdown",
   "metadata": {},
   "source": [
    "Accuracy: 0.6781133333333333\n",
    "Accuracy: 0.6560333333333334\n",
    "Accuracy: 0.6701666666666667 array([0.39217653, 0.25896841, 0.34885506])\n",
    "\n",
    "added state code:\n",
    "Accuracy: 0.69026 array([0.3192765 , 0.24876468, 0.28956225, 0.14239657])\n",
    "\n",
    "state_code encoded using a hasher\n",
    "Accuracy: 0.6857466666666666 array([0.0188833 , 0.00277968, 0.00272961, 0.00274159, 0.00329362,\n",
    "       0.00299558, 0.00306097, 0.00325407, 0.3557482 , 0.28622352,\n",
    "       0.31828986])\n",
    "\n",
    "added county_code to hasher (sample of 10000)\n",
    " Accuracy: 0.656 array([0.03060564, 0.01127349, 0.01189549, 0.01212234, 0.01520779,\n",
    "       0.01342228, 0.01193938, 0.01348524, 0.34897426, 0.26226914,\n",
    "       0.26880496])\n",
    "       \n",
    "Accuracy: 0.6696666666666666"
   ]
  },
  {
   "cell_type": "code",
   "execution_count": 87,
   "metadata": {},
   "outputs": [
    {
     "data": {
      "text/plain": [
       "array([1.85958268e-03, 1.15985855e-03, 1.00015445e-03, 4.04000206e-03,\n",
       "       2.31268667e-03, 2.42140927e-03, 1.49426645e-03, 4.40012798e-03,\n",
       "       2.72084714e-04, 5.07383161e-04, 2.03097587e-03, 2.66641986e-03,\n",
       "       1.97028513e-04, 3.02417682e-04, 2.32645785e-04, 1.95798275e-03,\n",
       "       3.83557809e-04, 2.69912027e-03, 2.50852759e-04, 6.71701128e-04,\n",
       "       2.33420368e-04, 1.22464108e-03, 1.82703717e-03, 2.78232332e-03,\n",
       "       3.39164576e-04, 5.04280559e-04, 2.71907512e-03, 2.68365009e-03,\n",
       "       4.32397968e-04, 2.37014108e-03, 9.67126116e-04, 1.62441538e-03,\n",
       "       1.59729795e-03, 2.40808392e-03, 7.62595034e-04, 1.55486377e-03,\n",
       "       6.78236102e-04, 1.33337217e-03, 4.76489657e-03, 1.70304120e-03,\n",
       "       8.76212126e-04, 1.69267903e-03, 2.25405973e-03, 6.37375241e-04,\n",
       "       5.26206779e-04, 1.18285477e-03, 1.03006719e-03, 1.33621145e-03,\n",
       "       2.88475303e-03, 2.64627011e-03, 4.17887350e-04, 1.85521174e-04,\n",
       "       1.50509969e-03, 1.98089103e-03, 2.04572992e-03, 1.57843363e-04,\n",
       "       1.18232447e-02, 3.22824068e-03, 3.77402710e-03, 4.55405338e-03,\n",
       "       4.66768952e-03, 3.13984530e-03, 3.05577795e-03, 4.65070237e-03,\n",
       "       7.25830556e-04, 2.33123865e-03, 3.09021545e-03, 4.84669292e-04,\n",
       "       5.61205175e-03, 2.41083642e-03, 5.85743608e-04, 6.85188660e-03,\n",
       "       6.48776343e-03, 1.82047913e-03, 6.33562670e-04, 3.22911086e-03,\n",
       "       4.56300839e-03, 2.44801324e-03, 5.95620426e-04, 1.96237145e-01,\n",
       "       8.85226327e-02, 9.00211080e-02, 7.60796240e-02, 9.01959287e-02,\n",
       "       9.73549738e-02, 3.80763742e-02, 7.62874826e-02, 8.17311394e-02])"
      ]
     },
     "execution_count": 87,
     "metadata": {},
     "output_type": "execute_result"
    }
   ],
   "source": [
    "model_rfc.feature_importances_"
   ]
  },
  {
   "cell_type": "code",
   "execution_count": 168,
   "metadata": {},
   "outputs": [
    {
     "data": {
      "text/plain": [
       "array([[5547,   26],\n",
       "       [ 100,   67]], dtype=int64)"
      ]
     },
     "execution_count": 168,
     "metadata": {},
     "output_type": "execute_result"
    }
   ],
   "source": [
    "metrics.confusion_matrix(y_test, y_pred)"
   ]
  },
  {
   "cell_type": "code",
   "execution_count": 122,
   "metadata": {},
   "outputs": [
    {
     "data": {
      "text/plain": [
       "Text(0.5, 15.0, 'Predicted label')"
      ]
     },
     "execution_count": 122,
     "metadata": {},
     "output_type": "execute_result"
    },
    {
     "data": {
      "image/png": "[encoded data removed]",
      "text/plain": [
       "<Figure size 432x288 with 1 Axes>"
      ]
     },
     "metadata": {
      "needs_background": "light"
     },
     "output_type": "display_data"
    }
   ],
   "source": [
    "ax = sns.heatmap(metrics.confusion_matrix(y_test, y_pred), annot=True, fmt='d', cbar=False, square=True)\n",
    "ax.set_ylabel('True label')\n",
    "ax.set_xlabel('Predicted label')"
   ]
  },
  {
   "cell_type": "code",
   "execution_count": 111,
   "metadata": {},
   "outputs": [
    {
     "data": {
      "text/plain": [
       "([<matplotlib.axis.XTick at 0x23c82747940>,\n",
       "  <matplotlib.axis.XTick at 0x23c82747f98>,\n",
       "  <matplotlib.axis.XTick at 0x23c82747390>,\n",
       "  <matplotlib.axis.XTick at 0x23c82774ac8>,\n",
       "  <matplotlib.axis.XTick at 0x23c82774978>,\n",
       "  <matplotlib.axis.XTick at 0x23c827830b8>,\n",
       "  <matplotlib.axis.XTick at 0x23c82783518>,\n",
       "  <matplotlib.axis.XTick at 0x23c827839e8>,\n",
       "  <matplotlib.axis.XTick at 0x23c82783eb8>],\n",
       " <a list of 9 Text xticklabel objects>)"
      ]
     },
     "execution_count": 111,
     "metadata": {},
     "output_type": "execute_result"
    },
    {
     "data": {
      "image/png": "[encoded data removed]",
      "text/plain": [
       "<Figure size 864x432 with 1 Axes>"
      ]
     },
     "metadata": {
      "needs_background": "light"
     },
     "output_type": "display_data"
    }
   ],
   "source": [
    "importance_labels = num_features_to_add[::-1]\n",
    "for i in range(len(importance_labels),features_to_test.shape[1]):\n",
    "    importance_labels.append('')\n",
    "\n",
    "plt.figure(figsize=(12, 6))\n",
    "plt.bar(range(0, len(model_rfc.feature_importances_[:78:-1])), model_rfc.feature_importances_[:78:-1], align=\"center\")\n",
    "plt.ylabel('Feature importance')\n",
    "plt.xticks(range(0, len(model_rfc.feature_importances_[:78:-1])), importance_labels, rotation=90)"
   ]
  },
  {
   "cell_type": "code",
   "execution_count": 52,
   "metadata": {},
   "outputs": [
    {
     "name": "stdout",
     "output_type": "stream",
     "text": [
      "(150000,)\n"
     ]
    }
   ],
   "source": [
    "fpr, tpr , _ = metrics.roc_curve(y_test, y_pred)\n",
    "roc_auc = metrics.roc_auc_score(y_test, y_pred)\n",
    "print(y_pred.shape)"
   ]
  },
  {
   "cell_type": "code",
   "execution_count": 113,
   "metadata": {},
   "outputs": [
    {
     "name": "stdout",
     "output_type": "stream",
     "text": [
      "0.72238\n",
      "0.7071973155024797\n",
      "0.7619528664282961\n",
      "0.7335547152427202\n"
     ]
    }
   ],
   "source": [
    "print(metrics.accuracy_score(y_test, y_pred))\n",
    "print(metrics.precision_score(y_test, y_pred))\n",
    "print(metrics.recall_score(y_test, y_pred))\n",
    "print(metrics.f1_score(y_test, y_pred))"
   ]
  },
  {
   "cell_type": "code",
   "execution_count": 47,
   "metadata": {},
   "outputs": [
    {
     "data": {
      "image/png": "[encoded data removed]",
      "text/plain": [
       "<Figure size 432x288 with 1 Axes>"
      ]
     },
     "metadata": {
      "needs_background": "light"
     },
     "output_type": "display_data"
    }
   ],
   "source": [
    "plt.figure()\n",
    "lw = 2\n",
    "plt.plot(fpr, tpr, color='darkorange',\n",
    "         lw=lw, label='ROC curve (area = %0.2f)' % roc_auc)\n",
    "plt.plot([0, 1], [0, 1], color='navy', lw=lw, linestyle='--')\n",
    "plt.xlim([0.0, 1.0])\n",
    "plt.ylim([0.0, 1.05])\n",
    "plt.xlabel('False Positive Rate')\n",
    "plt.ylabel('True Positive Rate')\n",
    "plt.title('Receiver operating characteristic')\n",
    "plt.legend(loc=\"lower right\")\n",
    "plt.show()"
   ]
  },
  {
   "cell_type": "code",
   "execution_count": 32,
   "metadata": {},
   "outputs": [],
   "source": [
    "scores = ms.cross_val_score(rfc, X_train, y_train, cv=10, scoring='accuracy')"
   ]
  },
  {
   "cell_type": "code",
   "execution_count": 33,
   "metadata": {},
   "outputs": [
    {
     "name": "stdout",
     "output_type": "stream",
     "text": [
      "[0.72357933 0.72471429 0.72108571 0.72791429 0.72574286 0.72034286\n",
      " 0.72368571 0.72291429 0.72048571 0.72444927]\n"
     ]
    }
   ],
   "source": [
    "print(scores)"
   ]
  },
  {
   "cell_type": "code",
   "execution_count": 17,
   "metadata": {},
   "outputs": [
    {
     "name": "stdout",
     "output_type": "stream",
     "text": [
      "Accuracy: 0.72042\n"
     ]
    }
   ],
   "source": [
    "rfc2 = RandomForestClassifier(n_estimators=500, n_jobs=7,\n",
    "                                criterion=\"entropy\")\n",
    "model_rfc2 = rfc2.fit(X_train, y_train)\n",
    "y_pred = model_rfc2.predict(X_test)\n",
    "        \n",
    "print(\"Accuracy:\", metrics.accuracy_score(y_test, y_pred))"
   ]
  },
  {
   "cell_type": "code",
   "execution_count": 57,
   "metadata": {},
   "outputs": [],
   "source": [
    "scores = ms.cross_val_score(rfc2, X_train, y_train, cv=10, scoring='accuracy')"
   ]
  },
  {
   "cell_type": "code",
   "execution_count": 58,
   "metadata": {},
   "outputs": [
    {
     "name": "stdout",
     "output_type": "stream",
     "text": [
      "[0.72143653 0.72160795 0.72246507 0.72014286 0.72305714 0.72168571\n",
      " 0.72588571 0.72310637 0.72690648 0.72439213]\n"
     ]
    }
   ],
   "source": [
    "print(scores)"
   ]
  },
  {
   "cell_type": "code",
   "execution_count": 31,
   "metadata": {},
   "outputs": [
    {
     "data": {
      "text/plain": [
       "array([[50801, 24212],\n",
       "       [17471, 57516]], dtype=int64)"
      ]
     },
     "execution_count": 31,
     "metadata": {},
     "output_type": "execute_result"
    }
   ],
   "source": [
    "metrics.confusion_matrix(y_test, y_pred)"
   ]
  },
  {
   "cell_type": "code",
   "execution_count": 155,
   "metadata": {},
   "outputs": [
    {
     "name": "stdout",
     "output_type": "stream",
     "text": [
      "Accuracy: 0.7056666666666667\n"
     ]
    }
   ],
   "source": [
    "rfc_vote = RandomForestClassifier(n_estimators=500, n_jobs=7, criterion=\"entropy\")\n",
    "abc_vote = AdaBoostClassifier(n_estimators=200, learning_rate=0.1)\n",
    "lr_vote = linear_model.LogisticRegression(C=1, solver='liblinear')\n",
    "\n",
    "vc = ensemble.VotingClassifier(estimators = [('rfc', rfc_vote), ('abc', abc_vote), ('lr', lr_vote)], \n",
    "                              n_jobs = 7, voting = 'soft')\n",
    "\n",
    "vc_model = vc.fit(X_train, y_train)\n",
    "y_pred = vc_model.predict(X_test)\n",
    "        \n",
    "print(\"Accuracy:\", metrics.accuracy_score(y_test, y_pred))"
   ]
  },
  {
   "cell_type": "code",
   "execution_count": 37,
   "metadata": {},
   "outputs": [
    {
     "name": "stdout",
     "output_type": "stream",
     "text": [
      "Accuracy: 0.7034333333333334\n"
     ]
    }
   ],
   "source": [
    "etc = ensemble.ExtraTreesClassifier(n_estimators = 500, n_jobs=7)\n",
    "model_etc = etc.fit(X_train, y_train)\n",
    "y_pred = model_etc.predict(X_test)\n",
    "        \n",
    "print(\"Accuracy:\", metrics.accuracy_score(y_test, y_pred))"
   ]
  },
  {
   "cell_type": "code",
   "execution_count": null,
   "metadata": {},
   "outputs": [],
   "source": []
  },
  {
   "cell_type": "code",
   "execution_count": null,
   "metadata": {},
   "outputs": [],
   "source": []
  },
  {
   "cell_type": "code",
   "execution_count": null,
   "metadata": {
    "scrolled": true
   },
   "outputs": [],
   "source": [
    "import category_encoders as ce\n",
    "\n",
    "smpl = data.sample(100000)\n",
    "    \n",
    "num_features_to_test = ['property_type',\n",
    "                        'loan_purpose', \n",
    "                        'preapproval', \n",
    "                        'applicant_ethnicity', \n",
    "                        'applicant_race', \n",
    "                        'applicant_sex',\n",
    "                         'co_applicant'\n",
    "                         'msa_md'\n",
    "                         'state_code',\n",
    "                         'county_code']\n",
    "\n",
    "features_num = ['loan_amount',\n",
    "                   'income_approximated',\n",
    "                   'lender_classification',\n",
    "                   'number_of_owner-occupied_units',\n",
    "                   'number_of_1_to_4_family_units',\n",
    "                   'accepted']\n",
    "\n",
    "\n",
    "D\n",
    "features.shape\n",
    "\n",
    "X_train, X_test, y_train, y_test = train_test_split(features.iloc[:,0:70+5], features['accepted'], test_size=0.3) # 70% training and 30% test\n",
    "\n",
    "for n in range(2,11,1):\n",
    "    mlp = MLPClassifier(hidden_layer_sizes = (100,n), activation='logistic')\n",
    "    model_mlp = mlp.fit(X_train, y_train)\n",
    "\n",
    "    y_pred = model_mlp.predict(X_test)\n",
    "\n",
    "    print('Depth:', n,\"Accuracy:\", metrics.accuracy_score(y_test, y_pred))\n"
   ]
  },
  {
   "cell_type": "code",
   "execution_count": null,
   "metadata": {},
   "outputs": [],
   "source": []
  },
  {
   "cell_type": "code",
   "execution_count": null,
   "metadata": {},
   "outputs": [],
   "source": []
  },
  {
   "cell_type": "markdown",
   "metadata": {},
   "source": [
    "Using a cycle for the number of components in the resulting hash columns from 10 until 200 and by applying an AdaBoostClassifier(n_estimators=250, learning_rate=0.1), the resulting accuracy is as follows:\n",
    "\n",
    "-  n= 10 Accuracy: 0.7017666666666666\n",
    "-  n= 20 Accuracy: 0.7078\n",
    "-  n= 30 Accuracy: 0.7077666666666667\n",
    "-  n= 40 Accuracy: 0.7084\n",
    "-  n= 50 Accuracy: 0.7127333333333333\n",
    "-  n= 60 Accuracy: 0.7099\n",
    "-  n= 70 Accuracy: 0.7135\n",
    "-  n= 80 Accuracy: 0.7084333333333334\n",
    "-  n= 90 Accuracy: 0.7105666666666667\n",
    "-  n= 100 Accuracy: 0.7060333333333333\n",
    "-  n= 110 Accuracy: 0.7055\n",
    "-  n= 120 Accuracy: 0.7077333333333333\n",
    "-  n= 130 Accuracy: 0.7022333333333334\n",
    "-  n= 140 Accuracy: 0.7043333333333334\n",
    "-  n= 150 Accuracy: 0.7045333333333333\n",
    "-  n= 160 Accuracy: 0.7073666666666667\n",
    "-  n= 170 Accuracy: 0.7005333333333333\n",
    "-  n= 180 Accuracy: 0.7032\n",
    "-  n= 190 Accuracy: 0.7053333333333334\n",
    "-  n= 200 Accuracy: 0.707033333333333\n",
    "\n",
    "It seems that the highest accuracy is achieved by the n_estimators = 70\n",
    "\n",
    "Using a MPClassifier, changing the the activation from default to logistic improved the accuracy from 0.69 to 0.71.\n",
    "Changing the hiddle_layer_sizes from 100 to 150 lowered the accuracy score significantly, from 0.71 to 0.68"
   ]
  },
  {
   "cell_type": "code",
   "execution_count": null,
   "metadata": {},
   "outputs": [],
   "source": [
    "data_encoded.iloc[:,0:15].head(50)"
   ]
  },
  {
   "cell_type": "code",
   "execution_count": null,
   "metadata": {},
   "outputs": [],
   "source": []
  },
  {
   "cell_type": "code",
   "execution_count": null,
   "metadata": {},
   "outputs": [],
   "source": [
    "model_rfc_large.feature_importances_"
   ]
  },
  {
   "cell_type": "code",
   "execution_count": null,
   "metadata": {},
   "outputs": [],
   "source": []
  },
  {
   "cell_type": "code",
   "execution_count": null,
   "metadata": {},
   "outputs": [],
   "source": []
  },
  {
   "cell_type": "code",
   "execution_count": 24,
   "metadata": {},
   "outputs": [],
   "source": [
    "features_to_test = np.concatenate([features_to_test, np.array(data[features_to_add])], axis = 1)"
   ]
  },
  {
   "cell_type": "code",
   "execution_count": 84,
   "metadata": {},
   "outputs": [
    {
     "data": {
      "text/plain": [
       "(10000, 88)"
      ]
     },
     "execution_count": 84,
     "metadata": {},
     "output_type": "execute_result"
    }
   ],
   "source": [
    "features_to_test.shape"
   ]
  },
  {
   "cell_type": "code",
   "execution_count": null,
   "metadata": {},
   "outputs": [],
   "source": [
    "print(features.shape)\n",
    "\n",
    "## Define the variance threhold and fit the threshold to the feature array. \n",
    "sel = fs.VarianceThreshold(threshold=(.9 * (1 - .9)))\n",
    "features_reduced = sel.fit_transform(features)\n",
    "\n",
    "## Print the support and shape for the transformed features\n",
    "print(sel.get_support())\n",
    "print(features_reduced.shape)"
   ]
  },
  {
   "cell_type": "code",
   "execution_count": 29,
   "metadata": {},
   "outputs": [
    {
     "name": "stdout",
     "output_type": "stream",
     "text": [
      "Accuracy: 0.712775\n"
     ]
    }
   ],
   "source": [
    "abc = AdaBoostClassifier(n_estimators=250, learning_rate=0.1)\n",
    "model_abc = abc.fit(X_train, y_train)\n",
    "y_pred = model_abc.predict(X_test)\n",
    "        \n",
    "print(\"Accuracy:\", metrics.accuracy_score(y_test, y_pred))"
   ]
  },
  {
   "cell_type": "code",
   "execution_count": 30,
   "metadata": {},
   "outputs": [
    {
     "data": {
      "text/plain": [
       "array([0.   , 0.056, 0.   , 0.008, 0.   , 0.016, 0.   , 0.084, 0.024,\n",
       "       0.   , 0.   , 0.024, 0.   , 0.   , 0.016, 0.   , 0.028, 0.008,\n",
       "       0.004, 0.068, 0.16 , 0.316, 0.096, 0.   , 0.072, 0.02 ])"
      ]
     },
     "execution_count": 30,
     "metadata": {},
     "output_type": "execute_result"
    }
   ],
   "source": [
    "model_abc.feature_importances_"
   ]
  },
  {
   "cell_type": "code",
   "execution_count": null,
   "metadata": {},
   "outputs": [],
   "source": []
  },
  {
   "cell_type": "code",
   "execution_count": 31,
   "metadata": {},
   "outputs": [
    {
     "name": "stdout",
     "output_type": "stream",
     "text": [
      "Accuracy: 0.719645\n"
     ]
    }
   ],
   "source": [
    "rfc = RandomForestClassifier(n_estimators=500,max_features=0.25, n_jobs=7,\n",
    "                                criterion=\"entropy\", class_weight=\"balanced\")\n",
    "model_rfc = rfc.fit(X_train, y_train)\n",
    "y_pred = model_rfc.predict(X_test)\n",
    "        \n",
    "print(\"Accuracy:\", metrics.accuracy_score(y_test, y_pred))"
   ]
  },
  {
   "cell_type": "code",
   "execution_count": 32,
   "metadata": {},
   "outputs": [
    {
     "data": {
      "text/plain": [
       "array([0.00538707, 0.00451853, 0.0037426 , 0.00119373, 0.00310923,\n",
       "       0.00380315, 0.00035662, 0.01387806, 0.0041958 , 0.00611585,\n",
       "       0.0041452 , 0.00413217, 0.00046432, 0.00328947, 0.00355778,\n",
       "       0.00499647, 0.00281881, 0.00239807, 0.00229865, 0.12998585,\n",
       "       0.12821327, 0.21150334, 0.08375047, 0.10573228, 0.13334499,\n",
       "       0.13306823])"
      ]
     },
     "execution_count": 32,
     "metadata": {},
     "output_type": "execute_result"
    }
   ],
   "source": [
    "model_rfc.feature_importances_"
   ]
  },
  {
   "cell_type": "code",
   "execution_count": null,
   "metadata": {},
   "outputs": [],
   "source": []
  },
  {
   "cell_type": "code",
   "execution_count": 33,
   "metadata": {},
   "outputs": [
    {
     "name": "stdout",
     "output_type": "stream",
     "text": [
      "Accuracy: 0.71819\n"
     ]
    }
   ],
   "source": [
    "rfc2 = RandomForestClassifier(n_estimators=500,max_features=0.25, n_jobs=7,\n",
    "                              criterion='entropy', class_weight={0:0.1, 1:0.9})\n",
    "model_rfc2 = rfc2.fit(X_train, y_train)\n",
    "y_pred = model_rfc2.predict(X_test)\n",
    "        \n",
    "print(\"Accuracy:\", metrics.accuracy_score(y_test, y_pred))"
   ]
  },
  {
   "cell_type": "code",
   "execution_count": 34,
   "metadata": {},
   "outputs": [
    {
     "data": {
      "text/plain": [
       "array([[69764, 30583],\n",
       "       [25779, 73874]], dtype=int64)"
      ]
     },
     "execution_count": 34,
     "metadata": {},
     "output_type": "execute_result"
    }
   ],
   "source": [
    "metrics.confusion_matrix(y_test, y_pred)"
   ]
  },
  {
   "cell_type": "code",
   "execution_count": 155,
   "metadata": {},
   "outputs": [
    {
     "data": {
      "text/plain": [
       "<matplotlib.axes._subplots.AxesSubplot at 0x21f1d0baf28>"
      ]
     },
     "execution_count": 155,
     "metadata": {},
     "output_type": "execute_result"
    },
    {
     "data": {
      "image/png": "[encoded data removed]",
      "text/plain": [
       "<Figure size 432x288 with 2 Axes>"
      ]
     },
     "metadata": {
      "needs_background": "light"
     },
     "output_type": "display_data"
    }
   ],
   "source": [
    "sns.heatmap(metrics.confusion_matrix(y_test, y_pred), annot=True)"
   ]
  },
  {
   "cell_type": "code",
   "execution_count": 47,
   "metadata": {},
   "outputs": [
    {
     "data": {
      "text/plain": [
       "array([0.00670867, 0.00560977, 0.00491014, 0.00137961, 0.0026791 ,\n",
       "       0.00310775, 0.00024237, 0.0107644 , 0.00326387, 0.004708  ,\n",
       "       0.00435327, 0.00437131, 0.00035767, 0.00304016, 0.00424461,\n",
       "       0.00474847, 0.00373062, 0.00475839, 0.0026361 , 0.00080131,\n",
       "       0.00092245, 0.00228131, 0.00253162, 0.00071351, 0.00313436,\n",
       "       0.00212993, 0.00080287, 0.00906609, 0.00888658, 0.00194704,\n",
       "       0.00087898, 0.00927379, 0.00314838, 0.11394992, 0.11258087,\n",
       "       0.18704397, 0.07829692, 0.07278866, 0.0951159 , 0.10910935,\n",
       "       0.1089819 ])"
      ]
     },
     "execution_count": 47,
     "metadata": {},
     "output_type": "execute_result"
    }
   ],
   "source": [
    "model_rfc2.feature_importances_"
   ]
  },
  {
   "cell_type": "markdown",
   "metadata": {},
   "source": [
    "The clasifier below has so far provided the highest accuracy after the submission - 0.7173. The actual accuracy on the train data is 0.7235, therefore there is some overfitting. The file is \"submission_v6.csv\" which contains the fitted information"
   ]
  },
  {
   "cell_type": "code",
   "execution_count": 52,
   "metadata": {},
   "outputs": [
    {
     "name": "stdout",
     "output_type": "stream",
     "text": [
      "Accuracy: 0.6583333333333333\n"
     ]
    }
   ],
   "source": [
    "rfc_large = RandomForestClassifier(n_estimators=400, max_features=0.25, n_jobs=7,\n",
    "                                criterion=\"entropy\", class_weight=\"balanced\")\n",
    "model_rfc_large = rfc_large.fit(X_train, y_train)\n",
    "y_pred = model_rfc_large.predict(X_test)\n",
    "        \n",
    "print(\"Accuracy:\", metrics.accuracy_score(y_test, y_pred))"
   ]
  },
  {
   "cell_type": "code",
   "execution_count": null,
   "metadata": {},
   "outputs": [],
   "source": [
    "model_rfc_large.feature_importances_"
   ]
  },
  {
   "cell_type": "code",
   "execution_count": 50,
   "metadata": {},
   "outputs": [
    {
     "name": "stderr",
     "output_type": "stream",
     "text": [
      "C:\\Users\\Tomas\\Anaconda3\\lib\\site-packages\\sklearn\\linear_model\\logistic.py:1300: UserWarning: 'n_jobs' > 1 does not have any effect when 'solver' is set to 'liblinear'. Got 'n_jobs' = 7.\n",
      "  \" = {}.\".format(effective_n_jobs(self.n_jobs)))\n"
     ]
    },
    {
     "name": "stdout",
     "output_type": "stream",
     "text": [
      "Accuracy: 0.69826\n"
     ]
    }
   ],
   "source": [
    "lr = linear_model.LogisticRegression(penalty='l1', C=1000, solver='liblinear', class_weight={0:0.55, 1:0.45}, n_jobs=7) \n",
    "model_rl = lr.fit(X_train, y_train)\n",
    "\n",
    "y_pred = model_rl.predict(X_test)\n",
    "\n",
    "print(\"Accuracy:\", metrics.accuracy_score(y_test, y_pred))"
   ]
  },
  {
   "cell_type": "code",
   "execution_count": null,
   "metadata": {},
   "outputs": [],
   "source": [
    "etc = ensemble.BaggingClassifier()\n",
    "model_etc = etc.fit(X_train, y_train)\n",
    "\n",
    "y_pred = model_etc.predict(X_test)\n",
    "\n",
    "print(\"Accuracy:\", metrics.accuracy_score(y_test, y_pred))"
   ]
  },
  {
   "cell_type": "code",
   "execution_count": 152,
   "metadata": {},
   "outputs": [
    {
     "name": "stdout",
     "output_type": "stream",
     "text": [
      "Accuracy: 0.49866666666666665\n"
     ]
    }
   ],
   "source": [
    "mlp = MLPClassifier(hidden_layer_sizes=(20,100,90,70,10,5), activation='logistic', alpha=0.01, max_iter=600)\n",
    "model_mlp = mlp.fit(X_train, y_train)\n",
    "\n",
    "y_pred = model_mlp.predict(X_test)\n",
    "\n",
    "print(\"Accuracy:\", metrics.accuracy_score(y_test, y_pred))"
   ]
  },
  {
   "cell_type": "markdown",
   "metadata": {},
   "source": [
    "### Hyperparameter optimization"
   ]
  },
  {
   "cell_type": "code",
   "execution_count": null,
   "metadata": {},
   "outputs": [],
   "source": [
    "np.random.seed(23423)\n",
    "inside = ms.KFold(n_splits=10, shuffle=True)\n",
    "np.random.seed(73743)\n",
    "outside = ms.KFold(n_splits=10, shuffle=True)"
   ]
  },
  {
   "cell_type": "code",
   "execution_count": null,
   "metadata": {},
   "outputs": [],
   "source": [
    "np.random.seed(34543)\n",
    "# Hyperparameters for AdaBoostClassifier\n",
    "parameter_grid = {'n_estimators': [200, 250, 400, 500, 700],\n",
    "                  'max_features': [0.1, 0.25, 0.5, 1]}\n",
    "rfc_mdl = RandomForestClassifier(criterion=\"entropy\", class_weight=\"balanced\")\n",
    "\n",
    "clf = ms.GridSearchCV(estimator=rfc_mdl, \n",
    "                      param_grid = parameter_grid, \n",
    "                      cv=inside, \n",
    "                      scoring = 'accuracy',\n",
    "                      return_train_score = True\n",
    "                     )"
   ]
  },
  {
   "cell_type": "code",
   "execution_count": null,
   "metadata": {},
   "outputs": [],
   "source": [
    "data_samples = data.sample(50000)\n",
    "sample_features = PrepareFeatures(data_samples, cols_categorical)\n",
    "\n",
    "sample_features = np.concatenate([sample_features, np.array(data_samples[features_to_add])], axis = 1)\n",
    "\n",
    "clf.fit(sample_features, data_samples['accepted'])"
   ]
  },
  {
   "cell_type": "code",
   "execution_count": null,
   "metadata": {},
   "outputs": [],
   "source": [
    "keys = list(clf.cv_results_.keys())\n",
    "for key in keys[6:16]:\n",
    "    print(clf.cv_results_[key])\n",
    "## And print the best parameter value\n",
    "print('n_estimators', clf.best_estimator_.n_estimators)\n",
    "print('max_features', clf.best_estimator_.max_features)\n"
   ]
  },
  {
   "cell_type": "markdown",
   "metadata": {},
   "source": [
    "[{'max_features': 0.1, 'n_estimators': 200}, {'max_features': 0.1, 'n_estimators': 250}, {'max_features': 0.1, 'n_estimators': 400}, {'max_features': 0.1, 'n_estimators': 500}, {'max_features': 0.1, 'n_estimators': 700}, {'max_features': 0.25, 'n_estimators': 200}, {'max_features': 0.25, 'n_estimators': 250}, {'max_features': 0.25, 'n_estimators': 400}, {'max_features': 0.25, 'n_estimators': 500}, {'max_features': 0.25, 'n_estimators': 700}, {'max_features': 0.5, 'n_estimators': 200}, {'max_features': 0.5, 'n_estimators': 250}, {'max_features': 0.5, 'n_estimators': 400}, {'max_features': 0.5, 'n_estimators': 500}, {'max_features': 0.5, 'n_estimators': 700}, {'max_features': 1, 'n_estimators': 200}, {'max_features': 1, 'n_estimators': 250}, {'max_features': 1, 'n_estimators': 400}, {'max_features': 1, 'n_estimators': 500}, {'max_features': 1, 'n_estimators': 700}]\n",
    "[0.7022 0.704  0.703  0.704  0.7038 0.7052 0.7084 0.7078 0.711  0.71\n",
    " 0.7062 0.709  0.7076 0.7084 0.7062 0.6956 0.6928 0.6984 0.6994 0.6992]\n",
    "[0.7118 0.7112 0.7146 0.7148 0.7138 0.714  0.713  0.712  0.7152 0.7132\n",
    " 0.7114 0.7154 0.7118 0.7088 0.7138 0.7064 0.7098 0.7108 0.7132 0.7102]\n",
    "[0.7232 0.7276 0.727  0.7268 0.7264 0.7244 0.7258 0.7244 0.7294 0.7266\n",
    " 0.7256 0.7238 0.7252 0.726  0.7272 0.7116 0.7156 0.719  0.717  0.7154]\n",
    "[0.7062 0.71   0.706  0.7076 0.7092 0.7116 0.7126 0.7116 0.7118 0.7152\n",
    " 0.7082 0.71   0.7114 0.714  0.7148 0.7042 0.71   0.7064 0.7048 0.7058]\n",
    "[0.7246 0.7274 0.7246 0.725  0.7248 0.7244 0.727  0.7274 0.7256 0.7248\n",
    " 0.722  0.7236 0.723  0.7214 0.723  0.7216 0.7164 0.7218 0.72   0.7186]\n",
    "[0.714  0.7102 0.7142 0.7148 0.7116 0.7164 0.7164 0.7166 0.7146 0.715\n",
    " 0.7154 0.7142 0.7156 0.713  0.71   0.7004 0.7006 0.7092 0.7076 0.7042]\n",
    "[0.7152 0.7162 0.7154 0.7178 0.7166 0.72   0.7194 0.7178 0.718  0.7176\n",
    " 0.7102 0.71   0.7108 0.7114 0.712  0.7122 0.7128 0.7094 0.7156 0.7126]\n",
    "[0.7156 0.7176 0.7178 0.7146 0.7184 0.7148 0.7164 0.7174 0.7172 0.7198\n",
    " 0.713  0.7138 0.7162 0.7162 0.7178 0.7096 0.711  0.7106 0.7112 0.7132]\n",
    "[0.7148 0.713  0.715  0.7146 0.7142 0.7162 0.7214 0.7222 0.7194 0.7214\n",
    " 0.7186 0.721  0.7198 0.721  0.7216 0.7044 0.7054 0.7026 0.7016 0.704 ]\n",
    "n_estimators 700\n",
    "max_features 0.25"
   ]
  },
  {
   "cell_type": "markdown",
   "metadata": {},
   "source": [
    "# Fitting the test data"
   ]
  },
  {
   "cell_type": "code",
   "execution_count": 21,
   "metadata": {},
   "outputs": [
    {
     "name": "stdout",
     "output_type": "stream",
     "text": [
      "(500000, 21)\n",
      "<class 'pandas.core.frame.DataFrame'>\n",
      "Int64Index: 500000 entries, 0 to 499999\n",
      "Data columns (total 25 columns):\n",
      "loan_type                         500000 non-null int64\n",
      "property_type                     500000 non-null int64\n",
      "loan_purpose                      500000 non-null int64\n",
      "occupancy                         500000 non-null int64\n",
      "loan_amount                       500000 non-null float64\n",
      "preapproval                       500000 non-null int64\n",
      "msa_md                            500000 non-null int64\n",
      "state_code                        500000 non-null int64\n",
      "county_code                       500000 non-null int64\n",
      "applicant_ethnicity               500000 non-null int64\n",
      "applicant_race                    500000 non-null int64\n",
      "applicant_sex                     500000 non-null int64\n",
      "applicant_income                  500000 non-null float64\n",
      "population                        500000 non-null float64\n",
      "minority_population_pct           500000 non-null float64\n",
      "ffiecmedian_family_income         500000 non-null float64\n",
      "tract_to_msa_md_income_pct        500000 non-null float64\n",
      "number_of_owner-occupied_units    500000 non-null float64\n",
      "number_of_1_to_4_family_units     500000 non-null float64\n",
      "lender                            500000 non-null int64\n",
      "co_applicant                      500000 non-null bool\n",
      "lender_classification             500000 non-null float64\n",
      "income_approximated               500000 non-null float64\n",
      "state_rate                        500000 non-null float64\n",
      "msa_rate                          500000 non-null float64\n",
      "dtypes: bool(1), float64(12), int64(12)\n",
      "memory usage: 95.8 MB\n"
     ]
    }
   ],
   "source": [
    "test_data = pd.read_csv('test_values.csv', index_col=0)\n",
    "print(test_data.shape)\n",
    "lender_classification = pd.read_csv('lender_classification.csv', index_col='lender')\n",
    "test_data['lender_classification'] = test_data['lender'].apply(lambda x: lender_classification.loc[x, 'accept_rate']\n",
    "                                                              if x in lender_classification.index else 0.5)\n",
    "\n",
    "#test_data['lender_size'] = test_data['lender'].apply(ClassifyLender, args=[test_data['lender'].value_counts()])\n",
    "#test_data['is_minority'] = test_data['applicant_race'].apply(lambda x: 0 if x==5 else 1)\n",
    "\n",
    "#ReplaceNaN(test_data, 'msa_md', 'applicant_income', how='mean')\n",
    "test_data['income_approximated'] = test_data[['loan_amount','applicant_income']].apply(lambda x: 30.29 + 0.3458 * x[0] if (np.all(pd.isnull(x[1]))) else x[1], axis = 1)\n",
    "test_data.fillna(value=-1, inplace=True)\n",
    "#test_data['number_of_1_to_4_family_units'].fillna(method='ffill', inplace=True)\n",
    "#test_data['number_of_owner-occupied_units'].fillna(method='ffill', inplace=True)\n",
    "\n",
    "test_data['state_rate'] = test_data['state_code'].apply(lambda x: data_state.loc[x]['accepted'])\n",
    "test_data['msa_rate'] = test_data['msa_md'].apply(lambda x: data_msa.loc[x]['accepted'])\n",
    "\n",
    "test_data.info()\n"
   ]
  },
  {
   "cell_type": "code",
   "execution_count": 32,
   "metadata": {},
   "outputs": [
    {
     "name": "stdout",
     "output_type": "stream",
     "text": [
      "(500000, 26)\n",
      "(500000, 36)\n"
     ]
    }
   ],
   "source": [
    "#cat_features_to_add\n",
    "\n",
    "#num_features_to_add\n",
    "\n",
    "test_features = PrepareFeatures(test_data, cat_features_to_add)\n",
    "print(test_features.shape)\n",
    "\n",
    "test_features = np.concatenate([test_features, np.array(test_data[num_features_to_add])], axis = 1)\n",
    "\n",
    "scaler = preprocessing.RobustScaler().fit(test_features)\n",
    "test_features = scaler.transform(test_features)\n",
    "\n",
    "print(test_features.shape)"
   ]
  },
  {
   "cell_type": "code",
   "execution_count": 33,
   "metadata": {},
   "outputs": [],
   "source": [
    "y_test_pred = model_rfc.predict(test_features)"
   ]
  },
  {
   "cell_type": "code",
   "execution_count": 34,
   "metadata": {},
   "outputs": [],
   "source": [
    "series = pd.Series(y_test_pred)"
   ]
  },
  {
   "cell_type": "code",
   "execution_count": 35,
   "metadata": {},
   "outputs": [
    {
     "data": {
      "text/plain": [
       "1    273106\n",
       "0    226894\n",
       "dtype: int64"
      ]
     },
     "execution_count": 35,
     "metadata": {},
     "output_type": "execute_result"
    }
   ],
   "source": [
    "series.value_counts()"
   ]
  },
  {
   "cell_type": "code",
   "execution_count": 36,
   "metadata": {},
   "outputs": [
    {
     "data": {
      "text/html": [
       "<div>\n",
       "<style scoped>\n",
       "    .dataframe tbody tr th:only-of-type {\n",
       "        vertical-align: middle;\n",
       "    }\n",
       "\n",
       "    .dataframe tbody tr th {\n",
       "        vertical-align: top;\n",
       "    }\n",
       "\n",
       "    .dataframe thead th {\n",
       "        text-align: right;\n",
       "    }\n",
       "</style>\n",
       "<table border=\"1\" class=\"dataframe\">\n",
       "  <thead>\n",
       "    <tr style=\"text-align: right;\">\n",
       "      <th></th>\n",
       "      <th>accepted</th>\n",
       "    </tr>\n",
       "    <tr>\n",
       "      <th>row_id</th>\n",
       "      <th></th>\n",
       "    </tr>\n",
       "  </thead>\n",
       "  <tbody>\n",
       "    <tr>\n",
       "      <th>0</th>\n",
       "      <td>1</td>\n",
       "    </tr>\n",
       "    <tr>\n",
       "      <th>1</th>\n",
       "      <td>1</td>\n",
       "    </tr>\n",
       "    <tr>\n",
       "      <th>2</th>\n",
       "      <td>0</td>\n",
       "    </tr>\n",
       "    <tr>\n",
       "      <th>3</th>\n",
       "      <td>1</td>\n",
       "    </tr>\n",
       "    <tr>\n",
       "      <th>4</th>\n",
       "      <td>0</td>\n",
       "    </tr>\n",
       "  </tbody>\n",
       "</table>\n",
       "</div>"
      ],
      "text/plain": [
       "        accepted\n",
       "row_id          \n",
       "0              1\n",
       "1              1\n",
       "2              0\n",
       "3              1\n",
       "4              0"
      ]
     },
     "execution_count": 36,
     "metadata": {},
     "output_type": "execute_result"
    }
   ],
   "source": [
    "test_output = pd.DataFrame(columns=['row_id', 'accepted'])\n",
    "test_output['accepted'] = series\n",
    "test_output['row_id'] = test_output.index\n",
    "test_output= test_output.set_index('row_id')\n",
    "test_output.head()"
   ]
  },
  {
   "cell_type": "code",
   "execution_count": 37,
   "metadata": {},
   "outputs": [],
   "source": [
    "test_output.to_csv('submission-v16.csv')"
   ]
  },
  {
   "cell_type": "code",
   "execution_count": null,
   "metadata": {},
   "outputs": [],
   "source": []
  }
 ],
 "metadata": {
  "kernelspec": {
   "display_name": "Python 3",
   "language": "python",
   "name": "python3"
  },
  "language_info": {
   "codemirror_mode": {
    "name": "ipython",
    "version": 3
   },
   "file_extension": ".py",
   "mimetype": "text/x-python",
   "name": "python",
   "nbconvert_exporter": "python",
   "pygments_lexer": "ipython3",
   "version": "3.7.3"
  }
 },
 "nbformat": 4,
 "nbformat_minor": 2
}
