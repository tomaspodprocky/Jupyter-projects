{
 "cells": [
  {
   "cell_type": "code",
   "execution_count": 1,
   "metadata": {},
   "outputs": [],
   "source": [
    "import pandas as pd\n",
    "import numpy as np\n",
    "import seaborn as sns\n",
    "import matplotlib.pyplot as plt\n",
    "import math\n",
    "\n",
    "%matplotlib inline"
   ]
  },
  {
   "cell_type": "code",
   "execution_count": 2,
   "metadata": {},
   "outputs": [],
   "source": [
    "def CategoricalPlots(data, cols, ref='accepted'):\n",
    "    '''\n",
    "    Plot categorical data from the DataFrame 'data' using the columns in cols.\n",
    "    Split the categorical data in line with a label reference\n",
    "    '''\n",
    "    if not('dummy' in data.columns):\n",
    "        data['dummy'] = np.ones(shape = data.shape[0])\n",
    "    for col in cols:\n",
    "        print(col)\n",
    "        counts = data[['dummy', ref, col]].groupby([ref, col], as_index = False).count()\n",
    "        _ = plt.figure(figsize = (13,4))\n",
    "        plt.subplot(1, 2, 1)\n",
    "        temp = counts[counts[ref] == 0][[col, 'dummy']]\n",
    "        plt.bar(temp[col], temp.dummy)\n",
    "        plt.xticks(rotation=90)\n",
    "        plt.title('Counts for ' + col + '\\n not accepted')\n",
    "        plt.ylabel('count')\n",
    "        plt.subplot(1, 2, 2)\n",
    "        temp = counts[counts[ref] == 1][[col, 'dummy']]\n",
    "        plt.bar(temp[col], temp.dummy)\n",
    "        plt.xticks(rotation=90)\n",
    "        plt.title('Counts for ' + col + '\\n accepted')\n",
    "        plt.ylabel('count')\n",
    "        plt.show()\n",
    "\n",
    "def BoxPlots(data, columns, ref = ['accepted'], hue='accepted'):\n",
    "    for column in columns:\n",
    "        for r in ref:\n",
    "            sns.boxplot(x=r, y=column, data=data, hue=hue)\n",
    "            plt.xlabel(r)\n",
    "            plt.ylabel(column)\n",
    "            plt.show()\n",
    "        \n",
    "def DistPlots(data, columns):\n",
    "    for column in columns:\n",
    "        ax = sns.distplot(data[column])\n",
    "        plt.xlabel('value')\n",
    "        plt.ylabel('density')\n",
    "        plt.title('Histogram of ' + column)\n",
    "        plt.show()\n",
    "        \n",
    "def DistPlotsSplit(data, columns, ref=''):\n",
    "    '''\n",
    "    Plot several distributions with a reference column\n",
    "    '''\n",
    "    if ref != '':\n",
    "        unique = data[ref].unique()\n",
    "    for column in columns:\n",
    "        if ref != '':\n",
    "            ax = sns.distplot(data.loc[data[ref]==unique[0], column])\n",
    "            ax = sns.distplot(data.loc[data[ref]==unique[1], column], ax=ax)\n",
    "        else:\n",
    "            ax = sns.distplot(data[column])\n",
    "        plt.xlabel('value')\n",
    "        plt.ylabel('density')\n",
    "        plt.title('Histogram of ' + column)\n",
    "        plt.show()\n",
    "    "
   ]
  },
  {
   "cell_type": "code",
   "execution_count": 36,
   "metadata": {},
   "outputs": [],
   "source": [
    "def ReplaceNaN(data, ref, col):\n",
    "    '''\n",
    "    Replacing a NaN value with a random number from a normal distribution.\n",
    "    The parameters of the distribution (mean and stdev) are calculated from the reference column in the dataset\n",
    "    '''\n",
    "    for value in data[ref].unique():\n",
    "        replace_mean = data[data[ref]==value][col].mean()\n",
    "        replace_std = data[data[ref]==value][col].std()\n",
    "        data.loc[(data[ref]==value) & (data[col].isnull()), col] = np.random.normal(loc=replace_mean, scale=replace_std)\n",
    "        \n",
    "        \n",
    "def PrepareFeatures(data, cols_categorical):\n",
    "    '''\n",
    "    Use one-hot-encoder to encode the categorical features.\n",
    "    The columns to encode in the dataset are defined by the cols_categorical list\n",
    "    '''\n",
    "    features = np.array([])\n",
    "    for col in cols_categorical:\n",
    "        temp = encode_category(data[col])\n",
    "        if features.shape[0] == 0:\n",
    "            eatures = temp\n",
    "        else:\n",
    "            features = np.concatenate([features, temp], axis = 1)\n",
    "    return features"
   ]
  },
  {
   "cell_type": "code",
   "execution_count": 3,
   "metadata": {},
   "outputs": [
    {
     "name": "stdout",
     "output_type": "stream",
     "text": [
      "(500000, 21)\n"
     ]
    }
   ],
   "source": [
    "train_data = pd.read_csv('train_values.csv', index_col=0)\n",
    "print(train_data.shape)"
   ]
  },
  {
   "cell_type": "code",
   "execution_count": 4,
   "metadata": {},
   "outputs": [],
   "source": [
    "cols_numerical = ['loan_amount', 'applicant_income', 'number_of_owner-occupied_units', 'number_of_1_to_4_family_units',\n",
    "                  'ffiecmedian_family_income', 'minority_population_pct', 'tract_to_msa_md_income_pct','population']\n",
    "cols_categorical = ['loan_type', 'property_type', 'loan_purpose', 'occupancy', 'preapproval', \n",
    "                    'applicant_ethnicity', 'applicant_race', 'applicant_sex','co_applicant']\n",
    "\n",
    "cols_property_location = ['msa_md', 'state_code', 'county_code']\n",
    "\n",
    "cols_lender = ['lender']"
   ]
  },
  {
   "cell_type": "code",
   "execution_count": 6,
   "metadata": {},
   "outputs": [
    {
     "data": {
      "text/plain": [
       "medium    220686\n",
       "large     106530\n",
       "huge       89541\n",
       "small      83243\n",
       "Name: lender_size, dtype: int64"
      ]
     },
     "execution_count": 6,
     "metadata": {},
     "output_type": "execute_result"
    }
   ],
   "source": [
    "counts = train_data['lender'].value_counts()\n",
    "\n",
    "def ClassifyLender(lender, s=counts):\n",
    "    if s[lender] < 100:\n",
    "        return 'small'\n",
    "    elif s[lender]>=100 and s[lender]<3000:\n",
    "        return 'medium'\n",
    "    elif s[lender]>=3000 and s[lender]<12000:\n",
    "        return 'large'\n",
    "    else:\n",
    "        return 'huge'\n",
    "\n",
    "train_data['lender_size'] = train_data['lender'].apply(ClassifyLender)\n",
    "train_data['lender_size'].value_counts()"
   ]
  },
  {
   "cell_type": "code",
   "execution_count": 10,
   "metadata": {},
   "outputs": [],
   "source": [
    "ReplaceNaN(train_data, 'msa_md', 'applicant_income')"
   ]
  },
  {
   "cell_type": "code",
   "execution_count": 11,
   "metadata": {},
   "outputs": [],
   "source": [
    "# probably do not need to drop anything here. Simply ignore these columns when creating features.\n",
    "\n",
    "train_data.drop(cols_property_location, axis = 1, inplace=True)\n",
    "train_data.drop(['number_of_owner-occupied_units', 'number_of_1_to_4_family_units',\n",
    "                  'ffiecmedian_family_income', 'minority_population_pct', 'tract_to_msa_md_income_pct','population'], \n",
    "                axis=1, inplace=True)"
   ]
  },
  {
   "cell_type": "code",
   "execution_count": 12,
   "metadata": {},
   "outputs": [
    {
     "name": "stdout",
     "output_type": "stream",
     "text": [
      "<class 'pandas.core.frame.DataFrame'>\n",
      "Int64Index: 500000 entries, 0 to 499999\n",
      "Data columns (total 13 columns):\n",
      "loan_type              500000 non-null int64\n",
      "property_type          500000 non-null int64\n",
      "loan_purpose           500000 non-null int64\n",
      "occupancy              500000 non-null int64\n",
      "loan_amount            500000 non-null float64\n",
      "preapproval            500000 non-null int64\n",
      "applicant_ethnicity    500000 non-null int64\n",
      "applicant_race         500000 non-null int64\n",
      "applicant_sex          500000 non-null int64\n",
      "applicant_income       500000 non-null float64\n",
      "lender                 500000 non-null int64\n",
      "co_applicant           500000 non-null bool\n",
      "lender_size            500000 non-null object\n",
      "dtypes: bool(1), float64(2), int64(9), object(1)\n",
      "memory usage: 50.1+ MB\n"
     ]
    }
   ],
   "source": [
    "train_data.info()"
   ]
  },
  {
   "cell_type": "code",
   "execution_count": 13,
   "metadata": {},
   "outputs": [],
   "source": [
    "train_labels = pd.read_csv('train_labels.csv', index_col=0)\n",
    "data = train_data.merge(train_labels, on='row_id')"
   ]
  },
  {
   "cell_type": "code",
   "execution_count": 14,
   "metadata": {},
   "outputs": [
    {
     "name": "stdout",
     "output_type": "stream",
     "text": [
      "<class 'pandas.core.frame.DataFrame'>\n",
      "Int64Index: 500000 entries, 0 to 499999\n",
      "Data columns (total 14 columns):\n",
      "loan_type              500000 non-null int64\n",
      "property_type          500000 non-null int64\n",
      "loan_purpose           500000 non-null int64\n",
      "occupancy              500000 non-null int64\n",
      "loan_amount            500000 non-null float64\n",
      "preapproval            500000 non-null int64\n",
      "applicant_ethnicity    500000 non-null int64\n",
      "applicant_race         500000 non-null int64\n",
      "applicant_sex          500000 non-null int64\n",
      "applicant_income       500000 non-null float64\n",
      "lender                 500000 non-null int64\n",
      "co_applicant           500000 non-null bool\n",
      "lender_size            500000 non-null object\n",
      "accepted               500000 non-null int64\n",
      "dtypes: bool(1), float64(2), int64(10), object(1)\n",
      "memory usage: 53.9+ MB\n"
     ]
    }
   ],
   "source": [
    "data.info()"
   ]
  },
  {
   "cell_type": "code",
   "execution_count": 15,
   "metadata": {
    "scrolled": false
   },
   "outputs": [],
   "source": [
    "# lest just drop all the columns with missing data and see where we get\n",
    "#data.drop(data[data[['applicant_income']].isna().all(axis=1)].index, inplace=True)\n",
    "#data.info()"
   ]
  },
  {
   "cell_type": "code",
   "execution_count": 16,
   "metadata": {
    "scrolled": false
   },
   "outputs": [
    {
     "data": {
      "image/png": "[encoded data removed]",
      "text/plain": [
       "<Figure size 432x288 with 1 Axes>"
      ]
     },
     "metadata": {
      "needs_background": "light"
     },
     "output_type": "display_data"
    },
    {
     "data": {
      "image/png": "[encoded data removed]",
      "text/plain": [
       "<Figure size 432x288 with 1 Axes>"
      ]
     },
     "metadata": {
      "needs_background": "light"
     },
     "output_type": "display_data"
    }
   ],
   "source": [
    "BoxPlots(data, ['loan_amount', 'applicant_income'], hue='lender_size')"
   ]
  },
  {
   "cell_type": "code",
   "execution_count": 17,
   "metadata": {},
   "outputs": [],
   "source": [
    "#log_cols_numerical = ['log_' + x for x in cols_numerical]\n",
    "cols_to_log =  ['loan_amount']\n",
    "log_cols_numerical = ['log_' + x for x in cols_to_log]\n",
    "\n",
    "data[log_cols_numerical] = data[cols_to_log].applymap(math.log)"
   ]
  },
  {
   "cell_type": "code",
   "execution_count": 18,
   "metadata": {},
   "outputs": [
    {
     "data": {
      "image/png": "[encoded data removed]",
      "text/plain": [
       "<Figure size 432x288 with 1 Axes>"
      ]
     },
     "metadata": {
      "needs_background": "light"
     },
     "output_type": "display_data"
    },
    {
     "data": {
      "image/png": "[encoded data removed]",
      "text/plain": [
       "<Figure size 432x288 with 1 Axes>"
      ]
     },
     "metadata": {
      "needs_background": "light"
     },
     "output_type": "display_data"
    }
   ],
   "source": [
    "BoxPlots(data, ['log_loan_amount', 'applicant_income'], hue='lender_size')"
   ]
  },
  {
   "cell_type": "code",
   "execution_count": null,
   "metadata": {},
   "outputs": [],
   "source": []
  },
  {
   "cell_type": "markdown",
   "metadata": {},
   "source": [
    "Modeling"
   ]
  },
  {
   "cell_type": "code",
   "execution_count": 19,
   "metadata": {},
   "outputs": [],
   "source": [
    "from sklearn import preprocessing\n",
    "import sklearn.model_selection as ms\n",
    "from sklearn import linear_model\n",
    "import sklearn.metrics as sklm\n",
    "from sklearn.ensemble import AdaBoostClassifier\n",
    "from sklearn.ensemble import RandomForestClassifier\n",
    "from sklearn.naive_bayes import GaussianNB, BernoulliNB\n",
    "from sklearn.neural_network import MLPClassifier\n",
    "from sklearn.model_selection import train_test_split\n",
    "from sklearn import metrics\n",
    "from sklearn import feature_selection as fs"
   ]
  },
  {
   "cell_type": "code",
   "execution_count": 20,
   "metadata": {},
   "outputs": [],
   "source": [
    "def encode_category(numeric_category):\n",
    "    ## First encode the strings to numeric categories\n",
    "    #enc = preprocessing.LabelEncoder()\n",
    "    #enc.fit(cat_features)\n",
    "    #enc_cat_features = enc.transform(cat_features)\n",
    "    ## Now, apply one hot encoding\n",
    "    ohe = preprocessing.OneHotEncoder(categories='auto')\n",
    "    encoded = ohe.fit(numeric_category.values.reshape(-1,1))\n",
    "    return encoded.transform(numeric_category.values.reshape(-1,1)).toarray()\n",
    "\n",
    "features = PrepareFeatures(data, cols_categorical)"
   ]
  },
  {
   "cell_type": "code",
   "execution_count": 21,
   "metadata": {},
   "outputs": [
    {
     "data": {
      "text/plain": [
       "(500000, 33)"
      ]
     },
     "execution_count": 21,
     "metadata": {},
     "output_type": "execute_result"
    }
   ],
   "source": [
    "features.shape"
   ]
  },
  {
   "cell_type": "code",
   "execution_count": 22,
   "metadata": {},
   "outputs": [],
   "source": [
    "features = np.concatenate([features, np.array(data[['loan_amount', 'applicant_income']])], axis = 1)"
   ]
  },
  {
   "cell_type": "code",
   "execution_count": 23,
   "metadata": {},
   "outputs": [],
   "source": [
    "X_train, X_test, y_train, y_test = train_test_split(features, data['accepted'], test_size=0.3) # 70% training and 30% test"
   ]
  },
  {
   "cell_type": "code",
   "execution_count": 24,
   "metadata": {},
   "outputs": [
    {
     "name": "stdout",
     "output_type": "stream",
     "text": [
      "Accuracy: 0.6442066666666667\n"
     ]
    }
   ],
   "source": [
    "abc = AdaBoostClassifier(n_estimators=250, learning_rate=0.1)\n",
    "model_abc = abc.fit(X_train, y_train)\n",
    "y_pred = model_abc.predict(X_test)\n",
    "        \n",
    "print(\"Accuracy:\", metrics.accuracy_score(y_test, y_pred))"
   ]
  },
  {
   "cell_type": "code",
   "execution_count": 25,
   "metadata": {},
   "outputs": [
    {
     "name": "stdout",
     "output_type": "stream",
     "text": [
      "Accuracy: 0.6060266666666667\n"
     ]
    }
   ],
   "source": [
    "rfc = RandomForestClassifier(n_estimators=60)\n",
    "model_rfc = rfc.fit(X_train, y_train)\n",
    "y_pred = model_rfc.predict(X_test)\n",
    "        \n",
    "print(\"Accuracy:\", metrics.accuracy_score(y_test, y_pred))"
   ]
  },
  {
   "cell_type": "code",
   "execution_count": 35,
   "metadata": {},
   "outputs": [
    {
     "name": "stdout",
     "output_type": "stream",
     "text": [
      "Accuracy: 0.6364533333333333\n"
     ]
    }
   ],
   "source": [
    "lr = linear_model.LogisticRegression(C=5, solver='liblinear') \n",
    "model_rl = lr.fit(X_train, y_train)\n",
    "\n",
    "y_pred = model_rl.predict(X_test)\n",
    "\n",
    "print(\"Accuracy:\", metrics.accuracy_score(y_test, y_pred))"
   ]
  },
  {
   "cell_type": "markdown",
   "metadata": {},
   "source": [
    "Test data starts here"
   ]
  },
  {
   "cell_type": "code",
   "execution_count": 27,
   "metadata": {},
   "outputs": [
    {
     "name": "stdout",
     "output_type": "stream",
     "text": [
      "(500000, 21)\n",
      "[101  87  -1 376 254   8 275 350 186 277 314 249   6 171 120 205  36 294\n",
      " 383  97  77  73 207 141 382  16  18 209  96 219 177 306 358 266  12 312\n",
      " 298  24 170 258 352 197 371 305  44 286  67  10 374 200 191 217 139 333\n",
      " 104  91 255 401 397 263 199 206 194 322 239 345 395  27 246  26  38 269\n",
      " 189  93 276 156 102  65 176 180 278 250 211 337 373 398  53 392 121 384\n",
      " 335  43 228 327 220  61 158 274 208 150 251 308 318 134 230  79  80  98\n",
      "  50  54 343  25 257 362 178  11  48 247 329 234 271 316 328 154 268 187\n",
      " 385 351 232 168 173 184 336 109 244 321 324 340  92 292 342 165 315 138\n",
      " 389 359 223  85 137 183 341 153 226 282 366 106 192 332 114 256 135  68\n",
      " 300 311 379 285 334 319 115   2 112 119 407 188 355  45 348  74  62 289\n",
      "  41 225  19  75 151 163 349  22 124 267 280 132 144 166 130 370 172 287\n",
      " 212 235 293 147 252 245 365  82  66  57 202  21   5 272  63 317 125 193\n",
      " 262  40 387 283 117  17 157 323 204  52 369  70 215  34 107 261 388 299\n",
      " 378 307 339 386 224  81  94  30  13 127 108 218 344 113  39  51 175 167\n",
      " 296 118  78 297 148  72 381 273  32 253 330  55 347 196 149 403  58   9\n",
      " 182   1 103 375 213 301  37 210 260  95 227 270 408 364 190 159 129 331\n",
      " 284 353  31 310 363  90 216 380 309 303 214 105 391 313 390 357 221 142\n",
      "  49 248 126  29  23 281 393 131 174  56   0  76 143  15 291 116 346 185\n",
      " 399  64 146 240 396 356 360  86 259 243 179  60 155 406   7  20  99 123\n",
      "  59  89  14 237  84   3  33 238  28 242 195 100 145 354  47 133 264 181\n",
      " 368 320  88 162 279  42 160 229 295 110 290  35 326 203 402 231 164 236\n",
      " 198 361  83 241 288 404 222 394 128  71 400 136  69 152 367 161 372 405\n",
      " 111 201  46 325   4 122 377 304 302 169 140 265 233]\n",
      "<class 'pandas.core.frame.DataFrame'>\n",
      "Int64Index: 500000 entries, 0 to 499999\n",
      "Data columns (total 12 columns):\n",
      "loan_type              500000 non-null int64\n",
      "property_type          500000 non-null int64\n",
      "loan_purpose           500000 non-null int64\n",
      "occupancy              500000 non-null int64\n",
      "loan_amount            500000 non-null float64\n",
      "preapproval            500000 non-null int64\n",
      "applicant_ethnicity    500000 non-null int64\n",
      "applicant_race         500000 non-null int64\n",
      "applicant_sex          500000 non-null int64\n",
      "applicant_income       500000 non-null float64\n",
      "lender                 500000 non-null int64\n",
      "co_applicant           500000 non-null bool\n",
      "dtypes: bool(1), float64(2), int64(9)\n",
      "memory usage: 46.3 MB\n",
      "(500000, 33)\n",
      "(500000, 35)\n"
     ]
    }
   ],
   "source": [
    "test_data = pd.read_csv('test_values.csv', index_col=0)\n",
    "print(test_data.shape)\n",
    "\n",
    "ReplaceNaN(test_data, 'msa_md', 'applicant_income')\n",
    "\n",
    "# probably do not need to drop any data, simply don't pass this to Prepare features or do not append to features\n",
    "test_data.drop(cols_property_location, axis = 1, inplace=True)\n",
    "test_data.drop(['number_of_owner-occupied_units', 'number_of_1_to_4_family_units',\n",
    "                  'ffiecmedian_family_income', 'minority_population_pct', 'tract_to_msa_md_income_pct','population'], \n",
    "                axis=1, inplace=True)\n",
    "#test_data.drop(data[data[['applicant_income']].isna().all(axis=1)].index, inplace=True)\n",
    "test_data.info()\n",
    "\n",
    "test_features = PrepareFeatures(test_data, cols_categorical)\n",
    "print(test_features.shape)\n",
    "\n",
    "test_features = np.concatenate([test_features, np.array(test_data[['loan_amount', 'applicant_income']])], axis = 1)\n",
    "\n",
    "print(test_features.shape)\n",
    "\n",
    "y_test_pred = model_abc.predict(test_features)"
   ]
  },
  {
   "cell_type": "code",
   "execution_count": 28,
   "metadata": {},
   "outputs": [],
   "source": [
    "series = pd.Series(y_test_pred)"
   ]
  },
  {
   "cell_type": "code",
   "execution_count": 29,
   "metadata": {},
   "outputs": [
    {
     "data": {
      "text/plain": [
       "1    256764\n",
       "0    243236\n",
       "dtype: int64"
      ]
     },
     "execution_count": 29,
     "metadata": {},
     "output_type": "execute_result"
    }
   ],
   "source": [
    "series.value_counts()"
   ]
  },
  {
   "cell_type": "code",
   "execution_count": 30,
   "metadata": {},
   "outputs": [
    {
     "data": {
      "text/html": [
       "<div>\n",
       "<style scoped>\n",
       "    .dataframe tbody tr th:only-of-type {\n",
       "        vertical-align: middle;\n",
       "    }\n",
       "\n",
       "    .dataframe tbody tr th {\n",
       "        vertical-align: top;\n",
       "    }\n",
       "\n",
       "    .dataframe thead th {\n",
       "        text-align: right;\n",
       "    }\n",
       "</style>\n",
       "<table border=\"1\" class=\"dataframe\">\n",
       "  <thead>\n",
       "    <tr style=\"text-align: right;\">\n",
       "      <th></th>\n",
       "      <th>accepted</th>\n",
       "    </tr>\n",
       "    <tr>\n",
       "      <th>row_id</th>\n",
       "      <th></th>\n",
       "    </tr>\n",
       "  </thead>\n",
       "  <tbody>\n",
       "    <tr>\n",
       "      <th>0</th>\n",
       "      <td>0</td>\n",
       "    </tr>\n",
       "    <tr>\n",
       "      <th>1</th>\n",
       "      <td>1</td>\n",
       "    </tr>\n",
       "    <tr>\n",
       "      <th>2</th>\n",
       "      <td>0</td>\n",
       "    </tr>\n",
       "    <tr>\n",
       "      <th>3</th>\n",
       "      <td>1</td>\n",
       "    </tr>\n",
       "    <tr>\n",
       "      <th>4</th>\n",
       "      <td>0</td>\n",
       "    </tr>\n",
       "  </tbody>\n",
       "</table>\n",
       "</div>"
      ],
      "text/plain": [
       "        accepted\n",
       "row_id          \n",
       "0              0\n",
       "1              1\n",
       "2              0\n",
       "3              1\n",
       "4              0"
      ]
     },
     "execution_count": 30,
     "metadata": {},
     "output_type": "execute_result"
    }
   ],
   "source": [
    "test_output = pd.DataFrame(columns=['row_id', 'accepted'])\n",
    "test_output['accepted'] = series\n",
    "test_output['row_id'] = test_output.index\n",
    "test_output= test_output.set_index('row_id')\n",
    "test_output.head()"
   ]
  },
  {
   "cell_type": "code",
   "execution_count": 31,
   "metadata": {},
   "outputs": [],
   "source": [
    "test_output.to_csv('submission-v2.csv')"
   ]
  },
  {
   "cell_type": "code",
   "execution_count": null,
   "metadata": {},
   "outputs": [],
   "source": []
  }
 ],
 "metadata": {
  "kernelspec": {
   "display_name": "Python 3",
   "language": "python",
   "name": "python3"
  },
  "language_info": {
   "codemirror_mode": {
    "name": "ipython",
    "version": 3
   },
   "file_extension": ".py",
   "mimetype": "text/x-python",
   "name": "python",
   "nbconvert_exporter": "python",
   "pygments_lexer": "ipython3",
   "version": "3.7.3"
  }
 },
 "nbformat": 4,
 "nbformat_minor": 2
}
