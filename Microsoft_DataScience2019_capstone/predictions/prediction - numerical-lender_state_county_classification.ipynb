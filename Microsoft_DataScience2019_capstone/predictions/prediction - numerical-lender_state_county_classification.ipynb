{
 "cells": [
  {
   "cell_type": "code",
   "execution_count": 1,
   "metadata": {},
   "outputs": [],
   "source": [
    "import pandas as pd\n",
    "import numpy as np\n",
    "import seaborn as sns\n",
    "import matplotlib.pyplot as plt\n",
    "import math\n",
    "\n",
    "#sns.set(rc={'figure.figsize':(11.7,8.27)})\n",
    "\n",
    "%matplotlib inline"
   ]
  },
  {
   "cell_type": "code",
   "execution_count": 2,
   "metadata": {},
   "outputs": [],
   "source": [
    "def CategoricalPlots(data, cols, ref='accepted'):\n",
    "    '''\n",
    "    Plot categorical data from the DataFrame 'data' using the columns in cols.\n",
    "    Split the categorical data in line with a label reference\n",
    "    '''\n",
    "    if not('dummy' in data.columns):\n",
    "        data['dummy'] = np.ones(shape = data.shape[0])\n",
    "    for col in cols:\n",
    "        print(col)\n",
    "        counts = data[['dummy', ref, col]].groupby([ref, col], as_index = False).count()\n",
    "        _ = plt.figure(figsize = (13,4))\n",
    "        plt.subplot(1, 2, 1)\n",
    "        temp = counts[counts[ref] == 0][[col, 'dummy']]\n",
    "        plt.bar(temp[col], temp.dummy)\n",
    "        plt.xticks(rotation=90)\n",
    "        plt.title('Counts for ' + col + '\\n not accepted')\n",
    "        plt.ylabel('count')\n",
    "        plt.subplot(1, 2, 2)\n",
    "        temp = counts[counts[ref] == 1][[col, 'dummy']]\n",
    "        plt.bar(temp[col], temp.dummy)\n",
    "        plt.xticks(rotation=90)\n",
    "        plt.title('Counts for ' + col + '\\n accepted')\n",
    "        plt.ylabel('count')\n",
    "        plt.show()\n",
    "\n",
    "def BoxPlots(data, columns, ref = ['accepted'], hue='accepted'):\n",
    "    for column in columns:\n",
    "        for r in ref:\n",
    "            fig, ax = plt.subplots(figsize=(11.7,8.27))\n",
    "            sns.boxplot(x=r, ax=ax, y=column, data=data, hue=hue)\n",
    "            plt.xlabel(r)\n",
    "            plt.ylabel(column)\n",
    "            plt.show()\n",
    "        \n",
    "def DistPlots(data, columns):\n",
    "    for column in columns:\n",
    "        fig, ax = plt.subplots(figsize=(11.7,8.27))\n",
    "        ax = sns.distplot(data[column], ax=ax)\n",
    "        plt.xlabel('value')\n",
    "        plt.ylabel('density')\n",
    "        plt.title('Histogram of ' + column)\n",
    "        plt.show()\n",
    "        \n",
    "def DistPlotsSplit(data, columns, ref=''):\n",
    "    '''\n",
    "    Plot several distributions with a reference column\n",
    "    '''\n",
    "    if ref != '':\n",
    "        unique = data[ref].unique()\n",
    "    for column in columns:\n",
    "        if ref != '':\n",
    "            ax = sns.distplot(data.loc[data[ref]==unique[0], column])\n",
    "            ax = sns.distplot(data.loc[data[ref]==unique[1], column], ax=ax)\n",
    "        else:\n",
    "            ax = sns.distplot(data[column])\n",
    "        plt.xlabel('value')\n",
    "        plt.ylabel('density')\n",
    "        plt.title('Histogram of ' + column)\n",
    "        plt.show()\n",
    "    "
   ]
  },
  {
   "cell_type": "code",
   "execution_count": 3,
   "metadata": {},
   "outputs": [],
   "source": [
    "def ReplaceNaN(data, ref, col, how='mean'):\n",
    "    '''\n",
    "    Replacing a NaN value with a random number from a normal distribution.\n",
    "    Parameter how defines whether the value will be coming from a normal distribution \"mean\"\n",
    "    or a simple \"median\" value of the reference column.\n",
    "    '''\n",
    "    if ref == col:\n",
    "        replace_mean = data[col].mean()\n",
    "        replace_std = data[col].std()\n",
    "        replace_value = np.random.normal(loc=replace_mean, scale=replace_std)\n",
    "        data.loc[(data[col].isnull()), col] = replace_value\n",
    "    else:\n",
    "        unique_values = data[ref].unique()\n",
    "        if unique_values.shape[0] < 500:\n",
    "            for value in unique_values:\n",
    "                if how =='mean':\n",
    "                    replace_mean = data[data[ref]==value][col].mean()\n",
    "                    replace_std = data[data[ref]==value][col].std()\n",
    "                    replace_value = np.random.normal(loc=replace_mean, scale=replace_std)\n",
    "                elif how == 'median':\n",
    "                    replace_value = data[data[ref]==value][col].median()\n",
    "                data.loc[(data[ref]==value) & (data[col].isnull()), col] = replace_value               \n",
    "        else:\n",
    "            raise('ReplaceNaN: too many unique values to fill')    \n",
    "\n",
    "from sklearn import preprocessing\n",
    "            \n",
    "def encode_category(numeric_category):\n",
    "    ## First encode the strings to numeric categories\n",
    "    #enc = preprocessing.LabelEncoder()\n",
    "    #enc.fit(cat_features)\n",
    "    #enc_cat_features = enc.transform(cat_features)\n",
    "    ## Now, apply one hot encoding\n",
    "    ohe = preprocessing.OneHotEncoder(categories='auto')\n",
    "    encoded = ohe.fit(numeric_category.values.reshape(-1,1))\n",
    "    return encoded.transform(numeric_category.values.reshape(-1,1)).toarray()\n",
    "            \n",
    "def PrepareFeatures(data, cols):\n",
    "    '''\n",
    "    Use one-hot-encoder to encode the categorical features.\n",
    "    The columns to encode in the dataset are defined by the cols_categorical list\n",
    "    '''\n",
    "    features = np.array([])\n",
    "    for col in cols:\n",
    "        temp = encode_category(data[col])\n",
    "        if features.shape[0] == 0:\n",
    "            features = temp\n",
    "        else:\n",
    "            features = np.concatenate([features, temp], axis = 1)\n",
    "    return features"
   ]
  },
  {
   "cell_type": "code",
   "execution_count": 4,
   "metadata": {},
   "outputs": [
    {
     "name": "stdout",
     "output_type": "stream",
     "text": [
      "(500000, 24)\n"
     ]
    },
    {
     "data": {
      "text/html": [
       "<div>\n",
       "<style scoped>\n",
       "    .dataframe tbody tr th:only-of-type {\n",
       "        vertical-align: middle;\n",
       "    }\n",
       "\n",
       "    .dataframe tbody tr th {\n",
       "        vertical-align: top;\n",
       "    }\n",
       "\n",
       "    .dataframe thead th {\n",
       "        text-align: right;\n",
       "    }\n",
       "</style>\n",
       "<table border=\"1\" class=\"dataframe\">\n",
       "  <thead>\n",
       "    <tr style=\"text-align: right;\">\n",
       "      <th></th>\n",
       "      <th>loan_type</th>\n",
       "      <th>property_type</th>\n",
       "      <th>loan_purpose</th>\n",
       "      <th>occupancy</th>\n",
       "      <th>loan_amount</th>\n",
       "      <th>preapproval</th>\n",
       "      <th>msa_md</th>\n",
       "      <th>state_code</th>\n",
       "      <th>county_code</th>\n",
       "      <th>applicant_ethnicity</th>\n",
       "      <th>...</th>\n",
       "      <th>minority_population_pct</th>\n",
       "      <th>ffiecmedian_family_income</th>\n",
       "      <th>tract_to_msa_md_income_pct</th>\n",
       "      <th>number_of_owner-occupied_units</th>\n",
       "      <th>number_of_1_to_4_family_units</th>\n",
       "      <th>lender</th>\n",
       "      <th>co_applicant</th>\n",
       "      <th>lender_classification</th>\n",
       "      <th>state_county</th>\n",
       "      <th>state_county_classification</th>\n",
       "    </tr>\n",
       "    <tr>\n",
       "      <th>row_id</th>\n",
       "      <th></th>\n",
       "      <th></th>\n",
       "      <th></th>\n",
       "      <th></th>\n",
       "      <th></th>\n",
       "      <th></th>\n",
       "      <th></th>\n",
       "      <th></th>\n",
       "      <th></th>\n",
       "      <th></th>\n",
       "      <th></th>\n",
       "      <th></th>\n",
       "      <th></th>\n",
       "      <th></th>\n",
       "      <th></th>\n",
       "      <th></th>\n",
       "      <th></th>\n",
       "      <th></th>\n",
       "      <th></th>\n",
       "      <th></th>\n",
       "      <th></th>\n",
       "    </tr>\n",
       "  </thead>\n",
       "  <tbody>\n",
       "    <tr>\n",
       "      <th>0</th>\n",
       "      <td>3</td>\n",
       "      <td>1</td>\n",
       "      <td>1</td>\n",
       "      <td>1</td>\n",
       "      <td>70.0</td>\n",
       "      <td>3</td>\n",
       "      <td>18</td>\n",
       "      <td>37</td>\n",
       "      <td>246</td>\n",
       "      <td>2</td>\n",
       "      <td>...</td>\n",
       "      <td>44.230</td>\n",
       "      <td>60588.0</td>\n",
       "      <td>50.933</td>\n",
       "      <td>716.0</td>\n",
       "      <td>2642.0</td>\n",
       "      <td>4536</td>\n",
       "      <td>False</td>\n",
       "      <td>0.837209</td>\n",
       "      <td>37246</td>\n",
       "      <td>0.837209</td>\n",
       "    </tr>\n",
       "    <tr>\n",
       "      <th>1</th>\n",
       "      <td>1</td>\n",
       "      <td>1</td>\n",
       "      <td>3</td>\n",
       "      <td>1</td>\n",
       "      <td>178.0</td>\n",
       "      <td>3</td>\n",
       "      <td>369</td>\n",
       "      <td>52</td>\n",
       "      <td>299</td>\n",
       "      <td>1</td>\n",
       "      <td>...</td>\n",
       "      <td>15.905</td>\n",
       "      <td>54821.0</td>\n",
       "      <td>100.000</td>\n",
       "      <td>1622.0</td>\n",
       "      <td>2108.0</td>\n",
       "      <td>2458</td>\n",
       "      <td>False</td>\n",
       "      <td>0.168919</td>\n",
       "      <td>52299</td>\n",
       "      <td>0.168919</td>\n",
       "    </tr>\n",
       "    <tr>\n",
       "      <th>2</th>\n",
       "      <td>2</td>\n",
       "      <td>1</td>\n",
       "      <td>3</td>\n",
       "      <td>1</td>\n",
       "      <td>163.0</td>\n",
       "      <td>3</td>\n",
       "      <td>16</td>\n",
       "      <td>10</td>\n",
       "      <td>306</td>\n",
       "      <td>2</td>\n",
       "      <td>...</td>\n",
       "      <td>61.270</td>\n",
       "      <td>67719.0</td>\n",
       "      <td>100.000</td>\n",
       "      <td>760.0</td>\n",
       "      <td>1048.0</td>\n",
       "      <td>5710</td>\n",
       "      <td>False</td>\n",
       "      <td>0.489632</td>\n",
       "      <td>10306</td>\n",
       "      <td>0.489632</td>\n",
       "    </tr>\n",
       "    <tr>\n",
       "      <th>3</th>\n",
       "      <td>1</td>\n",
       "      <td>1</td>\n",
       "      <td>1</td>\n",
       "      <td>1</td>\n",
       "      <td>155.0</td>\n",
       "      <td>1</td>\n",
       "      <td>305</td>\n",
       "      <td>47</td>\n",
       "      <td>180</td>\n",
       "      <td>2</td>\n",
       "      <td>...</td>\n",
       "      <td>6.246</td>\n",
       "      <td>78439.0</td>\n",
       "      <td>100.000</td>\n",
       "      <td>2025.0</td>\n",
       "      <td>2299.0</td>\n",
       "      <td>5888</td>\n",
       "      <td>True</td>\n",
       "      <td>0.691964</td>\n",
       "      <td>47180</td>\n",
       "      <td>0.691964</td>\n",
       "    </tr>\n",
       "    <tr>\n",
       "      <th>4</th>\n",
       "      <td>1</td>\n",
       "      <td>1</td>\n",
       "      <td>1</td>\n",
       "      <td>1</td>\n",
       "      <td>305.0</td>\n",
       "      <td>3</td>\n",
       "      <td>24</td>\n",
       "      <td>37</td>\n",
       "      <td>20</td>\n",
       "      <td>2</td>\n",
       "      <td>...</td>\n",
       "      <td>100.000</td>\n",
       "      <td>63075.0</td>\n",
       "      <td>82.200</td>\n",
       "      <td>1464.0</td>\n",
       "      <td>1847.0</td>\n",
       "      <td>289</td>\n",
       "      <td>False</td>\n",
       "      <td>0.542994</td>\n",
       "      <td>3720</td>\n",
       "      <td>0.542994</td>\n",
       "    </tr>\n",
       "  </tbody>\n",
       "</table>\n",
       "<p>5 rows × 24 columns</p>\n",
       "</div>"
      ],
      "text/plain": [
       "        loan_type  property_type  loan_purpose  occupancy  loan_amount  \\\n",
       "row_id                                                                   \n",
       "0               3              1             1          1         70.0   \n",
       "1               1              1             3          1        178.0   \n",
       "2               2              1             3          1        163.0   \n",
       "3               1              1             1          1        155.0   \n",
       "4               1              1             1          1        305.0   \n",
       "\n",
       "        preapproval  msa_md  state_code  county_code  applicant_ethnicity  \\\n",
       "row_id                                                                      \n",
       "0                 3      18          37          246                    2   \n",
       "1                 3     369          52          299                    1   \n",
       "2                 3      16          10          306                    2   \n",
       "3                 1     305          47          180                    2   \n",
       "4                 3      24          37           20                    2   \n",
       "\n",
       "        ...  minority_population_pct  ffiecmedian_family_income  \\\n",
       "row_id  ...                                                       \n",
       "0       ...                   44.230                    60588.0   \n",
       "1       ...                   15.905                    54821.0   \n",
       "2       ...                   61.270                    67719.0   \n",
       "3       ...                    6.246                    78439.0   \n",
       "4       ...                  100.000                    63075.0   \n",
       "\n",
       "        tract_to_msa_md_income_pct  number_of_owner-occupied_units  \\\n",
       "row_id                                                               \n",
       "0                           50.933                           716.0   \n",
       "1                          100.000                          1622.0   \n",
       "2                          100.000                           760.0   \n",
       "3                          100.000                          2025.0   \n",
       "4                           82.200                          1464.0   \n",
       "\n",
       "        number_of_1_to_4_family_units  lender  co_applicant  \\\n",
       "row_id                                                        \n",
       "0                              2642.0    4536         False   \n",
       "1                              2108.0    2458         False   \n",
       "2                              1048.0    5710         False   \n",
       "3                              2299.0    5888          True   \n",
       "4                              1847.0     289         False   \n",
       "\n",
       "        lender_classification  state_county  state_county_classification  \n",
       "row_id                                                                    \n",
       "0                    0.837209         37246                     0.837209  \n",
       "1                    0.168919         52299                     0.168919  \n",
       "2                    0.489632         10306                     0.489632  \n",
       "3                    0.691964         47180                     0.691964  \n",
       "4                    0.542994          3720                     0.542994  \n",
       "\n",
       "[5 rows x 24 columns]"
      ]
     },
     "execution_count": 4,
     "metadata": {},
     "output_type": "execute_result"
    }
   ],
   "source": [
    "# first import the training data\n",
    "train_data = pd.read_csv('train_values.csv', index_col=0)\n",
    "\n",
    "# then import the lender classification done by a separate data analysis\n",
    "lender_classification = pd.read_csv('lender_classification.csv', index_col='lender')\n",
    "train_data['lender_classification'] = train_data['lender'].apply(lambda x: lender_classification.loc[x, 'accept_rate'])\n",
    "\n",
    "# and then import the state_county classificaiton also done as a separate analysis\n",
    "state_county_classification = pd.read_csv('state_county_classification.csv', index_col='state_county')\n",
    "train_data['state_county'] = train_data['state_code'].map(str) + train_data['county_code'].map(str)\n",
    "train_data['state_county_classification'] = train_data['lender'].apply(lambda x: lender_classification.loc[x, 'accept_rate'])\n",
    "\n",
    "print(train_data.shape)\n",
    "train_data.head()"
   ]
  },
  {
   "cell_type": "code",
   "execution_count": 6,
   "metadata": {},
   "outputs": [],
   "source": [
    "cols_numerical = ['loan_amount', 'applicant_income', 'number_of_owner-occupied_units', 'number_of_1_to_4_family_units',\n",
    "                  'ffiecmedian_family_income', 'minority_population_pct', 'tract_to_msa_md_income_pct','population',\n",
    "                 'lender_classification', 'state_county_classification']\n",
    "cols_categorical = ['loan_type', 'property_type', 'loan_purpose', 'occupancy', 'preapproval', \n",
    "                    'applicant_ethnicity', 'applicant_race', 'applicant_sex','co_applicant']\n",
    "\n",
    "cols_property_location = ['msa_md', 'state_code', 'county_code']\n",
    "\n",
    "cols_lender = ['lender']"
   ]
  },
  {
   "cell_type": "code",
   "execution_count": 7,
   "metadata": {},
   "outputs": [],
   "source": [
    "ReplaceNaN(train_data, 'msa_md', 'applicant_income', how='mean')\n",
    "train_data['number_of_1_to_4_family_units'].fillna(method='ffill', inplace=True)\n",
    "train_data['number_of_owner-occupied_units'].fillna(method='ffill', inplace=True)"
   ]
  },
  {
   "cell_type": "code",
   "execution_count": 8,
   "metadata": {},
   "outputs": [
    {
     "name": "stdout",
     "output_type": "stream",
     "text": [
      "<class 'pandas.core.frame.DataFrame'>\n",
      "Int64Index: 500000 entries, 0 to 499999\n",
      "Data columns (total 24 columns):\n",
      "loan_type                         500000 non-null int64\n",
      "property_type                     500000 non-null int64\n",
      "loan_purpose                      500000 non-null int64\n",
      "occupancy                         500000 non-null int64\n",
      "loan_amount                       500000 non-null float64\n",
      "preapproval                       500000 non-null int64\n",
      "msa_md                            500000 non-null int64\n",
      "state_code                        500000 non-null int64\n",
      "county_code                       500000 non-null int64\n",
      "applicant_ethnicity               500000 non-null int64\n",
      "applicant_race                    500000 non-null int64\n",
      "applicant_sex                     500000 non-null int64\n",
      "applicant_income                  500000 non-null float64\n",
      "population                        477535 non-null float64\n",
      "minority_population_pct           477534 non-null float64\n",
      "ffiecmedian_family_income         477560 non-null float64\n",
      "tract_to_msa_md_income_pct        477486 non-null float64\n",
      "number_of_owner-occupied_units    500000 non-null float64\n",
      "number_of_1_to_4_family_units     500000 non-null float64\n",
      "lender                            500000 non-null int64\n",
      "co_applicant                      500000 non-null bool\n",
      "lender_classification             500000 non-null float64\n",
      "state_county                      500000 non-null object\n",
      "state_county_classification       500000 non-null float64\n",
      "dtypes: bool(1), float64(10), int64(12), object(1)\n",
      "memory usage: 92.0+ MB\n"
     ]
    }
   ],
   "source": [
    "train_data.info()"
   ]
  },
  {
   "cell_type": "code",
   "execution_count": 9,
   "metadata": {},
   "outputs": [
    {
     "data": {
      "image/png": "[encoded data removed]",
      "text/plain": [
       "<Figure size 842.4x595.44 with 1 Axes>"
      ]
     },
     "metadata": {
      "needs_background": "light"
     },
     "output_type": "display_data"
    },
    {
     "data": {
      "image/png": "[encoded data removed]",
      "text/plain": [
       "<Figure size 842.4x595.44 with 1 Axes>"
      ]
     },
     "metadata": {
      "needs_background": "light"
     },
     "output_type": "display_data"
    }
   ],
   "source": [
    "DistPlots(train_data, ['number_of_owner-occupied_units', 'number_of_1_to_4_family_units'])"
   ]
  },
  {
   "cell_type": "code",
   "execution_count": 10,
   "metadata": {},
   "outputs": [],
   "source": [
    "train_labels = pd.read_csv('train_labels.csv', index_col=0)\n",
    "data = train_data.merge(train_labels, on='row_id')"
   ]
  },
  {
   "cell_type": "code",
   "execution_count": 11,
   "metadata": {},
   "outputs": [
    {
     "name": "stdout",
     "output_type": "stream",
     "text": [
      "<class 'pandas.core.frame.DataFrame'>\n",
      "Int64Index: 500000 entries, 0 to 499999\n",
      "Data columns (total 25 columns):\n",
      "loan_type                         500000 non-null int64\n",
      "property_type                     500000 non-null int64\n",
      "loan_purpose                      500000 non-null int64\n",
      "occupancy                         500000 non-null int64\n",
      "loan_amount                       500000 non-null float64\n",
      "preapproval                       500000 non-null int64\n",
      "msa_md                            500000 non-null int64\n",
      "state_code                        500000 non-null int64\n",
      "county_code                       500000 non-null int64\n",
      "applicant_ethnicity               500000 non-null int64\n",
      "applicant_race                    500000 non-null int64\n",
      "applicant_sex                     500000 non-null int64\n",
      "applicant_income                  500000 non-null float64\n",
      "population                        477535 non-null float64\n",
      "minority_population_pct           477534 non-null float64\n",
      "ffiecmedian_family_income         477560 non-null float64\n",
      "tract_to_msa_md_income_pct        477486 non-null float64\n",
      "number_of_owner-occupied_units    500000 non-null float64\n",
      "number_of_1_to_4_family_units     500000 non-null float64\n",
      "lender                            500000 non-null int64\n",
      "co_applicant                      500000 non-null bool\n",
      "lender_classification             500000 non-null float64\n",
      "state_county                      500000 non-null object\n",
      "state_county_classification       500000 non-null float64\n",
      "accepted                          500000 non-null int64\n",
      "dtypes: bool(1), float64(10), int64(13), object(1)\n",
      "memory usage: 95.8+ MB\n"
     ]
    }
   ],
   "source": [
    "data.info()"
   ]
  },
  {
   "cell_type": "code",
   "execution_count": null,
   "metadata": {
    "scrolled": false
   },
   "outputs": [],
   "source": [
    "# lest just drop all the columns with missing data and see where we get\n",
    "#data.drop(data[data[['applicant_income']].isna().all(axis=1)].index, inplace=True)\n",
    "#data.info()"
   ]
  },
  {
   "cell_type": "code",
   "execution_count": null,
   "metadata": {
    "scrolled": false
   },
   "outputs": [],
   "source": [
    "#BoxPlots(data, cols_numerical, hue='applicant_ethnicity')"
   ]
  },
  {
   "cell_type": "code",
   "execution_count": null,
   "metadata": {},
   "outputs": [],
   "source": [
    "#log_cols_numerical = ['log_' + x for x in cols_numerical]\n",
    "cols_to_log =  ['loan_amount']\n",
    "log_cols_numerical = ['log_' + x for x in cols_to_log]\n",
    "\n",
    "data[log_cols_numerical] = data[cols_to_log].applymap(math.log)"
   ]
  },
  {
   "cell_type": "code",
   "execution_count": null,
   "metadata": {},
   "outputs": [],
   "source": [
    "BoxPlots(data, ['log_loan_amount', 'applicant_income'], hue='lender_size')"
   ]
  },
  {
   "cell_type": "code",
   "execution_count": null,
   "metadata": {},
   "outputs": [],
   "source": []
  },
  {
   "cell_type": "markdown",
   "metadata": {},
   "source": [
    "# Modeling"
   ]
  },
  {
   "cell_type": "code",
   "execution_count": 12,
   "metadata": {},
   "outputs": [],
   "source": [
    "from sklearn import preprocessing\n",
    "import sklearn.model_selection as ms\n",
    "from sklearn import linear_model\n",
    "import sklearn.metrics as sklm\n",
    "import sklearn.ensemble as ensemble\n",
    "from sklearn.ensemble import AdaBoostClassifier\n",
    "from sklearn.ensemble import RandomForestClassifier\n",
    "from sklearn.ensemble import ExtraTreesClassifier\n",
    "from sklearn.naive_bayes import GaussianNB, BernoulliNB\n",
    "from sklearn.neural_network import MLPClassifier\n",
    "from sklearn.model_selection import train_test_split\n",
    "from sklearn import metrics\n",
    "from sklearn import feature_selection as fs"
   ]
  },
  {
   "cell_type": "code",
   "execution_count": 13,
   "metadata": {},
   "outputs": [
    {
     "data": {
      "text/plain": [
       "['loan_type',\n",
       " 'property_type',\n",
       " 'loan_purpose',\n",
       " 'occupancy',\n",
       " 'preapproval',\n",
       " 'applicant_ethnicity',\n",
       " 'applicant_race',\n",
       " 'applicant_sex',\n",
       " 'co_applicant']"
      ]
     },
     "execution_count": 13,
     "metadata": {},
     "output_type": "execute_result"
    }
   ],
   "source": [
    "#if not('lender_size' in cols_categorical):\n",
    "#    cols_categorical.extend(['lender_size'])\n",
    "cols_categorical"
   ]
  },
  {
   "cell_type": "code",
   "execution_count": 40,
   "metadata": {},
   "outputs": [],
   "source": [
    "features = PrepareFeatures(data, cols_categorical)"
   ]
  },
  {
   "cell_type": "code",
   "execution_count": 41,
   "metadata": {},
   "outputs": [
    {
     "data": {
      "text/plain": [
       "(500000, 33)"
      ]
     },
     "execution_count": 41,
     "metadata": {},
     "output_type": "execute_result"
    }
   ],
   "source": [
    "features.shape"
   ]
  },
  {
   "cell_type": "code",
   "execution_count": 42,
   "metadata": {},
   "outputs": [],
   "source": [
    "features = np.concatenate([features, np.array(data[['loan_amount',\n",
    "                                                    'applicant_income',\n",
    "                                                    'lender_classification',\n",
    "                                                    #'state_county_classification',\n",
    "                                                   'msa_md',\n",
    "                                                    #'state_county'\n",
    "                                                   #'state_code',\n",
    "                                                   #'county_code',\n",
    "                                                   #'number_of_owner-occupied_units', \n",
    "                                                   # 'number_of_1_to_4_family_units'\n",
    "                                                   ]])], axis = 1)"
   ]
  },
  {
   "cell_type": "code",
   "execution_count": 43,
   "metadata": {},
   "outputs": [],
   "source": [
    "X_train, X_test, y_train, y_test = train_test_split(features, data['accepted'], test_size=0.3) # 70% training and 30% test"
   ]
  },
  {
   "cell_type": "code",
   "execution_count": 46,
   "metadata": {},
   "outputs": [
    {
     "name": "stdout",
     "output_type": "stream",
     "text": [
      "Accuracy: 0.7082266666666667\n"
     ]
    }
   ],
   "source": [
    "abc = AdaBoostClassifier(n_estimators=250, learning_rate=0.1)\n",
    "model_abc = abc.fit(X_train, y_train)\n",
    "y_pred = model_abc.predict(X_test)\n",
    "        \n",
    "print(\"Accuracy:\", metrics.accuracy_score(y_test, y_pred))"
   ]
  },
  {
   "cell_type": "code",
   "execution_count": 45,
   "metadata": {},
   "outputs": [
    {
     "data": {
      "text/plain": [
       "array([0.   , 0.   , 0.   , 0.   , 0.   , 0.   , 0.   , 0.092, 0.008,\n",
       "       0.   , 0.   , 0.   , 0.   , 0.068, 0.   , 0.   , 0.02 , 0.016,\n",
       "       0.   , 0.   , 0.   , 0.   , 0.036, 0.   , 0.048, 0.   , 0.016,\n",
       "       0.   , 0.   , 0.   , 0.02 , 0.02 , 0.016, 0.052, 0.12 , 0.392,\n",
       "       0.076])"
      ]
     },
     "execution_count": 45,
     "metadata": {},
     "output_type": "execute_result"
    }
   ],
   "source": [
    "model_abc.feature_importances_"
   ]
  },
  {
   "cell_type": "code",
   "execution_count": null,
   "metadata": {},
   "outputs": [],
   "source": [
    "rfc = RandomForestClassifier(n_estimators=60)\n",
    "model_rfc = rfc.fit(X_train, y_train)\n",
    "y_pred = model_rfc.predict(X_test)\n",
    "        \n",
    "print(\"Accuracy:\", metrics.accuracy_score(y_test, y_pred))"
   ]
  },
  {
   "cell_type": "code",
   "execution_count": null,
   "metadata": {},
   "outputs": [],
   "source": [
    "lr = linear_model.LogisticRegression(C=10, solver='liblinear') \n",
    "model_rl = lr.fit(X_train, y_train)\n",
    "\n",
    "y_pred = model_rl.predict(X_test)\n",
    "\n",
    "print(\"Accuracy:\", metrics.accuracy_score(y_test, y_pred))"
   ]
  },
  {
   "cell_type": "code",
   "execution_count": null,
   "metadata": {},
   "outputs": [],
   "source": [
    "etc = ensemble.BaggingClassifier()\n",
    "model_etc = etc.fit(X_train, y_train)\n",
    "\n",
    "y_pred = model_etc.predict(X_test)\n",
    "\n",
    "print(\"Accuracy:\", metrics.accuracy_score(y_test, y_pred))"
   ]
  },
  {
   "cell_type": "markdown",
   "metadata": {},
   "source": [
    "Test data starts here"
   ]
  },
  {
   "cell_type": "code",
   "execution_count": null,
   "metadata": {},
   "outputs": [],
   "source": [
    "test_data = pd.read_csv('test_values.csv', index_col=0)\n",
    "print(test_data.shape)\n",
    "lender_classification = pd.read_csv('lender_classification.csv', index_col='lender')\n",
    "test_data['lender_classification'] = test_data['lender'].apply(lambda x: lender_classification.loc[x, 'accept_rate']\n",
    "                                                              if x in lender_classification.index else 0.5)\n",
    "\n",
    "#test_data['lender_size'] = test_data['lender'].apply(ClassifyLender, args=[test_data['lender'].value_counts()])\n",
    "\n",
    "ReplaceNaN(test_data, 'msa_md', 'applicant_income', how='mean')\n",
    "test_data['number_of_1_to_4_family_units'].fillna(method='ffill', inplace=True)\n",
    "test_data['number_of_owner-occupied_units'].fillna(method='ffill', inplace=True)\n",
    "\n",
    "test_data.info()\n",
    "\n",
    "test_features = PrepareFeatures(test_data, cols_categorical)\n",
    "print(test_features.shape)\n",
    "\n",
    "test_features = np.concatenate([test_features, np.array(test_data[['loan_amount',\n",
    "                                                                   'applicant_income',\n",
    "                                                                   'lender_classification',\n",
    "                                                                  'msa_md',\n",
    "                                                               'state_code',\n",
    "                                                                'county_code',\n",
    "                                                               'number_of_owner-occupied_units', \n",
    "                                                                'number_of_1_to_4_family_units']])], axis = 1)\n",
    "\n",
    "print(test_features.shape)\n",
    "\n",
    "y_test_pred = model_rfc.predict(test_features)"
   ]
  },
  {
   "cell_type": "code",
   "execution_count": null,
   "metadata": {},
   "outputs": [],
   "source": [
    "series = pd.Series(y_test_pred)"
   ]
  },
  {
   "cell_type": "code",
   "execution_count": null,
   "metadata": {},
   "outputs": [],
   "source": [
    "series.value_counts()"
   ]
  },
  {
   "cell_type": "code",
   "execution_count": null,
   "metadata": {},
   "outputs": [],
   "source": [
    "test_output = pd.DataFrame(columns=['row_id', 'accepted'])\n",
    "test_output['accepted'] = series\n",
    "test_output['row_id'] = test_output.index\n",
    "test_output= test_output.set_index('row_id')\n",
    "test_output.head()"
   ]
  },
  {
   "cell_type": "code",
   "execution_count": null,
   "metadata": {},
   "outputs": [],
   "source": [
    "test_output.to_csv('submission-v3.csv')"
   ]
  },
  {
   "cell_type": "code",
   "execution_count": null,
   "metadata": {},
   "outputs": [],
   "source": []
  },
  {
   "cell_type": "code",
   "execution_count": null,
   "metadata": {},
   "outputs": [],
   "source": []
  },
  {
   "cell_type": "code",
   "execution_count": null,
   "metadata": {},
   "outputs": [],
   "source": []
  }
 ],
 "metadata": {
  "kernelspec": {
   "display_name": "Python 3",
   "language": "python",
   "name": "python3"
  },
  "language_info": {
   "codemirror_mode": {
    "name": "ipython",
    "version": 3
   },
   "file_extension": ".py",
   "mimetype": "text/x-python",
   "name": "python",
   "nbconvert_exporter": "python",
   "pygments_lexer": "ipython3",
   "version": "3.7.3"
  }
 },
 "nbformat": 4,
 "nbformat_minor": 2
}
