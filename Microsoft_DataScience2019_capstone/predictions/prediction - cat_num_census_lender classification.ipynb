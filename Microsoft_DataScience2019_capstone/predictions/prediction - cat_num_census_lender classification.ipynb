{
 "cells": [
  {
   "cell_type": "code",
   "execution_count": 1,
   "metadata": {},
   "outputs": [],
   "source": [
    "import pandas as pd\n",
    "import numpy as np\n",
    "import seaborn as sns\n",
    "import matplotlib.pyplot as plt\n",
    "import math\n",
    "\n",
    "#sns.set(rc={'figure.figsize':(11.7,8.27)})\n",
    "\n",
    "%matplotlib inline"
   ]
  },
  {
   "cell_type": "code",
   "execution_count": 2,
   "metadata": {},
   "outputs": [],
   "source": [
    "def CategoricalPlots(data, cols, ref='accepted'):\n",
    "    '''\n",
    "    Plot categorical data from the DataFrame 'data' using the columns in cols.\n",
    "    Split the categorical data in line with a label reference\n",
    "    '''\n",
    "    if not('dummy' in data.columns):\n",
    "        data['dummy'] = np.ones(shape = data.shape[0])\n",
    "    for col in cols:\n",
    "        print(col)\n",
    "        counts = data[['dummy', ref, col]].groupby([ref, col], as_index = False).count()\n",
    "        _ = plt.figure(figsize = (13,4))\n",
    "        plt.subplot(1, 2, 1)\n",
    "        temp = counts[counts[ref] == 0][[col, 'dummy']]\n",
    "        plt.bar(temp[col], temp.dummy)\n",
    "        plt.xticks(rotation=90)\n",
    "        plt.title('Counts for ' + col + '\\n not accepted')\n",
    "        plt.ylabel('count')\n",
    "        plt.subplot(1, 2, 2)\n",
    "        temp = counts[counts[ref] == 1][[col, 'dummy']]\n",
    "        plt.bar(temp[col], temp.dummy)\n",
    "        plt.xticks(rotation=90)\n",
    "        plt.title('Counts for ' + col + '\\n accepted')\n",
    "        plt.ylabel('count')\n",
    "        plt.show()\n",
    "\n",
    "def BoxPlots(data, columns, ref = ['accepted'], hue='accepted'):\n",
    "    for column in columns:\n",
    "        for r in ref:\n",
    "            fig, ax = plt.subplots(figsize=(11.7,8.27))\n",
    "            sns.boxplot(x=r, ax=ax, y=column, data=data, hue=hue)\n",
    "            plt.xlabel(r)\n",
    "            plt.ylabel(column)\n",
    "            plt.show()\n",
    "        \n",
    "def DistPlots(data, columns):\n",
    "    for column in columns:\n",
    "        fig, ax = plt.subplots(figsize=(11.7,8.27))\n",
    "        ax = sns.distplot(data[column], ax=ax)\n",
    "        plt.xlabel('value')\n",
    "        plt.ylabel('density')\n",
    "        plt.title('Histogram of ' + column)\n",
    "        plt.show()\n",
    "        \n",
    "def DistPlotsSplit(data, columns, ref=''):\n",
    "    '''\n",
    "    Plot several distributions with a reference column\n",
    "    '''\n",
    "    if ref != '':\n",
    "        unique = data[ref].unique()\n",
    "    for column in columns:\n",
    "        if ref != '':\n",
    "            ax = sns.distplot(data.loc[data[ref]==unique[0], column])\n",
    "            ax = sns.distplot(data.loc[data[ref]==unique[1], column], ax=ax)\n",
    "        else:\n",
    "            ax = sns.distplot(data[column])\n",
    "        plt.xlabel('value')\n",
    "        plt.ylabel('density')\n",
    "        plt.title('Histogram of ' + column)\n",
    "        plt.show()\n",
    "    "
   ]
  },
  {
   "cell_type": "code",
   "execution_count": 3,
   "metadata": {},
   "outputs": [],
   "source": [
    "def ReplaceNaN(data, ref, col, how='mean'):\n",
    "    '''\n",
    "    Replacing a NaN value with a random number from a normal distribution.\n",
    "    Parameter how defines whether the value will be coming from a normal distribution \"mean\"\n",
    "    or a simple \"median\" value of the reference column.\n",
    "    '''\n",
    "    if ref == col:\n",
    "        replace_mean = data[col].mean()\n",
    "        replace_std = data[col].std()\n",
    "        replace_value = np.random.normal(loc=replace_mean, scale=replace_std)\n",
    "        data.loc[(data[col].isnull()), col] = replace_value\n",
    "    else:\n",
    "        unique_values = data[ref].unique()\n",
    "        if unique_values.shape[0] < 500:\n",
    "            for value in unique_values:\n",
    "                if how =='mean':\n",
    "                    replace_mean = data[data[ref]==value][col].mean()\n",
    "                    replace_std = data[data[ref]==value][col].std()\n",
    "                    replace_value = np.random.normal(loc=replace_mean, scale=replace_std)\n",
    "                elif how == 'median':\n",
    "                    replace_value = data[data[ref]==value][col].median()\n",
    "                data.loc[(data[ref]==value) & (data[col].isnull()), col] = replace_value               \n",
    "        else:\n",
    "            raise('ReplaceNaN: too many unique values to fill')    \n",
    "\n",
    "from sklearn import preprocessing\n",
    "            \n",
    "def encode_category(numeric_category):\n",
    "    ## First encode the strings to numeric categories\n",
    "    #enc = preprocessing.LabelEncoder()\n",
    "    #enc.fit(cat_features)\n",
    "    #enc_cat_features = enc.transform(cat_features)\n",
    "    ## Now, apply one hot encoding\n",
    "    ohe = preprocessing.OneHotEncoder(categories='auto')\n",
    "    encoded = ohe.fit(numeric_category.values.reshape(-1,1))\n",
    "    return encoded.transform(numeric_category.values.reshape(-1,1)).toarray()\n",
    "            \n",
    "def PrepareFeatures(data, cols):\n",
    "    '''\n",
    "    Use one-hot-encoder to encode the categorical features.\n",
    "    The columns to encode in the dataset are defined by the cols_categorical list\n",
    "    '''\n",
    "    features = np.array([])\n",
    "    for col in cols:\n",
    "        temp = encode_category(data[col])\n",
    "        if features.shape[0] == 0:\n",
    "            features = temp\n",
    "        else:\n",
    "            features = np.concatenate([features, temp], axis = 1)\n",
    "    return features"
   ]
  },
  {
   "cell_type": "code",
   "execution_count": 4,
   "metadata": {},
   "outputs": [
    {
     "name": "stdout",
     "output_type": "stream",
     "text": [
      "(500000, 22)\n"
     ]
    },
    {
     "data": {
      "text/html": [
       "<div>\n",
       "<style scoped>\n",
       "    .dataframe tbody tr th:only-of-type {\n",
       "        vertical-align: middle;\n",
       "    }\n",
       "\n",
       "    .dataframe tbody tr th {\n",
       "        vertical-align: top;\n",
       "    }\n",
       "\n",
       "    .dataframe thead th {\n",
       "        text-align: right;\n",
       "    }\n",
       "</style>\n",
       "<table border=\"1\" class=\"dataframe\">\n",
       "  <thead>\n",
       "    <tr style=\"text-align: right;\">\n",
       "      <th></th>\n",
       "      <th>loan_type</th>\n",
       "      <th>property_type</th>\n",
       "      <th>loan_purpose</th>\n",
       "      <th>occupancy</th>\n",
       "      <th>loan_amount</th>\n",
       "      <th>preapproval</th>\n",
       "      <th>msa_md</th>\n",
       "      <th>state_code</th>\n",
       "      <th>county_code</th>\n",
       "      <th>applicant_ethnicity</th>\n",
       "      <th>...</th>\n",
       "      <th>applicant_income</th>\n",
       "      <th>population</th>\n",
       "      <th>minority_population_pct</th>\n",
       "      <th>ffiecmedian_family_income</th>\n",
       "      <th>tract_to_msa_md_income_pct</th>\n",
       "      <th>number_of_owner-occupied_units</th>\n",
       "      <th>number_of_1_to_4_family_units</th>\n",
       "      <th>lender</th>\n",
       "      <th>co_applicant</th>\n",
       "      <th>lender_classification</th>\n",
       "    </tr>\n",
       "    <tr>\n",
       "      <th>row_id</th>\n",
       "      <th></th>\n",
       "      <th></th>\n",
       "      <th></th>\n",
       "      <th></th>\n",
       "      <th></th>\n",
       "      <th></th>\n",
       "      <th></th>\n",
       "      <th></th>\n",
       "      <th></th>\n",
       "      <th></th>\n",
       "      <th></th>\n",
       "      <th></th>\n",
       "      <th></th>\n",
       "      <th></th>\n",
       "      <th></th>\n",
       "      <th></th>\n",
       "      <th></th>\n",
       "      <th></th>\n",
       "      <th></th>\n",
       "      <th></th>\n",
       "      <th></th>\n",
       "    </tr>\n",
       "  </thead>\n",
       "  <tbody>\n",
       "    <tr>\n",
       "      <th>0</th>\n",
       "      <td>3</td>\n",
       "      <td>1</td>\n",
       "      <td>1</td>\n",
       "      <td>1</td>\n",
       "      <td>70.0</td>\n",
       "      <td>3</td>\n",
       "      <td>18</td>\n",
       "      <td>37</td>\n",
       "      <td>246</td>\n",
       "      <td>2</td>\n",
       "      <td>...</td>\n",
       "      <td>24.0</td>\n",
       "      <td>6203.0</td>\n",
       "      <td>44.230</td>\n",
       "      <td>60588.0</td>\n",
       "      <td>50.933</td>\n",
       "      <td>716.0</td>\n",
       "      <td>2642.0</td>\n",
       "      <td>4536</td>\n",
       "      <td>False</td>\n",
       "      <td>0.837209</td>\n",
       "    </tr>\n",
       "    <tr>\n",
       "      <th>1</th>\n",
       "      <td>1</td>\n",
       "      <td>1</td>\n",
       "      <td>3</td>\n",
       "      <td>1</td>\n",
       "      <td>178.0</td>\n",
       "      <td>3</td>\n",
       "      <td>369</td>\n",
       "      <td>52</td>\n",
       "      <td>299</td>\n",
       "      <td>1</td>\n",
       "      <td>...</td>\n",
       "      <td>57.0</td>\n",
       "      <td>5774.0</td>\n",
       "      <td>15.905</td>\n",
       "      <td>54821.0</td>\n",
       "      <td>100.000</td>\n",
       "      <td>1622.0</td>\n",
       "      <td>2108.0</td>\n",
       "      <td>2458</td>\n",
       "      <td>False</td>\n",
       "      <td>0.168919</td>\n",
       "    </tr>\n",
       "    <tr>\n",
       "      <th>2</th>\n",
       "      <td>2</td>\n",
       "      <td>1</td>\n",
       "      <td>3</td>\n",
       "      <td>1</td>\n",
       "      <td>163.0</td>\n",
       "      <td>3</td>\n",
       "      <td>16</td>\n",
       "      <td>10</td>\n",
       "      <td>306</td>\n",
       "      <td>2</td>\n",
       "      <td>...</td>\n",
       "      <td>67.0</td>\n",
       "      <td>6094.0</td>\n",
       "      <td>61.270</td>\n",
       "      <td>67719.0</td>\n",
       "      <td>100.000</td>\n",
       "      <td>760.0</td>\n",
       "      <td>1048.0</td>\n",
       "      <td>5710</td>\n",
       "      <td>False</td>\n",
       "      <td>0.489632</td>\n",
       "    </tr>\n",
       "    <tr>\n",
       "      <th>3</th>\n",
       "      <td>1</td>\n",
       "      <td>1</td>\n",
       "      <td>1</td>\n",
       "      <td>1</td>\n",
       "      <td>155.0</td>\n",
       "      <td>1</td>\n",
       "      <td>305</td>\n",
       "      <td>47</td>\n",
       "      <td>180</td>\n",
       "      <td>2</td>\n",
       "      <td>...</td>\n",
       "      <td>105.0</td>\n",
       "      <td>6667.0</td>\n",
       "      <td>6.246</td>\n",
       "      <td>78439.0</td>\n",
       "      <td>100.000</td>\n",
       "      <td>2025.0</td>\n",
       "      <td>2299.0</td>\n",
       "      <td>5888</td>\n",
       "      <td>True</td>\n",
       "      <td>0.691964</td>\n",
       "    </tr>\n",
       "    <tr>\n",
       "      <th>4</th>\n",
       "      <td>1</td>\n",
       "      <td>1</td>\n",
       "      <td>1</td>\n",
       "      <td>1</td>\n",
       "      <td>305.0</td>\n",
       "      <td>3</td>\n",
       "      <td>24</td>\n",
       "      <td>37</td>\n",
       "      <td>20</td>\n",
       "      <td>2</td>\n",
       "      <td>...</td>\n",
       "      <td>71.0</td>\n",
       "      <td>6732.0</td>\n",
       "      <td>100.000</td>\n",
       "      <td>63075.0</td>\n",
       "      <td>82.200</td>\n",
       "      <td>1464.0</td>\n",
       "      <td>1847.0</td>\n",
       "      <td>289</td>\n",
       "      <td>False</td>\n",
       "      <td>0.542994</td>\n",
       "    </tr>\n",
       "  </tbody>\n",
       "</table>\n",
       "<p>5 rows × 22 columns</p>\n",
       "</div>"
      ],
      "text/plain": [
       "        loan_type  property_type  loan_purpose  occupancy  loan_amount  \\\n",
       "row_id                                                                   \n",
       "0               3              1             1          1         70.0   \n",
       "1               1              1             3          1        178.0   \n",
       "2               2              1             3          1        163.0   \n",
       "3               1              1             1          1        155.0   \n",
       "4               1              1             1          1        305.0   \n",
       "\n",
       "        preapproval  msa_md  state_code  county_code  applicant_ethnicity  \\\n",
       "row_id                                                                      \n",
       "0                 3      18          37          246                    2   \n",
       "1                 3     369          52          299                    1   \n",
       "2                 3      16          10          306                    2   \n",
       "3                 1     305          47          180                    2   \n",
       "4                 3      24          37           20                    2   \n",
       "\n",
       "        ...  applicant_income  population  minority_population_pct  \\\n",
       "row_id  ...                                                          \n",
       "0       ...              24.0      6203.0                   44.230   \n",
       "1       ...              57.0      5774.0                   15.905   \n",
       "2       ...              67.0      6094.0                   61.270   \n",
       "3       ...             105.0      6667.0                    6.246   \n",
       "4       ...              71.0      6732.0                  100.000   \n",
       "\n",
       "        ffiecmedian_family_income  tract_to_msa_md_income_pct  \\\n",
       "row_id                                                          \n",
       "0                         60588.0                      50.933   \n",
       "1                         54821.0                     100.000   \n",
       "2                         67719.0                     100.000   \n",
       "3                         78439.0                     100.000   \n",
       "4                         63075.0                      82.200   \n",
       "\n",
       "        number_of_owner-occupied_units  number_of_1_to_4_family_units  lender  \\\n",
       "row_id                                                                          \n",
       "0                                716.0                         2642.0    4536   \n",
       "1                               1622.0                         2108.0    2458   \n",
       "2                                760.0                         1048.0    5710   \n",
       "3                               2025.0                         2299.0    5888   \n",
       "4                               1464.0                         1847.0     289   \n",
       "\n",
       "        co_applicant  lender_classification  \n",
       "row_id                                       \n",
       "0              False               0.837209  \n",
       "1              False               0.168919  \n",
       "2              False               0.489632  \n",
       "3               True               0.691964  \n",
       "4              False               0.542994  \n",
       "\n",
       "[5 rows x 22 columns]"
      ]
     },
     "execution_count": 4,
     "metadata": {},
     "output_type": "execute_result"
    }
   ],
   "source": [
    "train_data = pd.read_csv('train_values.csv', index_col=0)\n",
    "lender_classification = pd.read_csv('lender_classification.csv', index_col='lender')\n",
    "train_data['lender_classification'] = train_data['lender'].apply(lambda x: lender_classification.loc[x, 'accept_rate'])\n",
    "print(train_data.shape)\n",
    "train_data.head()"
   ]
  },
  {
   "cell_type": "code",
   "execution_count": 5,
   "metadata": {},
   "outputs": [
    {
     "name": "stdout",
     "output_type": "stream",
     "text": [
      "<class 'pandas.core.frame.DataFrame'>\n",
      "Int64Index: 500000 entries, 0 to 499999\n",
      "Data columns (total 22 columns):\n",
      "loan_type                         500000 non-null int64\n",
      "property_type                     500000 non-null int64\n",
      "loan_purpose                      500000 non-null int64\n",
      "occupancy                         500000 non-null int64\n",
      "loan_amount                       500000 non-null float64\n",
      "preapproval                       500000 non-null int64\n",
      "msa_md                            500000 non-null int64\n",
      "state_code                        500000 non-null int64\n",
      "county_code                       500000 non-null int64\n",
      "applicant_ethnicity               500000 non-null int64\n",
      "applicant_race                    500000 non-null int64\n",
      "applicant_sex                     500000 non-null int64\n",
      "applicant_income                  460052 non-null float64\n",
      "population                        477535 non-null float64\n",
      "minority_population_pct           477534 non-null float64\n",
      "ffiecmedian_family_income         477560 non-null float64\n",
      "tract_to_msa_md_income_pct        477486 non-null float64\n",
      "number_of_owner-occupied_units    477435 non-null float64\n",
      "number_of_1_to_4_family_units     477470 non-null float64\n",
      "lender                            500000 non-null int64\n",
      "co_applicant                      500000 non-null bool\n",
      "lender_classification             500000 non-null float64\n",
      "dtypes: bool(1), float64(9), int64(12)\n",
      "memory usage: 84.4 MB\n"
     ]
    }
   ],
   "source": [
    "train_data.info()"
   ]
  },
  {
   "cell_type": "code",
   "execution_count": 6,
   "metadata": {},
   "outputs": [],
   "source": [
    "cols_numerical = ['loan_amount', 'applicant_income', 'number_of_owner-occupied_units', 'number_of_1_to_4_family_units',\n",
    "                  'ffiecmedian_family_income', 'minority_population_pct', 'tract_to_msa_md_income_pct','population',\n",
    "                 'lender_classification']\n",
    "cols_categorical = ['loan_type', 'property_type', 'loan_purpose', 'occupancy', 'preapproval', \n",
    "                    'applicant_ethnicity', 'applicant_race', 'applicant_sex','co_applicant']\n",
    "\n",
    "cols_property_location = ['msa_md', 'state_code', 'county_code']\n",
    "\n",
    "cols_lender = ['lender']"
   ]
  },
  {
   "cell_type": "code",
   "execution_count": 6,
   "metadata": {},
   "outputs": [],
   "source": [
    "train_data['income_approximated'] = train_data[['loan_amount','applicant_income']].apply(lambda x: 30.29 + 0.3458 * x[0] if (np.all(pd.isnull(x[1]))) else x[1], axis = 1)\n",
    "#ReplaceNaN(train_data, 'msa_md', 'applicant_income', how='mean')\n",
    "\n",
    "#train_data['is_minority'] = train_data['applicant_race'].apply(lambda x: 0 if x==5 else 1)\n",
    "\n",
    "#train_data['number_of_1_to_4_family_units'].fillna(method='ffill', inplace=True)\n",
    "#train_data['number_of_owner-occupied_units'].fillna(method='ffill', inplace=True)\n",
    "\n",
    "train_data['number_of_1_to_4_family_units'].fillna(value = -1, inplace=True)\n",
    "train_data['number_of_owner-occupied_units'].fillna(value = -1, inplace=True)"
   ]
  },
  {
   "cell_type": "code",
   "execution_count": 9,
   "metadata": {},
   "outputs": [
    {
     "data": {
      "text/html": [
       "<div>\n",
       "<style scoped>\n",
       "    .dataframe tbody tr th:only-of-type {\n",
       "        vertical-align: middle;\n",
       "    }\n",
       "\n",
       "    .dataframe tbody tr th {\n",
       "        vertical-align: top;\n",
       "    }\n",
       "\n",
       "    .dataframe thead th {\n",
       "        text-align: right;\n",
       "    }\n",
       "</style>\n",
       "<table border=\"1\" class=\"dataframe\">\n",
       "  <thead>\n",
       "    <tr style=\"text-align: right;\">\n",
       "      <th></th>\n",
       "      <th>applicant_income</th>\n",
       "      <th>income_approximated</th>\n",
       "      <th>is_minority</th>\n",
       "    </tr>\n",
       "    <tr>\n",
       "      <th>row_id</th>\n",
       "      <th></th>\n",
       "      <th></th>\n",
       "      <th></th>\n",
       "    </tr>\n",
       "  </thead>\n",
       "  <tbody>\n",
       "    <tr>\n",
       "      <th>0</th>\n",
       "      <td>24.0</td>\n",
       "      <td>24.0000</td>\n",
       "      <td>0</td>\n",
       "    </tr>\n",
       "    <tr>\n",
       "      <th>1</th>\n",
       "      <td>57.0</td>\n",
       "      <td>57.0000</td>\n",
       "      <td>0</td>\n",
       "    </tr>\n",
       "    <tr>\n",
       "      <th>2</th>\n",
       "      <td>67.0</td>\n",
       "      <td>67.0000</td>\n",
       "      <td>0</td>\n",
       "    </tr>\n",
       "    <tr>\n",
       "      <th>3</th>\n",
       "      <td>105.0</td>\n",
       "      <td>105.0000</td>\n",
       "      <td>0</td>\n",
       "    </tr>\n",
       "    <tr>\n",
       "      <th>4</th>\n",
       "      <td>71.0</td>\n",
       "      <td>71.0000</td>\n",
       "      <td>1</td>\n",
       "    </tr>\n",
       "    <tr>\n",
       "      <th>5</th>\n",
       "      <td>51.0</td>\n",
       "      <td>51.0000</td>\n",
       "      <td>0</td>\n",
       "    </tr>\n",
       "    <tr>\n",
       "      <th>6</th>\n",
       "      <td>104.0</td>\n",
       "      <td>104.0000</td>\n",
       "      <td>0</td>\n",
       "    </tr>\n",
       "    <tr>\n",
       "      <th>7</th>\n",
       "      <td>55.0</td>\n",
       "      <td>55.0000</td>\n",
       "      <td>0</td>\n",
       "    </tr>\n",
       "    <tr>\n",
       "      <th>8</th>\n",
       "      <td>244.0</td>\n",
       "      <td>244.0000</td>\n",
       "      <td>0</td>\n",
       "    </tr>\n",
       "    <tr>\n",
       "      <th>9</th>\n",
       "      <td>86.0</td>\n",
       "      <td>86.0000</td>\n",
       "      <td>0</td>\n",
       "    </tr>\n",
       "    <tr>\n",
       "      <th>10</th>\n",
       "      <td>78.0</td>\n",
       "      <td>78.0000</td>\n",
       "      <td>1</td>\n",
       "    </tr>\n",
       "    <tr>\n",
       "      <th>11</th>\n",
       "      <td>63.0</td>\n",
       "      <td>63.0000</td>\n",
       "      <td>0</td>\n",
       "    </tr>\n",
       "    <tr>\n",
       "      <th>12</th>\n",
       "      <td>NaN</td>\n",
       "      <td>78.0104</td>\n",
       "      <td>0</td>\n",
       "    </tr>\n",
       "    <tr>\n",
       "      <th>13</th>\n",
       "      <td>90.0</td>\n",
       "      <td>90.0000</td>\n",
       "      <td>0</td>\n",
       "    </tr>\n",
       "    <tr>\n",
       "      <th>14</th>\n",
       "      <td>172.0</td>\n",
       "      <td>172.0000</td>\n",
       "      <td>0</td>\n",
       "    </tr>\n",
       "    <tr>\n",
       "      <th>15</th>\n",
       "      <td>53.0</td>\n",
       "      <td>53.0000</td>\n",
       "      <td>1</td>\n",
       "    </tr>\n",
       "    <tr>\n",
       "      <th>16</th>\n",
       "      <td>NaN</td>\n",
       "      <td>91.4966</td>\n",
       "      <td>0</td>\n",
       "    </tr>\n",
       "    <tr>\n",
       "      <th>17</th>\n",
       "      <td>NaN</td>\n",
       "      <td>78.0104</td>\n",
       "      <td>0</td>\n",
       "    </tr>\n",
       "    <tr>\n",
       "      <th>18</th>\n",
       "      <td>111.0</td>\n",
       "      <td>111.0000</td>\n",
       "      <td>0</td>\n",
       "    </tr>\n",
       "    <tr>\n",
       "      <th>19</th>\n",
       "      <td>63.0</td>\n",
       "      <td>63.0000</td>\n",
       "      <td>0</td>\n",
       "    </tr>\n",
       "  </tbody>\n",
       "</table>\n",
       "</div>"
      ],
      "text/plain": [
       "        applicant_income  income_approximated  is_minority\n",
       "row_id                                                    \n",
       "0                   24.0              24.0000            0\n",
       "1                   57.0              57.0000            0\n",
       "2                   67.0              67.0000            0\n",
       "3                  105.0             105.0000            0\n",
       "4                   71.0              71.0000            1\n",
       "5                   51.0              51.0000            0\n",
       "6                  104.0             104.0000            0\n",
       "7                   55.0              55.0000            0\n",
       "8                  244.0             244.0000            0\n",
       "9                   86.0              86.0000            0\n",
       "10                  78.0              78.0000            1\n",
       "11                  63.0              63.0000            0\n",
       "12                   NaN              78.0104            0\n",
       "13                  90.0              90.0000            0\n",
       "14                 172.0             172.0000            0\n",
       "15                  53.0              53.0000            1\n",
       "16                   NaN              91.4966            0\n",
       "17                   NaN              78.0104            0\n",
       "18                 111.0             111.0000            0\n",
       "19                  63.0              63.0000            0"
      ]
     },
     "execution_count": 9,
     "metadata": {},
     "output_type": "execute_result"
    }
   ],
   "source": [
    "train_data[['applicant_income', 'income_approximated', 'is_minority']].head(20)"
   ]
  },
  {
   "cell_type": "code",
   "execution_count": null,
   "metadata": {},
   "outputs": [],
   "source": [
    "DistPlots(train_data, ['number_of_owner-occupied_units', 'number_of_1_to_4_family_units'])"
   ]
  },
  {
   "cell_type": "code",
   "execution_count": 11,
   "metadata": {},
   "outputs": [],
   "source": [
    "train_labels = pd.read_csv('train_labels.csv', index_col=0)\n",
    "data = train_data.merge(train_labels, on='row_id')"
   ]
  },
  {
   "cell_type": "code",
   "execution_count": 27,
   "metadata": {},
   "outputs": [
    {
     "name": "stdout",
     "output_type": "stream",
     "text": [
      "<class 'pandas.core.frame.DataFrame'>\n",
      "Int64Index: 500000 entries, 0 to 499999\n",
      "Data columns (total 24 columns):\n",
      "loan_type                         500000 non-null int64\n",
      "property_type                     500000 non-null int64\n",
      "loan_purpose                      500000 non-null int64\n",
      "occupancy                         500000 non-null int64\n",
      "loan_amount                       500000 non-null float64\n",
      "preapproval                       500000 non-null int64\n",
      "msa_md                            500000 non-null int64\n",
      "state_code                        500000 non-null int64\n",
      "county_code                       500000 non-null int64\n",
      "applicant_ethnicity               500000 non-null int64\n",
      "applicant_race                    500000 non-null int64\n",
      "applicant_sex                     500000 non-null int64\n",
      "applicant_income                  460052 non-null float64\n",
      "population                        477535 non-null float64\n",
      "minority_population_pct           477534 non-null float64\n",
      "ffiecmedian_family_income         477560 non-null float64\n",
      "tract_to_msa_md_income_pct        477486 non-null float64\n",
      "number_of_owner-occupied_units    500000 non-null float64\n",
      "number_of_1_to_4_family_units     500000 non-null float64\n",
      "lender                            500000 non-null int64\n",
      "co_applicant                      500000 non-null bool\n",
      "lender_classification             500000 non-null float64\n",
      "income_approximated               500000 non-null float64\n",
      "accepted                          500000 non-null int64\n",
      "dtypes: bool(1), float64(10), int64(13)\n",
      "memory usage: 92.0 MB\n"
     ]
    }
   ],
   "source": [
    "data.info()"
   ]
  },
  {
   "cell_type": "code",
   "execution_count": null,
   "metadata": {
    "scrolled": false
   },
   "outputs": [],
   "source": [
    "# lest just drop all the columns with missing data and see where we get\n",
    "#data.drop(data[data[['applicant_income']].isna().all(axis=1)].index, inplace=True)\n",
    "#data.info()\n",
    "\n",
    "drop=data.dropna(axis=0, subset=['number_of_owner-occupied_units', 'number_of_1_to_4_family_units',\n",
    "                  'ffiecmedian_family_income', 'minority_population_pct', 'tract_to_msa_md_income_pct','population']).shape\n",
    "print((data.shape[0] - drop[0])/data.shape[0] )"
   ]
  },
  {
   "cell_type": "code",
   "execution_count": null,
   "metadata": {},
   "outputs": [],
   "source": [
    "data.dropna(axis=0, subset=['number_of_owner-occupied_units', \n",
    "                            'number_of_1_to_4_family_units',\n",
    "                            'ffiecmedian_family_income',\n",
    "                            'minority_population_pct',\n",
    "                            'tract_to_msa_md_income_pct',\n",
    "                            'population'], \n",
    "                            inplace=True)"
   ]
  },
  {
   "cell_type": "code",
   "execution_count": null,
   "metadata": {
    "scrolled": true
   },
   "outputs": [],
   "source": [
    "BoxPlots(data, cols_numerical, hue='applicant_ethnicity')"
   ]
  },
  {
   "cell_type": "code",
   "execution_count": null,
   "metadata": {},
   "outputs": [],
   "source": [
    "#log_cols_numerical = ['log_' + x for x in cols_numerical]\n",
    "cols_to_log =  ['loan_amount']\n",
    "log_cols_numerical = ['log_' + x for x in cols_to_log]\n",
    "\n",
    "print(log_cols_numerical)\n",
    "\n",
    "data[log_cols_numerical] = data[cols_to_log].applymap(math.log)"
   ]
  },
  {
   "cell_type": "code",
   "execution_count": null,
   "metadata": {},
   "outputs": [],
   "source": [
    "DistPlots(data, ['log_loan_amount', 'applicant_income'])"
   ]
  },
  {
   "cell_type": "code",
   "execution_count": null,
   "metadata": {},
   "outputs": [],
   "source": []
  },
  {
   "cell_type": "code",
   "execution_count": null,
   "metadata": {},
   "outputs": [],
   "source": [
    "data.head()"
   ]
  },
  {
   "cell_type": "markdown",
   "metadata": {},
   "source": [
    "## Model fitting\n",
    "\n",
    "In this section the actual model fitting takes place."
   ]
  },
  {
   "cell_type": "code",
   "execution_count": 51,
   "metadata": {},
   "outputs": [],
   "source": [
    "from sklearn import preprocessing\n",
    "import sklearn.model_selection as ms\n",
    "from sklearn import linear_model\n",
    "import sklearn.metrics as sklm\n",
    "import sklearn.ensemble as ensemble\n",
    "from sklearn.ensemble import AdaBoostClassifier\n",
    "from sklearn.ensemble import RandomForestClassifier\n",
    "from sklearn.ensemble import ExtraTreesClassifier\n",
    "from sklearn.naive_bayes import GaussianNB, BernoulliNB\n",
    "from sklearn.neural_network import MLPClassifier\n",
    "from sklearn.model_selection import train_test_split\n",
    "from sklearn import metrics\n",
    "from sklearn import feature_selection as fs\n",
    "import sklearn.tree as tree"
   ]
  },
  {
   "cell_type": "code",
   "execution_count": 35,
   "metadata": {},
   "outputs": [],
   "source": [
    "#if not('lender_size' in cols_categorical):\n",
    "#    cols_categorical.extend(['lender_size'])\n",
    "#cols_categorical\n",
    "\n",
    "cat_features_to_test = ['loan_type', 'property_type', 'loan_purpose', 'occupancy', 'preapproval','co_applicant']\n",
    "\n",
    "cat_features_to_test2 = ['loan_purpose', \n",
    "                        'preapproval', \n",
    "                        'applicant_ethnicity', \n",
    "                        'applicant_sex', \n",
    "                        'co_applicant',\n",
    "                        'is_minority'\n",
    "                       ]\n",
    "\n",
    "cat_features_to_hash = ['state_code', 'county_code']"
   ]
  },
  {
   "cell_type": "code",
   "execution_count": 36,
   "metadata": {},
   "outputs": [
    {
     "name": "stderr",
     "output_type": "stream",
     "text": [
      "C:\\Users\\Tomas\\Anaconda3\\lib\\site-packages\\sklearn\\utils\\validation.py:595: DataConversionWarning: Data with input dtype object was converted to float64 by StandardScaler.\n",
      "  warnings.warn(msg, DataConversionWarning)\n",
      "C:\\Users\\Tomas\\Anaconda3\\lib\\site-packages\\sklearn\\utils\\validation.py:595: DataConversionWarning: Data with input dtype object was converted to float64 by StandardScaler.\n",
      "  warnings.warn(msg, DataConversionWarning)\n"
     ]
    }
   ],
   "source": [
    "#features = PrepareFeatures(data, cols_categorical)\n",
    "features_to_test = PrepareFeatures(data, cat_features_to_test)\n",
    "\n",
    "features_to_add = ['co_applicant',\n",
    "                   'loan_amount',\n",
    "                   'income_approximated',\n",
    "                   'lender_classification',\n",
    "                   'state_code',\n",
    "                   'county_code',\n",
    "                   'number_of_owner-occupied_units',\n",
    "                   'number_of_1_to_4_family_units'\n",
    "                  ]\n",
    "\n",
    "features_to_test = np.concatenate([features_to_test, np.array(data[features_to_add])], axis = 1)\n",
    "\n",
    "minmaxscaler = preprocessing.StandardScaler().fit(features_to_test[:, 19:])\n",
    "features_to_test[:, 19:] = minmaxscaler.transform(features_to_test[:, 19:])\n",
    "features_to_test[:10,:]\n",
    "\n",
    "X_train, X_test, y_train, y_test = train_test_split(features_to_test, data['accepted'], test_size=0.3) # 70% training and 30% test"
   ]
  },
  {
   "cell_type": "code",
   "execution_count": 37,
   "metadata": {},
   "outputs": [
    {
     "data": {
      "text/plain": [
       "(500000, 26)"
      ]
     },
     "execution_count": 37,
     "metadata": {},
     "output_type": "execute_result"
    }
   ],
   "source": [
    "features_to_test.shape"
   ]
  },
  {
   "cell_type": "code",
   "execution_count": 38,
   "metadata": {},
   "outputs": [
    {
     "name": "stdout",
     "output_type": "stream",
     "text": [
      "Accuracy: 0.71294\n"
     ]
    }
   ],
   "source": [
    "abc = AdaBoostClassifier(n_estimators=250, learning_rate=0.1)\n",
    "model_abc = abc.fit(X_train, y_train)\n",
    "y_pred = model_abc.predict(X_test)\n",
    "        \n",
    "print(\"Accuracy:\", metrics.accuracy_score(y_test, y_pred))"
   ]
  },
  {
   "cell_type": "code",
   "execution_count": 39,
   "metadata": {},
   "outputs": [
    {
     "name": "stdout",
     "output_type": "stream",
     "text": [
      "Accuracy: 0.7202466666666667\n"
     ]
    }
   ],
   "source": [
    "rfc = RandomForestClassifier(n_estimators=500,max_features=0.25, n_jobs=7,\n",
    "                                criterion=\"entropy\", class_weight=\"balanced\")\n",
    "model_rfc = rfc.fit(X_train, y_train)\n",
    "y_pred = model_rfc.predict(X_test)\n",
    "        \n",
    "print(\"Accuracy:\", metrics.accuracy_score(y_test, y_pred))"
   ]
  },
  {
   "cell_type": "code",
   "execution_count": 41,
   "metadata": {},
   "outputs": [
    {
     "data": {
      "text/plain": [
       "array([[50832, 24107],\n",
       "       [17856, 57205]], dtype=int64)"
      ]
     },
     "execution_count": 41,
     "metadata": {},
     "output_type": "execute_result"
    }
   ],
   "source": [
    "metrics.confusion_matrix(y_test, y_pred)"
   ]
  },
  {
   "cell_type": "code",
   "execution_count": 49,
   "metadata": {},
   "outputs": [
    {
     "name": "stdout",
     "output_type": "stream",
     "text": [
      "Accuracy: 0.71716\n"
     ]
    }
   ],
   "source": [
    "rfc = RandomForestClassifier(n_estimators=100, max_features=0.25, n_jobs=7,\n",
    "                                criterion=\"entropy\", class_weight=\"balanced\")\n",
    "model_rfc = rfc.fit(X_train, y_train)\n",
    "y_pred = model_rfc.predict(X_test)\n",
    "        \n",
    "print(\"Accuracy:\", metrics.accuracy_score(y_test, y_pred))"
   ]
  },
  {
   "cell_type": "code",
   "execution_count": 43,
   "metadata": {},
   "outputs": [
    {
     "data": {
      "text/plain": [
       "array([[50873, 24066],\n",
       "       [17937, 57124]], dtype=int64)"
      ]
     },
     "execution_count": 43,
     "metadata": {},
     "output_type": "execute_result"
    }
   ],
   "source": [
    "metrics.confusion_matrix(y_test, y_pred)"
   ]
  },
  {
   "cell_type": "code",
   "execution_count": 45,
   "metadata": {},
   "outputs": [
    {
     "name": "stdout",
     "output_type": "stream",
     "text": [
      "Accuracy: 0.71964\n"
     ]
    }
   ],
   "source": [
    "rfc = RandomForestClassifier(n_estimators=500, n_jobs=7,\n",
    "                                criterion=\"entropy\", class_weight={0:0.6, 1:0.4})\n",
    "model_rfc = rfc.fit(X_train, y_train)\n",
    "y_pred = model_rfc.predict(X_test)\n",
    "        \n",
    "print(\"Accuracy:\", metrics.accuracy_score(y_test, y_pred))"
   ]
  },
  {
   "cell_type": "code",
   "execution_count": 46,
   "metadata": {},
   "outputs": [
    {
     "data": {
      "text/plain": [
       "array([[52207, 22732],\n",
       "       [19322, 55739]], dtype=int64)"
      ]
     },
     "execution_count": 46,
     "metadata": {},
     "output_type": "execute_result"
    }
   ],
   "source": [
    "metrics.confusion_matrix(y_test, y_pred)"
   ]
  },
  {
   "cell_type": "code",
   "execution_count": 54,
   "metadata": {},
   "outputs": [
    {
     "name": "stdout",
     "output_type": "stream",
     "text": [
      "Accuracy: 0.7093733333333333\n"
     ]
    }
   ],
   "source": [
    "etc = ensemble.ExtraTreesClassifier(n_estimators = 500, n_jobs=7)\n",
    "model_etc = etc.fit(X_train, y_train)\n",
    "y_pred = model_etc.predict(X_test)\n",
    "        \n",
    "print(\"Accuracy:\", metrics.accuracy_score(y_test, y_pred))"
   ]
  },
  {
   "cell_type": "code",
   "execution_count": null,
   "metadata": {},
   "outputs": [],
   "source": []
  },
  {
   "cell_type": "code",
   "execution_count": null,
   "metadata": {},
   "outputs": [],
   "source": []
  },
  {
   "cell_type": "code",
   "execution_count": null,
   "metadata": {
    "scrolled": true
   },
   "outputs": [],
   "source": [
    "import category_encoders as ce\n",
    "\n",
    "smpl = data.sample(100000)\n",
    "    \n",
    "num_features_to_test = ['property_type',\n",
    "                        'loan_purpose', \n",
    "                        'preapproval', \n",
    "                        'applicant_ethnicity', \n",
    "                        'applicant_race', \n",
    "                        'applicant_sex',\n",
    "                         'co_applicant'\n",
    "                         'msa_md'\n",
    "                         'state_code',\n",
    "                         'county_code']\n",
    "\n",
    "features_num = ['loan_amount',\n",
    "                   'income_approximated',\n",
    "                   'lender_classification',\n",
    "                   'number_of_owner-occupied_units',\n",
    "                   'number_of_1_to_4_family_units',\n",
    "                   'accepted']\n",
    "\n",
    "\n",
    "hasher = ce.HashingEncoder(cols = num_features_to_test, n_components=70)\n",
    "data_encoded = hasher.fit_transform(smpl)\n",
    "\n",
    "features = data_encoded.iloc[:,0:70]\n",
    "\n",
    "features = features.merge(data[features_num], on='row_id')\n",
    "features.shape\n",
    "\n",
    "X_train, X_test, y_train, y_test = train_test_split(features.iloc[:,0:70+5], features['accepted'], test_size=0.3) # 70% training and 30% test\n",
    "\n",
    "for n in range(2,11,1):\n",
    "    mlp = MLPClassifier(hidden_layer_sizes = (100,n), activation='logistic')\n",
    "    model_mlp = mlp.fit(X_train, y_train)\n",
    "\n",
    "    y_pred = model_mlp.predict(X_test)\n",
    "\n",
    "    print('Depth:', n,\"Accuracy:\", metrics.accuracy_score(y_test, y_pred))\n"
   ]
  },
  {
   "cell_type": "code",
   "execution_count": null,
   "metadata": {},
   "outputs": [],
   "source": []
  },
  {
   "cell_type": "code",
   "execution_count": null,
   "metadata": {},
   "outputs": [],
   "source": []
  },
  {
   "cell_type": "markdown",
   "metadata": {},
   "source": [
    "Using a cycle for the number of components in the resulting hash columns from 10 until 200 and by applying an AdaBoostClassifier(n_estimators=250, learning_rate=0.1), the resulting accuracy is as follows:\n",
    "\n",
    "-  n= 10 Accuracy: 0.7017666666666666\n",
    "-  n= 20 Accuracy: 0.7078\n",
    "-  n= 30 Accuracy: 0.7077666666666667\n",
    "-  n= 40 Accuracy: 0.7084\n",
    "-  n= 50 Accuracy: 0.7127333333333333\n",
    "-  n= 60 Accuracy: 0.7099\n",
    "-  n= 70 Accuracy: 0.7135\n",
    "-  n= 80 Accuracy: 0.7084333333333334\n",
    "-  n= 90 Accuracy: 0.7105666666666667\n",
    "-  n= 100 Accuracy: 0.7060333333333333\n",
    "-  n= 110 Accuracy: 0.7055\n",
    "-  n= 120 Accuracy: 0.7077333333333333\n",
    "-  n= 130 Accuracy: 0.7022333333333334\n",
    "-  n= 140 Accuracy: 0.7043333333333334\n",
    "-  n= 150 Accuracy: 0.7045333333333333\n",
    "-  n= 160 Accuracy: 0.7073666666666667\n",
    "-  n= 170 Accuracy: 0.7005333333333333\n",
    "-  n= 180 Accuracy: 0.7032\n",
    "-  n= 190 Accuracy: 0.7053333333333334\n",
    "-  n= 200 Accuracy: 0.707033333333333\n",
    "\n",
    "It seems that the highest accuracy is achieved by the n_estimators = 70\n",
    "\n",
    "Using a MPClassifier, changing the the activation from default to logistic improved the accuracy from 0.69 to 0.71.\n",
    "Changing the hiddle_layer_sizes from 100 to 150 lowered the accuracy score significantly, from 0.71 to 0.68"
   ]
  },
  {
   "cell_type": "code",
   "execution_count": null,
   "metadata": {},
   "outputs": [],
   "source": [
    "data_encoded.iloc[:,0:15].head(50)"
   ]
  },
  {
   "cell_type": "code",
   "execution_count": null,
   "metadata": {},
   "outputs": [],
   "source": []
  },
  {
   "cell_type": "code",
   "execution_count": null,
   "metadata": {},
   "outputs": [],
   "source": [
    "features = data_encoded.iloc[:,0:10]\n",
    "features_num = ['loan_amount',\n",
    "                   'income_approximated',\n",
    "                   'lender_classification',\n",
    "                   'number_of_owner-occupied_units',\n",
    "                   'number_of_1_to_4_family_units',\n",
    "                   'accepted']\n",
    "features = features.merge(data[features_num], on='row_id')\n",
    "features.shape\n",
    "\n",
    "X_train, X_test, y_train, y_test = train_test_split(features.iloc[:,0:15], features['accepted'], test_size=0.3) # 70% training and 30% test"
   ]
  },
  {
   "cell_type": "code",
   "execution_count": null,
   "metadata": {},
   "outputs": [],
   "source": [
    "rfc_large = RandomForestClassifier(n_estimators=500, max_features=0.25,\n",
    "                                criterion=\"entropy\", class_weight=\"balanced\")\n",
    "model_rfc_large = rfc_large.fit(X_train, y_train)\n",
    "y_pred = model_rfc_large.predict(X_test)\n",
    "        \n",
    "print(\"Accuracy:\", metrics.accuracy_score(y_test, y_pred))"
   ]
  },
  {
   "cell_type": "code",
   "execution_count": null,
   "metadata": {},
   "outputs": [],
   "source": [
    "model_rfc_large.feature_importances_"
   ]
  },
  {
   "cell_type": "code",
   "execution_count": null,
   "metadata": {},
   "outputs": [],
   "source": [
    "abc = AdaBoostClassifier(n_estimators=250, learning_rate=0.1)\n",
    "model_abc = abc.fit(X_train, y_train)\n",
    "y_pred = model_abc.predict(X_test)\n",
    "        \n",
    "print(\"Accuracy:\", metrics.accuracy_score(y_test, y_pred))"
   ]
  },
  {
   "cell_type": "code",
   "execution_count": null,
   "metadata": {},
   "outputs": [],
   "source": []
  },
  {
   "cell_type": "code",
   "execution_count": null,
   "metadata": {},
   "outputs": [],
   "source": []
  },
  {
   "cell_type": "code",
   "execution_count": 14,
   "metadata": {},
   "outputs": [],
   "source": [
    "features_v7 = ['loan_amount',\n",
    "                   'income_approximated',\n",
    "                   'lender_classification',\n",
    "                   'state_code',\n",
    "                   'number_of_owner-occupied_units'\n",
    "              ]\n",
    "\n",
    "features_to_add = ['co_applicant',\n",
    "                   'loan_amount',\n",
    "                   'income_approximated',\n",
    "                   'lender_classification',\n",
    "                   'state_code',\n",
    "                   'county_code',\n",
    "                   'number_of_owner-occupied_units',\n",
    "                   'number_of_1_to_4_family_units'\n",
    "                  ]\n"
   ]
  },
  {
   "cell_type": "code",
   "execution_count": 24,
   "metadata": {},
   "outputs": [],
   "source": [
    "features_to_test = np.concatenate([features_to_test, np.array(data[features_to_add])], axis = 1)"
   ]
  },
  {
   "cell_type": "code",
   "execution_count": 25,
   "metadata": {},
   "outputs": [
    {
     "data": {
      "text/plain": [
       "(500000, 26)"
      ]
     },
     "execution_count": 25,
     "metadata": {},
     "output_type": "execute_result"
    }
   ],
   "source": [
    "features_to_test.shape"
   ]
  },
  {
   "cell_type": "code",
   "execution_count": 26,
   "metadata": {},
   "outputs": [
    {
     "name": "stderr",
     "output_type": "stream",
     "text": [
      "C:\\Users\\Tomas\\Anaconda3\\lib\\site-packages\\sklearn\\utils\\validation.py:595: DataConversionWarning: Data with input dtype object was converted to float64 by MinMaxScaler.\n",
      "  warnings.warn(msg, DataConversionWarning)\n"
     ]
    },
    {
     "data": {
      "text/plain": [
       "array([[0.0, 0.0, 1.0, 0.0, 1.0, 0.0, 0.0, 1.0, 0.0, 0.0, 1.0, 0.0, 0.0,\n",
       "        0.0, 0.0, 1.0, 1.0, 0.0, False, 0.0006840013085242424,\n",
       "        0.0006587822386259127, 0.8372093023255814, 0.7169811320754716,\n",
       "        0.76, 0.08173734610123119, 0.19399588960657663],\n",
       "       [1.0, 0.0, 0.0, 0.0, 1.0, 0.0, 0.0, 0.0, 0.0, 1.0, 1.0, 0.0, 0.0,\n",
       "        0.0, 0.0, 1.0, 1.0, 0.0, False, 0.0017546120523013176,\n",
       "        0.0016039915375239612, 0.16891891891891891, 1.0,\n",
       "        0.9230769230769231, 0.1850205198358413, 0.15480035231943629],\n",
       "       [0.0, 1.0, 0.0, 0.0, 1.0, 0.0, 0.0, 0.0, 0.0, 1.0, 1.0, 0.0, 0.0,\n",
       "        0.0, 0.0, 1.0, 1.0, 0.0, False, 0.0016059161156656127,\n",
       "        0.0018904185977960972, 0.4896318407960199, 0.20754716981132074,\n",
       "        0.9446153846153846, 0.08675330597355221, 0.07699647680563712],\n",
       "       [1.0, 0.0, 0.0, 0.0, 1.0, 0.0, 0.0, 1.0, 0.0, 0.0, 1.0, 0.0, 0.0,\n",
       "        1.0, 0.0, 0.0, 0.0, 1.0, True, 0.00152661161612657,\n",
       "        0.0029788414268302143, 0.6919642857142857, 0.9056603773584905,\n",
       "        0.556923076923077, 0.23096215230278158, 0.1688197298884322],\n",
       "       [1.0, 0.0, 0.0, 0.0, 1.0, 0.0, 0.0, 1.0, 0.0, 0.0, 1.0, 0.0, 0.0,\n",
       "        0.0, 0.0, 1.0, 1.0, 0.0, False, 0.003013570982483619,\n",
       "        0.002004989421904952, 0.5429936305732485, 0.7169811320754716,\n",
       "        0.06461538461538462, 0.16700866393068856, 0.13564298297122726],\n",
       "       [1.0, 0.0, 0.0, 0.0, 1.0, 0.0, 0.0, 0.0, 0.0, 1.0, 1.0, 0.0, 0.0,\n",
       "        0.0, 0.0, 1.0, 1.0, 0.0, False, 0.001308524242394203,\n",
       "        0.0014321353013606796, 0.5, 0.2641509433962264,\n",
       "        0.17230769230769233, 0.208390332877337, 0.1718291250733999],\n",
       "       [0.0, 0.0, 1.0, 0.0, 1.0, 0.0, 0.0, 1.0, 0.0, 0.0, 1.0, 0.0, 0.0,\n",
       "        0.0, 0.0, 1.0, 1.0, 0.0, False, 0.0023692219237288975,\n",
       "        0.0029501987208030004, 0.5605824232969319, 0.5471698113207547,\n",
       "        0.40615384615384614, 0.21249430004559963, 0.18797709923664122],\n",
       "       [0.0, 1.0, 0.0, 0.0, 1.0, 0.0, 0.0, 1.0, 0.0, 0.0, 1.0, 0.0, 0.0,\n",
       "        0.0, 0.0, 1.0, 0.0, 1.0, True, 0.002071830050457488,\n",
       "        0.0015467061254695342, 0.7206703910614525, 0.7169811320754716,\n",
       "        0.11076923076923077, 0.11057911536707707, 0.11758661186142103],\n",
       "       [1.0, 0.0, 0.0, 0.0, 1.0, 0.0, 0.0, 0.0, 0.0, 1.0, 0.0, 1.0, 0.0,\n",
       "        0.0, 0.0, 1.0, 0.0, 1.0, True, 0.0020619169880151077,\n",
       "        0.006960177564612904, 0.6829268292682927, 0.7169811320754716,\n",
       "        0.06461538461538462, 0.04696762425900593, 0.035378743394010564],\n",
       "       [1.0, 0.0, 0.0, 0.0, 1.0, 0.0, 0.0, 0.0, 0.0, 1.0, 1.0, 0.0, 0.0,\n",
       "        0.0, 0.0, 1.0, 1.0, 0.0, False, 0.0019429602387065438,\n",
       "        0.002434630012313156, 0.04342653182629387, 0.18867924528301885,\n",
       "        0.06461538461538462, 0.21226630186958503, 0.1559013505578391]],\n",
       "      dtype=object)"
      ]
     },
     "execution_count": 26,
     "metadata": {},
     "output_type": "execute_result"
    }
   ],
   "source": [
    "minmaxscaler = preprocessing.MinMaxScaler().fit(features_to_test[:, 19:])\n",
    "features_to_test[:, 19:] = minmaxscaler.transform(features_to_test[:, 19:])\n",
    "features_to_test[:10,:]"
   ]
  },
  {
   "cell_type": "code",
   "execution_count": null,
   "metadata": {},
   "outputs": [],
   "source": [
    "print(features.shape)\n",
    "\n",
    "## Define the variance threhold and fit the threshold to the feature array. \n",
    "sel = fs.VarianceThreshold(threshold=(.9 * (1 - .9)))\n",
    "features_reduced = sel.fit_transform(features)\n",
    "\n",
    "## Print the support and shape for the transformed features\n",
    "print(sel.get_support())\n",
    "print(features_reduced.shape)"
   ]
  },
  {
   "cell_type": "code",
   "execution_count": 28,
   "metadata": {},
   "outputs": [],
   "source": [
    "X_train, X_test, y_train, y_test = train_test_split(features_to_test, data['accepted'], test_size=0.4) # 70% training and 30% test"
   ]
  },
  {
   "cell_type": "code",
   "execution_count": 29,
   "metadata": {},
   "outputs": [
    {
     "name": "stdout",
     "output_type": "stream",
     "text": [
      "Accuracy: 0.712775\n"
     ]
    }
   ],
   "source": [
    "abc = AdaBoostClassifier(n_estimators=250, learning_rate=0.1)\n",
    "model_abc = abc.fit(X_train, y_train)\n",
    "y_pred = model_abc.predict(X_test)\n",
    "        \n",
    "print(\"Accuracy:\", metrics.accuracy_score(y_test, y_pred))"
   ]
  },
  {
   "cell_type": "code",
   "execution_count": 30,
   "metadata": {},
   "outputs": [
    {
     "data": {
      "text/plain": [
       "array([0.   , 0.056, 0.   , 0.008, 0.   , 0.016, 0.   , 0.084, 0.024,\n",
       "       0.   , 0.   , 0.024, 0.   , 0.   , 0.016, 0.   , 0.028, 0.008,\n",
       "       0.004, 0.068, 0.16 , 0.316, 0.096, 0.   , 0.072, 0.02 ])"
      ]
     },
     "execution_count": 30,
     "metadata": {},
     "output_type": "execute_result"
    }
   ],
   "source": [
    "model_abc.feature_importances_"
   ]
  },
  {
   "cell_type": "code",
   "execution_count": null,
   "metadata": {},
   "outputs": [],
   "source": []
  },
  {
   "cell_type": "code",
   "execution_count": 31,
   "metadata": {},
   "outputs": [
    {
     "name": "stdout",
     "output_type": "stream",
     "text": [
      "Accuracy: 0.719645\n"
     ]
    }
   ],
   "source": [
    "rfc = RandomForestClassifier(n_estimators=500,max_features=0.25, n_jobs=7,\n",
    "                                criterion=\"entropy\", class_weight=\"balanced\")\n",
    "model_rfc = rfc.fit(X_train, y_train)\n",
    "y_pred = model_rfc.predict(X_test)\n",
    "        \n",
    "print(\"Accuracy:\", metrics.accuracy_score(y_test, y_pred))"
   ]
  },
  {
   "cell_type": "code",
   "execution_count": 32,
   "metadata": {},
   "outputs": [
    {
     "data": {
      "text/plain": [
       "array([0.00538707, 0.00451853, 0.0037426 , 0.00119373, 0.00310923,\n",
       "       0.00380315, 0.00035662, 0.01387806, 0.0041958 , 0.00611585,\n",
       "       0.0041452 , 0.00413217, 0.00046432, 0.00328947, 0.00355778,\n",
       "       0.00499647, 0.00281881, 0.00239807, 0.00229865, 0.12998585,\n",
       "       0.12821327, 0.21150334, 0.08375047, 0.10573228, 0.13334499,\n",
       "       0.13306823])"
      ]
     },
     "execution_count": 32,
     "metadata": {},
     "output_type": "execute_result"
    }
   ],
   "source": [
    "model_rfc.feature_importances_"
   ]
  },
  {
   "cell_type": "code",
   "execution_count": null,
   "metadata": {},
   "outputs": [],
   "source": []
  },
  {
   "cell_type": "code",
   "execution_count": 33,
   "metadata": {},
   "outputs": [
    {
     "name": "stdout",
     "output_type": "stream",
     "text": [
      "Accuracy: 0.71819\n"
     ]
    }
   ],
   "source": [
    "rfc2 = RandomForestClassifier(n_estimators=500,max_features=0.25, n_jobs=7,\n",
    "                              criterion='entropy', class_weight={0:0.1, 1:0.9})\n",
    "model_rfc2 = rfc2.fit(X_train, y_train)\n",
    "y_pred = model_rfc2.predict(X_test)\n",
    "        \n",
    "print(\"Accuracy:\", metrics.accuracy_score(y_test, y_pred))"
   ]
  },
  {
   "cell_type": "code",
   "execution_count": 34,
   "metadata": {},
   "outputs": [
    {
     "data": {
      "text/plain": [
       "array([[69764, 30583],\n",
       "       [25779, 73874]], dtype=int64)"
      ]
     },
     "execution_count": 34,
     "metadata": {},
     "output_type": "execute_result"
    }
   ],
   "source": [
    "metrics.confusion_matrix(y_test, y_pred)"
   ]
  },
  {
   "cell_type": "code",
   "execution_count": 155,
   "metadata": {},
   "outputs": [
    {
     "data": {
      "text/plain": [
       "<matplotlib.axes._subplots.AxesSubplot at 0x21f1d0baf28>"
      ]
     },
     "execution_count": 155,
     "metadata": {},
     "output_type": "execute_result"
    },
    {
     "data": {
      "image/png": "[encoded data removed]",
      "text/plain": [
       "<Figure size 432x288 with 2 Axes>"
      ]
     },
     "metadata": {
      "needs_background": "light"
     },
     "output_type": "display_data"
    }
   ],
   "source": [
    "sns.heatmap(metrics.confusion_matrix(y_test, y_pred), annot=True)"
   ]
  },
  {
   "cell_type": "code",
   "execution_count": 47,
   "metadata": {},
   "outputs": [
    {
     "data": {
      "text/plain": [
       "array([0.00670867, 0.00560977, 0.00491014, 0.00137961, 0.0026791 ,\n",
       "       0.00310775, 0.00024237, 0.0107644 , 0.00326387, 0.004708  ,\n",
       "       0.00435327, 0.00437131, 0.00035767, 0.00304016, 0.00424461,\n",
       "       0.00474847, 0.00373062, 0.00475839, 0.0026361 , 0.00080131,\n",
       "       0.00092245, 0.00228131, 0.00253162, 0.00071351, 0.00313436,\n",
       "       0.00212993, 0.00080287, 0.00906609, 0.00888658, 0.00194704,\n",
       "       0.00087898, 0.00927379, 0.00314838, 0.11394992, 0.11258087,\n",
       "       0.18704397, 0.07829692, 0.07278866, 0.0951159 , 0.10910935,\n",
       "       0.1089819 ])"
      ]
     },
     "execution_count": 47,
     "metadata": {},
     "output_type": "execute_result"
    }
   ],
   "source": [
    "model_rfc2.feature_importances_"
   ]
  },
  {
   "cell_type": "markdown",
   "metadata": {},
   "source": [
    "The clasifier below has so far provided the highest accuracy after the submission - 0.7173. The actual accuracy on the train data is 0.7235, therefore there is some overfitting. The file is \"submission_v6.csv\" which contains the fitted information"
   ]
  },
  {
   "cell_type": "code",
   "execution_count": null,
   "metadata": {},
   "outputs": [],
   "source": [
    "rfc_large = RandomForestClassifier(n_estimators=700, max_features=0.25,\n",
    "                                criterion=\"entropy\", class_weight=\"balanced\")\n",
    "model_rfc_large = rfc_large.fit(X_train, y_train)\n",
    "y_pred = model_rfc_large.predict(X_test)\n",
    "        \n",
    "print(\"Accuracy:\", metrics.accuracy_score(y_test, y_pred))"
   ]
  },
  {
   "cell_type": "code",
   "execution_count": null,
   "metadata": {},
   "outputs": [],
   "source": [
    "model_rfc_large.feature_importances_"
   ]
  },
  {
   "cell_type": "code",
   "execution_count": 50,
   "metadata": {},
   "outputs": [
    {
     "name": "stderr",
     "output_type": "stream",
     "text": [
      "C:\\Users\\Tomas\\Anaconda3\\lib\\site-packages\\sklearn\\linear_model\\logistic.py:1300: UserWarning: 'n_jobs' > 1 does not have any effect when 'solver' is set to 'liblinear'. Got 'n_jobs' = 7.\n",
      "  \" = {}.\".format(effective_n_jobs(self.n_jobs)))\n"
     ]
    },
    {
     "name": "stdout",
     "output_type": "stream",
     "text": [
      "Accuracy: 0.69826\n"
     ]
    }
   ],
   "source": [
    "lr = linear_model.LogisticRegression(penalty='l1', C=1000, solver='liblinear', class_weight={0:0.55, 1:0.45}, n_jobs=7) \n",
    "model_rl = lr.fit(X_train, y_train)\n",
    "\n",
    "y_pred = model_rl.predict(X_test)\n",
    "\n",
    "print(\"Accuracy:\", metrics.accuracy_score(y_test, y_pred))"
   ]
  },
  {
   "cell_type": "code",
   "execution_count": null,
   "metadata": {},
   "outputs": [],
   "source": [
    "etc = ensemble.BaggingClassifier()\n",
    "model_etc = etc.fit(X_train, y_train)\n",
    "\n",
    "y_pred = model_etc.predict(X_test)\n",
    "\n",
    "print(\"Accuracy:\", metrics.accuracy_score(y_test, y_pred))"
   ]
  },
  {
   "cell_type": "code",
   "execution_count": null,
   "metadata": {},
   "outputs": [],
   "source": [
    "mlp = MLPClassifier()\n",
    "model_mlp = mlp.fit(X_train, y_train)\n",
    "\n",
    "y_pred = model_mlp.predict(X_test)\n",
    "\n",
    "print(\"Accuracy:\", metrics.accuracy_score(y_test, y_pred))"
   ]
  },
  {
   "cell_type": "markdown",
   "metadata": {},
   "source": [
    "### Hyperparameter optimization"
   ]
  },
  {
   "cell_type": "code",
   "execution_count": null,
   "metadata": {},
   "outputs": [],
   "source": [
    "np.random.seed(23423)\n",
    "inside = ms.KFold(n_splits=10, shuffle=True)\n",
    "np.random.seed(73743)\n",
    "outside = ms.KFold(n_splits=10, shuffle=True)"
   ]
  },
  {
   "cell_type": "code",
   "execution_count": null,
   "metadata": {},
   "outputs": [],
   "source": [
    "np.random.seed(34543)\n",
    "# Hyperparameters for AdaBoostClassifier\n",
    "parameter_grid = {'n_estimators': [200, 250, 400, 500, 700],\n",
    "                  'max_features': [0.1, 0.25, 0.5, 1]}\n",
    "rfc_mdl = RandomForestClassifier(criterion=\"entropy\", class_weight=\"balanced\")\n",
    "\n",
    "clf = ms.GridSearchCV(estimator=rfc_mdl, \n",
    "                      param_grid = parameter_grid, \n",
    "                      cv=inside, \n",
    "                      scoring = 'accuracy',\n",
    "                      return_train_score = True\n",
    "                     )"
   ]
  },
  {
   "cell_type": "code",
   "execution_count": null,
   "metadata": {},
   "outputs": [],
   "source": [
    "data_samples = data.sample(50000)\n",
    "sample_features = PrepareFeatures(data_samples, cols_categorical)\n",
    "\n",
    "sample_features = np.concatenate([sample_features, np.array(data_samples[features_to_add])], axis = 1)\n",
    "\n",
    "clf.fit(sample_features, data_samples['accepted'])"
   ]
  },
  {
   "cell_type": "code",
   "execution_count": null,
   "metadata": {},
   "outputs": [],
   "source": [
    "keys = list(clf.cv_results_.keys())\n",
    "for key in keys[6:16]:\n",
    "    print(clf.cv_results_[key])\n",
    "## And print the best parameter value\n",
    "print('n_estimators', clf.best_estimator_.n_estimators)\n",
    "print('max_features', clf.best_estimator_.max_features)\n"
   ]
  },
  {
   "cell_type": "markdown",
   "metadata": {},
   "source": [
    "[{'max_features': 0.1, 'n_estimators': 200}, {'max_features': 0.1, 'n_estimators': 250}, {'max_features': 0.1, 'n_estimators': 400}, {'max_features': 0.1, 'n_estimators': 500}, {'max_features': 0.1, 'n_estimators': 700}, {'max_features': 0.25, 'n_estimators': 200}, {'max_features': 0.25, 'n_estimators': 250}, {'max_features': 0.25, 'n_estimators': 400}, {'max_features': 0.25, 'n_estimators': 500}, {'max_features': 0.25, 'n_estimators': 700}, {'max_features': 0.5, 'n_estimators': 200}, {'max_features': 0.5, 'n_estimators': 250}, {'max_features': 0.5, 'n_estimators': 400}, {'max_features': 0.5, 'n_estimators': 500}, {'max_features': 0.5, 'n_estimators': 700}, {'max_features': 1, 'n_estimators': 200}, {'max_features': 1, 'n_estimators': 250}, {'max_features': 1, 'n_estimators': 400}, {'max_features': 1, 'n_estimators': 500}, {'max_features': 1, 'n_estimators': 700}]\n",
    "[0.7022 0.704  0.703  0.704  0.7038 0.7052 0.7084 0.7078 0.711  0.71\n",
    " 0.7062 0.709  0.7076 0.7084 0.7062 0.6956 0.6928 0.6984 0.6994 0.6992]\n",
    "[0.7118 0.7112 0.7146 0.7148 0.7138 0.714  0.713  0.712  0.7152 0.7132\n",
    " 0.7114 0.7154 0.7118 0.7088 0.7138 0.7064 0.7098 0.7108 0.7132 0.7102]\n",
    "[0.7232 0.7276 0.727  0.7268 0.7264 0.7244 0.7258 0.7244 0.7294 0.7266\n",
    " 0.7256 0.7238 0.7252 0.726  0.7272 0.7116 0.7156 0.719  0.717  0.7154]\n",
    "[0.7062 0.71   0.706  0.7076 0.7092 0.7116 0.7126 0.7116 0.7118 0.7152\n",
    " 0.7082 0.71   0.7114 0.714  0.7148 0.7042 0.71   0.7064 0.7048 0.7058]\n",
    "[0.7246 0.7274 0.7246 0.725  0.7248 0.7244 0.727  0.7274 0.7256 0.7248\n",
    " 0.722  0.7236 0.723  0.7214 0.723  0.7216 0.7164 0.7218 0.72   0.7186]\n",
    "[0.714  0.7102 0.7142 0.7148 0.7116 0.7164 0.7164 0.7166 0.7146 0.715\n",
    " 0.7154 0.7142 0.7156 0.713  0.71   0.7004 0.7006 0.7092 0.7076 0.7042]\n",
    "[0.7152 0.7162 0.7154 0.7178 0.7166 0.72   0.7194 0.7178 0.718  0.7176\n",
    " 0.7102 0.71   0.7108 0.7114 0.712  0.7122 0.7128 0.7094 0.7156 0.7126]\n",
    "[0.7156 0.7176 0.7178 0.7146 0.7184 0.7148 0.7164 0.7174 0.7172 0.7198\n",
    " 0.713  0.7138 0.7162 0.7162 0.7178 0.7096 0.711  0.7106 0.7112 0.7132]\n",
    "[0.7148 0.713  0.715  0.7146 0.7142 0.7162 0.7214 0.7222 0.7194 0.7214\n",
    " 0.7186 0.721  0.7198 0.721  0.7216 0.7044 0.7054 0.7026 0.7016 0.704 ]\n",
    "n_estimators 700\n",
    "max_features 0.25"
   ]
  },
  {
   "cell_type": "markdown",
   "metadata": {},
   "source": [
    "# Fitting the test data"
   ]
  },
  {
   "cell_type": "code",
   "execution_count": 69,
   "metadata": {},
   "outputs": [
    {
     "name": "stdout",
     "output_type": "stream",
     "text": [
      "(500000, 21)\n",
      "<class 'pandas.core.frame.DataFrame'>\n",
      "Int64Index: 500000 entries, 0 to 499999\n",
      "Data columns (total 24 columns):\n",
      "loan_type                         500000 non-null int64\n",
      "property_type                     500000 non-null int64\n",
      "loan_purpose                      500000 non-null int64\n",
      "occupancy                         500000 non-null int64\n",
      "loan_amount                       500000 non-null float64\n",
      "preapproval                       500000 non-null int64\n",
      "msa_md                            500000 non-null int64\n",
      "state_code                        500000 non-null int64\n",
      "county_code                       500000 non-null int64\n",
      "applicant_ethnicity               500000 non-null int64\n",
      "applicant_race                    500000 non-null int64\n",
      "applicant_sex                     500000 non-null int64\n",
      "applicant_income                  459859 non-null float64\n",
      "population                        477520 non-null float64\n",
      "minority_population_pct           477518 non-null float64\n",
      "ffiecmedian_family_income         477547 non-null float64\n",
      "tract_to_msa_md_income_pct        477483 non-null float64\n",
      "number_of_owner-occupied_units    500000 non-null float64\n",
      "number_of_1_to_4_family_units     500000 non-null float64\n",
      "lender                            500000 non-null int64\n",
      "co_applicant                      500000 non-null bool\n",
      "lender_classification             500000 non-null float64\n",
      "is_minority                       500000 non-null int64\n",
      "income_approximated               500000 non-null float64\n",
      "dtypes: bool(1), float64(10), int64(13)\n",
      "memory usage: 92.0 MB\n",
      "(500000, 21)\n",
      "(500000, 28)\n"
     ]
    }
   ],
   "source": [
    "test_data = pd.read_csv('test_values.csv', index_col=0)\n",
    "print(test_data.shape)\n",
    "lender_classification = pd.read_csv('lender_classification.csv', index_col='lender')\n",
    "test_data['lender_classification'] = test_data['lender'].apply(lambda x: lender_classification.loc[x, 'accept_rate']\n",
    "                                                              if x in lender_classification.index else 0.5)\n",
    "\n",
    "#test_data['lender_size'] = test_data['lender'].apply(ClassifyLender, args=[test_data['lender'].value_counts()])\n",
    "test_data['is_minority'] = test_data['applicant_race'].apply(lambda x: 0 if x==5 else 1)\n",
    "\n",
    "#ReplaceNaN(test_data, 'msa_md', 'applicant_income', how='mean')\n",
    "test_data['income_approximated'] = test_data[['loan_amount','applicant_income']].apply(lambda x: 30.29 + 0.3458 * x[0] if (np.all(pd.isnull(x[1]))) else x[1], axis = 1)\n",
    "test_data['number_of_1_to_4_family_units'].fillna(method='ffill', inplace=True)\n",
    "test_data['number_of_owner-occupied_units'].fillna(method='ffill', inplace=True)\n",
    "\n",
    "\n",
    "cols_categorical = ['loan_type', 'property_type', 'loan_purpose', 'preapproval', \n",
    "                    'applicant_ethnicity', 'applicant_sex']\n",
    "\n",
    "features_to_add = ['loan_amount',\n",
    "                   'income_approximated',\n",
    "                   'lender_classification',\n",
    "                   'msa_md',\n",
    "                   'state_code',\n",
    "                   'county_code',\n",
    "                   'number_of_owner-occupied_units',\n",
    "]\n",
    "\n",
    "test_data.info()\n",
    "\n",
    "test_features = PrepareFeatures(test_data, cols_categorical)\n",
    "print(test_features.shape)\n",
    "\n",
    "test_features = np.concatenate([test_features, np.array(test_data[['co_applicant', \n",
    "                                                                   'is_minority',\n",
    "                                                                   'loan_amount',\n",
    "                                                                   'income_approximated',\n",
    "                                                                   'lender_classification',\n",
    "                                                                   'state_code',\n",
    "                                                                   'number_of_owner-occupied_units'\n",
    "                                                                  ]])], axis = 1)\n",
    "\n",
    "print(test_features.shape)\n"
   ]
  },
  {
   "cell_type": "code",
   "execution_count": 82,
   "metadata": {},
   "outputs": [],
   "source": [
    "y_test_pred = model_rfc2.predict(test_features)"
   ]
  },
  {
   "cell_type": "code",
   "execution_count": 83,
   "metadata": {},
   "outputs": [],
   "source": [
    "series = pd.Series(y_test_pred)"
   ]
  },
  {
   "cell_type": "code",
   "execution_count": 84,
   "metadata": {},
   "outputs": [
    {
     "data": {
      "text/plain": [
       "1    262612\n",
       "0    237388\n",
       "dtype: int64"
      ]
     },
     "execution_count": 84,
     "metadata": {},
     "output_type": "execute_result"
    }
   ],
   "source": [
    "series.value_counts()"
   ]
  },
  {
   "cell_type": "code",
   "execution_count": 73,
   "metadata": {},
   "outputs": [
    {
     "data": {
      "text/html": [
       "<div>\n",
       "<style scoped>\n",
       "    .dataframe tbody tr th:only-of-type {\n",
       "        vertical-align: middle;\n",
       "    }\n",
       "\n",
       "    .dataframe tbody tr th {\n",
       "        vertical-align: top;\n",
       "    }\n",
       "\n",
       "    .dataframe thead th {\n",
       "        text-align: right;\n",
       "    }\n",
       "</style>\n",
       "<table border=\"1\" class=\"dataframe\">\n",
       "  <thead>\n",
       "    <tr style=\"text-align: right;\">\n",
       "      <th></th>\n",
       "      <th>accepted</th>\n",
       "    </tr>\n",
       "    <tr>\n",
       "      <th>row_id</th>\n",
       "      <th></th>\n",
       "    </tr>\n",
       "  </thead>\n",
       "  <tbody>\n",
       "    <tr>\n",
       "      <th>0</th>\n",
       "      <td>1</td>\n",
       "    </tr>\n",
       "    <tr>\n",
       "      <th>1</th>\n",
       "      <td>1</td>\n",
       "    </tr>\n",
       "    <tr>\n",
       "      <th>2</th>\n",
       "      <td>0</td>\n",
       "    </tr>\n",
       "    <tr>\n",
       "      <th>3</th>\n",
       "      <td>1</td>\n",
       "    </tr>\n",
       "    <tr>\n",
       "      <th>4</th>\n",
       "      <td>0</td>\n",
       "    </tr>\n",
       "  </tbody>\n",
       "</table>\n",
       "</div>"
      ],
      "text/plain": [
       "        accepted\n",
       "row_id          \n",
       "0              1\n",
       "1              1\n",
       "2              0\n",
       "3              1\n",
       "4              0"
      ]
     },
     "execution_count": 73,
     "metadata": {},
     "output_type": "execute_result"
    }
   ],
   "source": [
    "test_output = pd.DataFrame(columns=['row_id', 'accepted'])\n",
    "test_output['accepted'] = series\n",
    "test_output['row_id'] = test_output.index\n",
    "test_output= test_output.set_index('row_id')\n",
    "test_output.head()"
   ]
  },
  {
   "cell_type": "code",
   "execution_count": 74,
   "metadata": {},
   "outputs": [],
   "source": [
    "test_output.to_csv('submission-v9.csv')"
   ]
  },
  {
   "cell_type": "code",
   "execution_count": null,
   "metadata": {},
   "outputs": [],
   "source": []
  }
 ],
 "metadata": {
  "kernelspec": {
   "display_name": "Python 3",
   "language": "python",
   "name": "python3"
  },
  "language_info": {
   "codemirror_mode": {
    "name": "ipython",
    "version": 3
   },
   "file_extension": ".py",
   "mimetype": "text/x-python",
   "name": "python",
   "nbconvert_exporter": "python",
   "pygments_lexer": "ipython3",
   "version": "3.7.3"
  }
 },
 "nbformat": 4,
 "nbformat_minor": 2
}
